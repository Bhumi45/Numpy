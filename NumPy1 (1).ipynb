{
 "cells": [
  {
   "cell_type": "markdown",
   "id": "dbed1fe1-d700-41b3-8a0d-f044c35d23f3",
   "metadata": {},
   "source": [
    "<h1><font color='Green'>NumPy</h1></font>\n",
    "\n",
    "- NumPy (Numerical Python) is an open source Python library that’s widely used in science and engineering.(to solve complex problems , mathematical problems of computer).\n",
    "\n",
    "<h1><font color='Green'>Why Use NumPy</h1></font>\n",
    "\n",
    "- Python lists are excellent, general-purpose containers. They can be “heterogeneous”, meaning that they can contain elements of a variety of types, and they are quite fast when used to perform individual operations on a handful of elements.\n",
    "- Whereas NumPy shines when there are large quantities of “homogeneous” (same-type) data to be processed on the CPU.It helps you do things faster and uses less space when you're dealing with large amounts of data."
   ]
  },
  {
   "cell_type": "markdown",
   "id": "73b3d86d-d473-478b-919a-6aed1937713c",
   "metadata": {
    "jp-MarkdownHeadingCollapsed": true
   },
   "source": [
    "<h1>Numpy Arrays Vs Python Sequences</h1>\n",
    "NumPy arrays have a fixed size at creation, unlike Python lists (which can grow dynamically). Changing the size of an ndarray will create a new array and delete the original.\n",
    "\n",
    "The elements in a NumPy array are all required to be of the same data type, and thus will be the same size in memory.\n",
    "\n",
    "NumPy arrays facilitate advanced mathematical and other types of operations on large numbers of data. Typically, such operations are executed more efficiently and with less code than is possible using Python’s built-in sequences.\n",
    "\n",
    "A growing plethora of scientific and mathematical Python-based packages are using NumPy arrays; though these typically support Python-sequence input, they convert such input to NumPy arrays prior to processing, and they often output NumPy arrays."
   ]
  },
  {
   "cell_type": "markdown",
   "id": "8ddc01e7-40bf-41d0-86f2-3b0e345b21c4",
   "metadata": {
    "jp-MarkdownHeadingCollapsed": true
   },
   "source": [
    "<h1><font color='Green'>What is an “array”?</h1></font>\n",
    "\n",
    "- An array is a structure for storing and retrieving data. We often talk about an array as if it were a grid in space, with each cell storing one element of the data.\n",
    "\n",
    "- <h3>Types of Array</h3>\n",
    "1. One-Dimensional Array (1D): Imagine a simple list of numbers, like a shopping list. It's just a single line of items.\n",
    "\n",
    "2. Two-Dimensional Array (2D): Now imagine a table, like a spreadsheet with rows and columns. Each cell can hold a value, and you can move left-right and up-down.\n",
    "\n",
    "3. Three-Dimensional Array (3D): Now, think of several of these tables stacked on top of each other, like a book with pages. Each \"page\" is a 2D table, and you can move through pages as well as within each table.\n",
    "\n",
    "So, a 3D array is like having a set of tables (2D arrays) stacked on top of each other, allowing you to access data in three directions: along the rows, along the columns, and across the pages.\n",
    "\n"
   ]
  },
  {
   "cell_type": "markdown",
   "id": "051dd022-31d2-4892-819f-e2bc518a8b7b",
   "metadata": {},
   "source": [
    "<h1><font color='Green'>Why is NumPy fast?</h1></font>\n",
    "\n",
    "<h3>Vectorization</h3> means writing code without explicit loops or indexing, as these operations are handled in the background by optimized, pre-compiled C code. This approach has several advantages:\n",
    "\n",
    " - 1. It is more concise and easier to read.\n",
    " - 2. Fewer lines of code reduce the chances of bugs.\n",
    " - 3. The code resembles standard mathematical notation, making it easier to implement mathematical concepts correctly.\n",
    " - 4. It leads to more efficient and \"Pythonic\" code, avoiding cluttered and slow loops.\n",
    "\n",
    "<h3>BroadCasting(reshaping of smaller array)</h3>Broadcasting in NumPy refers to the automatic element-wise behavior of operations. It allows operations on arrays of different shapes, as long as the smaller array can be expanded to match the shape of the larger array in an unambiguous way. This applies to all operations, including arithmetic, logical, and functional ones.\n",
    "\n",
    "- Broadcasting in NumPy is a way to perform operations on arrays of different shapes by automatically expanding the smaller array to match the shape of the larger one. This avoids writing explicit loops and makes operations faster and easier.\n",
    "- In communication, broadcasting refers to sending a single message to multiple recipients.\n",
    "- For example:\n",
    "   - A TV station broadcasts a single signal that reaches many televisions.\n",
    "   - The same signal is \"expanded\" to be consumed by different audiences.\n",
    "- NumPy Broadcasting:\n",
    "- In NumPy, broadcasting works similarly:\n",
    "- A smaller array (or scalar) is \"expanded\" to match the shape of a larger array, just like a broadcast signal is shared with multiple recipients.\n",
    "Instead of physically duplicating the data, NumPy conceptually repeats the smaller array across the dimensions needed for the operation.nt(result)\r\n",
    "]\r\n",
    "s + offset\r\n"
   ]
  },
  {
   "cell_type": "raw",
   "id": "ca099110-eaaa-49c8-b9c9-51c149abe569",
   "metadata": {},
   "source": [
    "- ```python```\n",
    "# Create a 2D array with shape (2, 3)\n",
    "a = np.array([[1, 2, 3], [4, 5, 6]])  Shape: (2, 3)\n",
    "\n",
    "# Create a 1D array with shape (3,)\n",
    "b = np.array([10, 20, 30])            Shape: (3,)\n",
    "\n",
    "# Perform broadcasting and element-wise addition\n",
    "result = a + b\n",
    "\n",
    "# Print the result\n",
    "print(result)"
   ]
  },
  {
   "cell_type": "markdown",
   "id": "f11bbff0-4a29-40c2-a81e-4762e041c8d7",
   "metadata": {},
   "source": [
    "<font color=\"red\"><h3>Array Fundamentals</h3></font>"
   ]
  },
  {
   "cell_type": "markdown",
   "id": "f0c1a679-c41c-4d09-99d6-10a893d63af1",
   "metadata": {},
   "source": [
    "<h3>np.array</h3>"
   ]
  },
  {
   "cell_type": "code",
   "execution_count": 6,
   "id": "38c44ef4-550e-4dd1-ba96-3b37e1e1de4d",
   "metadata": {},
   "outputs": [
    {
     "name": "stdout",
     "output_type": "stream",
     "text": [
      "[1 2 3 4 5]\n",
      "<class 'numpy.ndarray'>\n"
     ]
    }
   ],
   "source": [
    "'''One way to initialize an array is using a Python sequence, such as a list.'''\n",
    "import numpy as np\n",
    "a=[1,2,3,4,5]\n",
    "n=np.array(a)\n",
    "print(n)\n",
    "print(type(n))\n",
    "#1D array"
   ]
  },
  {
   "cell_type": "code",
   "execution_count": 28,
   "id": "9ce9ce06-91fa-4cca-8100-22a4331ff907",
   "metadata": {},
   "outputs": [
    {
     "name": "stdout",
     "output_type": "stream",
     "text": [
      "1\n",
      "2\n",
      "3\n",
      "4\n",
      "5\n"
     ]
    }
   ],
   "source": [
    "'''access element'''\n",
    "for i in n-1:\n",
    "    print(n[i])"
   ]
  },
  {
   "cell_type": "code",
   "execution_count": 68,
   "id": "d73dd941-80fd-4235-8609-99af35ac17ca",
   "metadata": {},
   "outputs": [
    {
     "name": "stdout",
     "output_type": "stream",
     "text": [
      "[10  2  3  4  5]\n"
     ]
    }
   ],
   "source": [
    "n[0]=10\n",
    "print(n)"
   ]
  },
  {
   "cell_type": "code",
   "execution_count": 70,
   "id": "76f590ae-4bb9-4fa6-a550-fce12c72ecb5",
   "metadata": {},
   "outputs": [
    {
     "data": {
      "text/plain": [
       "array([10,  2,  3])"
      ]
     },
     "execution_count": 70,
     "metadata": {},
     "output_type": "execute_result"
    }
   ],
   "source": [
    "'''Python slice notation can be used for indexing.'''\n",
    "n[:3]"
   ]
  },
  {
   "cell_type": "code",
   "execution_count": 72,
   "id": "8f1cf8ea-abec-4d5d-bf6a-c19676bbb2ea",
   "metadata": {},
   "outputs": [
    {
     "data": {
      "text/plain": [
       "array([3, 4])"
      ]
     },
     "execution_count": 72,
     "metadata": {},
     "output_type": "execute_result"
    }
   ],
   "source": [
    "n[-3:-1]"
   ]
  },
  {
   "cell_type": "code",
   "execution_count": 74,
   "id": "989f3a84-d6dc-4972-bfb0-91b47f60fa25",
   "metadata": {},
   "outputs": [
    {
     "data": {
      "text/plain": [
       "array([2])"
      ]
     },
     "execution_count": 74,
     "metadata": {},
     "output_type": "execute_result"
    }
   ],
   "source": [
    "n[1:2]"
   ]
  },
  {
   "cell_type": "code",
   "execution_count": 12,
   "id": "924253cf-bf08-4cdd-92eb-c761cbcbdb86",
   "metadata": {},
   "outputs": [
    {
     "name": "stdout",
     "output_type": "stream",
     "text": [
      "[[1 2 3]\n",
      " [4 5 6]]\n"
     ]
    }
   ],
   "source": [
    "''' 2D and 3D array'''\n",
    "import numpy as np\n",
    "b=np.array([[1,2,3],[4,5,6]])\n",
    "print(b)"
   ]
  },
  {
   "cell_type": "code",
   "execution_count": 14,
   "id": "294f7c37-ccc3-4eb7-a3fa-cfc9d62fc8f1",
   "metadata": {},
   "outputs": [
    {
     "name": "stdout",
     "output_type": "stream",
     "text": [
      "[[[1 2]\n",
      "  [3 4]\n",
      "  [5 6]\n",
      "  [7 8]]]\n"
     ]
    }
   ],
   "source": [
    "c=np.array([[[1,2],[3,4],[5,6],[7,8]]]) #also called tensor.\n",
    "print(c)"
   ]
  },
  {
   "cell_type": "code",
   "execution_count": 18,
   "id": "565595b9-a7a2-4ad0-b89d-6dc11b947fea",
   "metadata": {},
   "outputs": [
    {
     "data": {
      "text/plain": [
       "array([1., 2., 3., 4.])"
      ]
     },
     "execution_count": 18,
     "metadata": {},
     "output_type": "execute_result"
    }
   ],
   "source": [
    "'''create an array of your choosen datatype'''\n",
    "df=np.array([1,2,3,4],dtype=float)\n",
    "df"
   ]
  },
  {
   "cell_type": "code",
   "execution_count": 53,
   "id": "c8253c93-8067-4eb1-801c-f3e4ccdda9f8",
   "metadata": {},
   "outputs": [
    {
     "data": {
      "text/plain": [
       "array([[ True,  True],\n",
       "       [ True, False]])"
      ]
     },
     "execution_count": 53,
     "metadata": {},
     "output_type": "execute_result"
    }
   ],
   "source": [
    "np.array([1,2,3,0],dtype=bool).reshape(2,2)"
   ]
  },
  {
   "cell_type": "markdown",
   "id": "e3c2ee05-63e0-4043-9823-a1225eb6fdf2",
   "metadata": {},
   "source": [
    "<h3>np.arange</h3>\n",
    "\n",
    "- In this we provide the range of the array.It is similar to range function in python."
   ]
  },
  {
   "cell_type": "code",
   "execution_count": 27,
   "id": "0058f0f5-6d54-4cd5-9c12-8fcbc85f04b7",
   "metadata": {},
   "outputs": [
    {
     "data": {
      "text/plain": [
       "array([1, 2, 3, 4, 5, 6, 7, 8, 9])"
      ]
     },
     "execution_count": 27,
     "metadata": {},
     "output_type": "execute_result"
    }
   ],
   "source": [
    "np.arange(1,10)"
   ]
  },
  {
   "cell_type": "code",
   "execution_count": 29,
   "id": "c60238c0-a257-45da-a371-153c1779079d",
   "metadata": {},
   "outputs": [
    {
     "data": {
      "text/plain": [
       "array([1, 3, 5, 7, 9])"
      ]
     },
     "execution_count": 29,
     "metadata": {},
     "output_type": "execute_result"
    }
   ],
   "source": [
    "''' here also we can provide stride/steps'''\n",
    "np.arange(1,10,2)"
   ]
  },
  {
   "cell_type": "code",
   "execution_count": 35,
   "id": "ed8cb253-8a41-4700-bdb5-832d1f5d9e84",
   "metadata": {},
   "outputs": [
    {
     "data": {
      "text/plain": [
       "array([1, 3, 5, 7, 9])"
      ]
     },
     "execution_count": 35,
     "metadata": {},
     "output_type": "execute_result"
    }
   ],
   "source": [
    "''' reshape : converts the given numpy array into another shape'''\n",
    "np.arange(1,10,2)"
   ]
  },
  {
   "cell_type": "code",
   "execution_count": 51,
   "id": "b7ab9263-f2ad-4b7d-89c6-11f146e0a517",
   "metadata": {},
   "outputs": [
    {
     "data": {
      "text/plain": [
       "array([[ 1,  2],\n",
       "       [ 3,  4],\n",
       "       [ 5,  6],\n",
       "       [ 7,  8],\n",
       "       [ 9, 10],\n",
       "       [11, 12]])"
      ]
     },
     "execution_count": 51,
     "metadata": {},
     "output_type": "execute_result"
    }
   ],
   "source": [
    "# i want to convert this 1D array to 2D array of different size\n",
    "np.arange(1,13).reshape(6,2)\n",
    "#To reshape it into a 2D array, the shape must match the total number of elements.\n",
    "# the product of row and column should be equal to the number of elements in an array"
   ]
  },
  {
   "cell_type": "markdown",
   "id": "7464d0a4-f1ca-4542-a28a-1972de24c38a",
   "metadata": {},
   "source": [
    "<h3>np.ones and np.zeros</h3>\n",
    "\n",
    "- np.ones will create an array filled with 1 values. It can be used to initialize array.\n",
    "- np.zeros will create an array filled with 0 values.\n",
    "\n"
   ]
  },
  {
   "cell_type": "code",
   "execution_count": 240,
   "id": "8e6dbcdc-012b-4d86-bd64-ae21facbdbcb",
   "metadata": {},
   "outputs": [
    {
     "data": {
      "text/plain": [
       "array([[1., 1., 1.],\n",
       "       [1., 1., 1.]])"
      ]
     },
     "execution_count": 240,
     "metadata": {},
     "output_type": "execute_result"
    }
   ],
   "source": [
    "np.ones((2,3))"
   ]
  },
  {
   "cell_type": "code",
   "execution_count": 68,
   "id": "524ab893-9218-4bd1-8c5e-148c177a2fcc",
   "metadata": {},
   "outputs": [
    {
     "data": {
      "text/plain": [
       "array([[1, 1, 1],\n",
       "       [1, 1, 1]])"
      ]
     },
     "execution_count": 68,
     "metadata": {},
     "output_type": "execute_result"
    }
   ],
   "source": [
    "np.ones((2,3),dtype=int)"
   ]
  },
  {
   "cell_type": "code",
   "execution_count": 74,
   "id": "6a3990ef-a5a5-43d9-ac58-3477330454e1",
   "metadata": {},
   "outputs": [
    {
     "data": {
      "text/plain": [
       "array([[1., 1., 1., 1., 1.],\n",
       "       [1., 1., 1., 1., 1.],\n",
       "       [1., 1., 1., 1., 1.],\n",
       "       [1., 1., 1., 1., 1.]])"
      ]
     },
     "execution_count": 74,
     "metadata": {},
     "output_type": "execute_result"
    }
   ],
   "source": [
    "np.ones((4,5))"
   ]
  },
  {
   "cell_type": "code",
   "execution_count": 82,
   "id": "ff8749da-b5a5-4e8e-90cc-7ce41e457b02",
   "metadata": {},
   "outputs": [
    {
     "data": {
      "text/plain": [
       "array([[0, 0, 0],\n",
       "       [0, 0, 0]])"
      ]
     },
     "execution_count": 82,
     "metadata": {},
     "output_type": "execute_result"
    }
   ],
   "source": [
    "np.zeros((2,3),dtype=int)"
   ]
  },
  {
   "cell_type": "markdown",
   "id": "dd0f093f-b6b5-4843-bbbd-247a58cb8ff8",
   "metadata": {},
   "source": [
    "<h3>np.random</h3>\n",
    "\n",
    "- it is used to generate an array intialised with random numbers.\n",
    "- <h5>Q:</h5>can we create an array by generating random numbers bertween 2 given numbers?\n",
    "- <h5>Ans</h5>yes we can do that using np.random.randint(lower_range,upper_range,no.of elements)\n"
   ]
  },
  {
   "cell_type": "code",
   "execution_count": 100,
   "id": "abc87ebf-3193-4c29-be05-fff4d613b327",
   "metadata": {},
   "outputs": [
    {
     "data": {
      "text/plain": [
       "array([[0.18315315, 0.77412335, 0.29722116],\n",
       "       [0.05988309, 0.10649673, 0.0504046 ],\n",
       "       [0.17272351, 0.73668717, 0.06312695]])"
      ]
     },
     "execution_count": 100,
     "metadata": {},
     "output_type": "execute_result"
    }
   ],
   "source": [
    "'''the output values are not fixed, every time you run the code the output will be different'''\n",
    "np.random.random((3,3))# it generate random values between 0 and 1"
   ]
  },
  {
   "cell_type": "code",
   "execution_count": null,
   "id": "2f9a4c26-a6fc-4b7b-bd9e-c6668f2c5d20",
   "metadata": {},
   "outputs": [],
   "source": []
  },
  {
   "cell_type": "code",
   "execution_count": 102,
   "id": "a6299ed7-ddbb-43b5-805d-e1970b89d6b1",
   "metadata": {},
   "outputs": [
    {
     "ename": "TypeError",
     "evalue": "random() got an unexpected keyword argument 'dtype'",
     "output_type": "error",
     "traceback": [
      "\u001b[1;31m---------------------------------------------------------------------------\u001b[0m",
      "\u001b[1;31mTypeError\u001b[0m                                 Traceback (most recent call last)",
      "Cell \u001b[1;32mIn[102], line 1\u001b[0m\n\u001b[1;32m----> 1\u001b[0m np\u001b[38;5;241m.\u001b[39mrandom\u001b[38;5;241m.\u001b[39mrandom((\u001b[38;5;241m3\u001b[39m,\u001b[38;5;241m3\u001b[39m),dtype\u001b[38;5;241m=\u001b[39m\u001b[38;5;28mint\u001b[39m)\n",
      "File \u001b[1;32mnumpy\\\\random\\\\mtrand.pyx:439\u001b[0m, in \u001b[0;36mnumpy.random.mtrand.RandomState.random\u001b[1;34m()\u001b[0m\n",
      "\u001b[1;31mTypeError\u001b[0m: random() got an unexpected keyword argument 'dtype'"
     ]
    }
   ],
   "source": [
    "np.random.random((3,3),dtype=int)"
   ]
  },
  {
   "cell_type": "code",
   "execution_count": 149,
   "id": "eb819585-ca35-4d91-8f17-e6abc4130185",
   "metadata": {},
   "outputs": [
    {
     "ename": "TypeError",
     "evalue": "random() takes at most 1 positional argument (2 given)",
     "output_type": "error",
     "traceback": [
      "\u001b[1;31m---------------------------------------------------------------------------\u001b[0m",
      "\u001b[1;31mTypeError\u001b[0m                                 Traceback (most recent call last)",
      "Cell \u001b[1;32mIn[149], line 1\u001b[0m\n\u001b[1;32m----> 1\u001b[0m np\u001b[38;5;241m.\u001b[39mrandom\u001b[38;5;241m.\u001b[39mrandom(\u001b[38;5;241m3\u001b[39m,\u001b[38;5;241m3\u001b[39m,dtype\u001b[38;5;241m=\u001b[39m\u001b[38;5;28mint\u001b[39m)\n",
      "File \u001b[1;32mnumpy\\\\random\\\\mtrand.pyx:439\u001b[0m, in \u001b[0;36mnumpy.random.mtrand.RandomState.random\u001b[1;34m()\u001b[0m\n",
      "\u001b[1;31mTypeError\u001b[0m: random() takes at most 1 positional argument (2 given)"
     ]
    }
   ],
   "source": [
    "np.random.random(3,3,dtype=int)"
   ]
  },
  {
   "cell_type": "markdown",
   "id": "685fe26a-a72b-4a76-8f87-67acb5211c71",
   "metadata": {},
   "source": [
    "<h3>np.linspace</h3>: full form is linear space.\n",
    "\n",
    "- it has 3 parameters range(upper and lower range),total numbers/items to generate\n",
    "- it generate points at a given range with equal distance.\n",
    "- will create arrays with a specified number of elements, and spaced equally between the specified beginning and end values.\n",
    "- the distance between 2 points will be same."
   ]
  },
  {
   "cell_type": "code",
   "execution_count": 147,
   "id": "8f9c6ad9-f2ad-4e1b-b77a-4ddc819e1d89",
   "metadata": {},
   "outputs": [
    {
     "data": {
      "text/plain": [
       "array([-10,  -5,   0,   5,  10])"
      ]
     },
     "execution_count": 147,
     "metadata": {},
     "output_type": "execute_result"
    }
   ],
   "source": [
    "np.linspace(-10,10,5,dtype=int)\n",
    "#'''here the distance between any two points is -5'''\n"
   ]
  },
  {
   "cell_type": "markdown",
   "id": "32b69062-94e1-4cb6-8cb8-40a652cc3b36",
   "metadata": {},
   "source": [
    "<h3>np.identity</h3>\n",
    "\n",
    "- it is used to create an identity matrix. A matrix with all the diagonal elements 1."
   ]
  },
  {
   "cell_type": "code",
   "execution_count": 125,
   "id": "8f1f6a31-247b-415c-a82e-6fccc59f4368",
   "metadata": {},
   "outputs": [
    {
     "ename": "TypeError",
     "evalue": "Cannot interpret '3' as a data type",
     "output_type": "error",
     "traceback": [
      "\u001b[1;31m---------------------------------------------------------------------------\u001b[0m",
      "\u001b[1;31mTypeError\u001b[0m                                 Traceback (most recent call last)",
      "Cell \u001b[1;32mIn[125], line 1\u001b[0m\n\u001b[1;32m----> 1\u001b[0m np\u001b[38;5;241m.\u001b[39midentity(\u001b[38;5;241m2\u001b[39m,\u001b[38;5;241m3\u001b[39m)\n",
      "File \u001b[1;32mC:\\ProgramData\\anaconda3\\Lib\\site-packages\\numpy\\core\\numeric.py:2160\u001b[0m, in \u001b[0;36midentity\u001b[1;34m(n, dtype, like)\u001b[0m\n\u001b[0;32m   2157\u001b[0m     \u001b[38;5;28;01mreturn\u001b[39;00m _identity_with_like(like, n, dtype\u001b[38;5;241m=\u001b[39mdtype)\n\u001b[0;32m   2159\u001b[0m \u001b[38;5;28;01mfrom\u001b[39;00m \u001b[38;5;21;01mnumpy\u001b[39;00m \u001b[38;5;28;01mimport\u001b[39;00m eye\n\u001b[1;32m-> 2160\u001b[0m \u001b[38;5;28;01mreturn\u001b[39;00m eye(n, dtype\u001b[38;5;241m=\u001b[39mdtype, like\u001b[38;5;241m=\u001b[39mlike)\n",
      "File \u001b[1;32mC:\\ProgramData\\anaconda3\\Lib\\site-packages\\numpy\\lib\\twodim_base.py:211\u001b[0m, in \u001b[0;36meye\u001b[1;34m(N, M, k, dtype, order, like)\u001b[0m\n\u001b[0;32m    209\u001b[0m \u001b[38;5;28;01mif\u001b[39;00m M \u001b[38;5;129;01mis\u001b[39;00m \u001b[38;5;28;01mNone\u001b[39;00m:\n\u001b[0;32m    210\u001b[0m     M \u001b[38;5;241m=\u001b[39m N\n\u001b[1;32m--> 211\u001b[0m m \u001b[38;5;241m=\u001b[39m zeros((N, M), dtype\u001b[38;5;241m=\u001b[39mdtype, order\u001b[38;5;241m=\u001b[39morder)\n\u001b[0;32m    212\u001b[0m \u001b[38;5;28;01mif\u001b[39;00m k \u001b[38;5;241m>\u001b[39m\u001b[38;5;241m=\u001b[39m M:\n\u001b[0;32m    213\u001b[0m     \u001b[38;5;28;01mreturn\u001b[39;00m m\n",
      "\u001b[1;31mTypeError\u001b[0m: Cannot interpret '3' as a data type"
     ]
    }
   ],
   "source": [
    "np.identity(2,3)"
   ]
  },
  {
   "cell_type": "code",
   "execution_count": 129,
   "id": "18bfce65-909a-4da6-b196-5eee0dc3f56a",
   "metadata": {},
   "outputs": [
    {
     "data": {
      "text/plain": [
       "array([[1., 0., 0., 0.],\n",
       "       [0., 1., 0., 0.],\n",
       "       [0., 0., 1., 0.],\n",
       "       [0., 0., 0., 1.]])"
      ]
     },
     "execution_count": 129,
     "metadata": {},
     "output_type": "execute_result"
    }
   ],
   "source": [
    "np.identity(4) # give number of diagonal in a matrix as parameter."
   ]
  },
  {
   "cell_type": "code",
   "execution_count": 131,
   "id": "8a565b4d-0d0f-4959-a762-324378ae514b",
   "metadata": {},
   "outputs": [
    {
     "data": {
      "text/plain": [
       "array([[1, 0, 0, 0],\n",
       "       [0, 1, 0, 0],\n",
       "       [0, 0, 1, 0],\n",
       "       [0, 0, 0, 1]])"
      ]
     },
     "execution_count": 131,
     "metadata": {},
     "output_type": "execute_result"
    }
   ],
   "source": [
    " np.identity((4),dtype=int)"
   ]
  },
  {
   "cell_type": "code",
   "execution_count": 145,
   "id": "c798a2b1-8544-41fe-94a3-b345206c4f1d",
   "metadata": {},
   "outputs": [
    {
     "data": {
      "text/plain": [
       "array([[1, 0, 0],\n",
       "       [0, 1, 0],\n",
       "       [0, 0, 1]])"
      ]
     },
     "execution_count": 145,
     "metadata": {},
     "output_type": "execute_result"
    }
   ],
   "source": [
    "np.eye(3,3,dtype=int) # another method to create a identity matrix"
   ]
  },
  {
   "cell_type": "markdown",
   "id": "e43cd06f-ea8c-493f-8c1b-433b41829a2e",
   "metadata": {},
   "source": [
    "<h2>Array Attributes</h2>\n",
    "\n",
    "- Every numpy array is object of numpy class , so each object(numpy array)can access attributes of\n",
    "  numpy class."
   ]
  },
  {
   "cell_type": "code",
   "execution_count": 216,
   "id": "2406f051-60be-4a62-811f-992ffe1656a1",
   "metadata": {},
   "outputs": [],
   "source": [
    "a1=np.arange(10) #vector\n",
    "a2=np.arange(12,dtype=float).reshape(3,4) #matrix\n",
    "a3=np.arange(8).reshape(2,2,2) #tensor"
   ]
  },
  {
   "cell_type": "markdown",
   "id": "d5bd799f-1665-43e8-8d8e-dafcb38ad594",
   "metadata": {},
   "source": [
    "<h3>1.ndim</h3>\n",
    "\n",
    "- with the help of ndim(no.of dimension)"
   ]
  },
  {
   "cell_type": "code",
   "execution_count": 167,
   "id": "323298ad-6716-4c7c-9348-a532bd9ae90d",
   "metadata": {},
   "outputs": [
    {
     "data": {
      "text/plain": [
       "1"
      ]
     },
     "execution_count": 167,
     "metadata": {},
     "output_type": "execute_result"
    }
   ],
   "source": [
    "a1.ndim"
   ]
  },
  {
   "cell_type": "code",
   "execution_count": 169,
   "id": "3c19cea8-5e14-47ba-9eb7-ce248e659f8f",
   "metadata": {},
   "outputs": [
    {
     "data": {
      "text/plain": [
       "2"
      ]
     },
     "execution_count": 169,
     "metadata": {},
     "output_type": "execute_result"
    }
   ],
   "source": [
    "a2.ndim #(row and col)"
   ]
  },
  {
   "cell_type": "code",
   "execution_count": 171,
   "id": "cbe00b4f-d650-4d75-ac69-d1724e68fb78",
   "metadata": {},
   "outputs": [
    {
     "data": {
      "text/plain": [
       "3"
      ]
     },
     "execution_count": 171,
     "metadata": {},
     "output_type": "execute_result"
    }
   ],
   "source": [
    "a3.ndim"
   ]
  },
  {
   "cell_type": "markdown",
   "id": "e72ade74-25a4-4fd1-9422-12edb563846f",
   "metadata": {},
   "source": [
    "<h3>shape</h3>\n",
    "\n",
    "- it tells the no. of items in each dimension , basically tell us no. of row and col."
   ]
  },
  {
   "cell_type": "code",
   "execution_count": 174,
   "id": "93c2588b-4166-44e9-a7db-b1f730d34b29",
   "metadata": {},
   "outputs": [
    {
     "data": {
      "text/plain": [
       "(10,)"
      ]
     },
     "execution_count": 174,
     "metadata": {},
     "output_type": "execute_result"
    }
   ],
   "source": [
    "a1.shape #1D numpy array and in pne direction there are 10 items."
   ]
  },
  {
   "cell_type": "code",
   "execution_count": 176,
   "id": "87afe1e0-0e44-400e-bf2b-809de9726de1",
   "metadata": {},
   "outputs": [
    {
     "data": {
      "text/plain": [
       "(3, 4)"
      ]
     },
     "execution_count": 176,
     "metadata": {},
     "output_type": "execute_result"
    }
   ],
   "source": [
    "a2.shape #3 rows and 4 columns"
   ]
  },
  {
   "cell_type": "code",
   "execution_count": 180,
   "id": "c1432efd-2892-433d-9d53-392ceb3b1565",
   "metadata": {},
   "outputs": [
    {
     "data": {
      "text/plain": [
       "(2, 2, 2)"
      ]
     },
     "execution_count": 180,
     "metadata": {},
     "output_type": "execute_result"
    }
   ],
   "source": [
    "a3.shape #3D array is the combination of two 2d array.\n",
    "#here first 2 tells how many 2d array are combined.\n",
    "# the next 2,2 tells the size of the 2d array combined."
   ]
  },
  {
   "cell_type": "markdown",
   "id": "dcc74808-aab1-4d9d-ab4d-5557a6fad186",
   "metadata": {},
   "source": [
    "<h3>size</h3>\n",
    "\n",
    "- no.. of items in an array"
   ]
  },
  {
   "cell_type": "code",
   "execution_count": 185,
   "id": "af558eb6-21a4-41d7-ad1d-a2b865db033b",
   "metadata": {},
   "outputs": [
    {
     "data": {
      "text/plain": [
       "10"
      ]
     },
     "execution_count": 185,
     "metadata": {},
     "output_type": "execute_result"
    }
   ],
   "source": [
    "a1.size\n"
   ]
  },
  {
   "cell_type": "code",
   "execution_count": 189,
   "id": "462406bb-a32f-4b1b-836e-d5b0b0d54b45",
   "metadata": {},
   "outputs": [
    {
     "data": {
      "text/plain": [
       "12"
      ]
     },
     "execution_count": 189,
     "metadata": {},
     "output_type": "execute_result"
    }
   ],
   "source": [
    "a2.size  #(row * col)"
   ]
  },
  {
   "cell_type": "code",
   "execution_count": 193,
   "id": "0a4955bb-ce0b-4d2e-92ea-6ee3fbdad088",
   "metadata": {},
   "outputs": [
    {
     "data": {
      "text/plain": [
       "8"
      ]
     },
     "execution_count": 193,
     "metadata": {},
     "output_type": "execute_result"
    }
   ],
   "source": [
    "a3.size #(r*c*h)"
   ]
  },
  {
   "cell_type": "markdown",
   "id": "f429d487-e2a5-409a-8ace-eb822bbee11f",
   "metadata": {},
   "source": [
    "<h3>itemsize</h3>\n",
    "\n",
    "- it tells the amount of space occupied by each element"
   ]
  },
  {
   "cell_type": "code",
   "execution_count": 214,
   "id": "c1c94137-cb12-404e-97ea-427701b54aa5",
   "metadata": {},
   "outputs": [
    {
     "data": {
      "text/plain": [
       "8"
      ]
     },
     "execution_count": 214,
     "metadata": {},
     "output_type": "execute_result"
    }
   ],
   "source": [
    "a1.itemsize #since the items of a1 are integer."
   ]
  },
  {
   "cell_type": "code",
   "execution_count": 198,
   "id": "e582ba35-0a88-4488-9ed8-646cabb57f8b",
   "metadata": {},
   "outputs": [
    {
     "data": {
      "text/plain": [
       "12"
      ]
     },
     "execution_count": 198,
     "metadata": {},
     "output_type": "execute_result"
    }
   ],
   "source": [
    "a2.size #items of a2 are float"
   ]
  },
  {
   "cell_type": "code",
   "execution_count": 210,
   "id": "41424268-ebfc-404e-bac7-4bed95124532",
   "metadata": {},
   "outputs": [
    {
     "data": {
      "text/plain": [
       "8"
      ]
     },
     "execution_count": 210,
     "metadata": {},
     "output_type": "execute_result"
    }
   ],
   "source": [
    "a3.size # because it is 3 dimension if dtype is int64 then itemsize is 8 if int32 then 4 bytes"
   ]
  },
  {
   "cell_type": "code",
   "execution_count": 224,
   "id": "cc1b79c3-a123-47a0-a5c0-49be0f7573d1",
   "metadata": {},
   "outputs": [
    {
     "name": "stdout",
     "output_type": "stream",
     "text": [
      "8\n"
     ]
    }
   ],
   "source": [
    "a4=np.arange(10,dtype=np.int64)\n",
    "print(a4.itemsize)"
   ]
  },
  {
   "cell_type": "markdown",
   "id": "7e1fb23a-08c4-4588-ab0d-df8df23a4e21",
   "metadata": {},
   "source": [
    "<h3>dtype</h3>\n",
    "\n",
    "- tells the datatypes of items in an array\n"
   ]
  },
  {
   "cell_type": "code",
   "execution_count": 232,
   "id": "14ed2ab7-af4b-4ab6-88de-b13acadbe03b",
   "metadata": {},
   "outputs": [
    {
     "name": "stdout",
     "output_type": "stream",
     "text": [
      "int32\n",
      "float64\n",
      "int32\n"
     ]
    }
   ],
   "source": [
    "print(a1.dtype)\n",
    "print(a2.dtype)\n",
    "print(a3.dtype)"
   ]
  },
  {
   "cell_type": "markdown",
   "id": "5a961e63-0383-43b1-a927-af4296efd555",
   "metadata": {},
   "source": [
    "<h2>Changing DataTypes</h2>\n",
    "\n",
    "- it helps in reducing the memory consumption,for eg: is we an column age with float values but float are not very helpful and are not appropiate for age column so we can change it into integer type using <font color='red'>astype</font>"
   ]
  },
  {
   "cell_type": "code",
   "execution_count": 273,
   "id": "16f14961-9b2a-4066-8a91-fd02a27a08be",
   "metadata": {},
   "outputs": [],
   "source": [
    "a1=np.arange(10,dtype=int)\n",
    "a2=np.arange(10,dtype=float).reshape(2,5)\n",
    "a3=np.arange(64).reshape(4,4,4)"
   ]
  },
  {
   "cell_type": "code",
   "execution_count": 310,
   "id": "c32cc590-3a51-4d5b-a52d-fe3269002987",
   "metadata": {},
   "outputs": [
    {
     "name": "stdout",
     "output_type": "stream",
     "text": [
      "int32\n"
     ]
    },
    {
     "data": {
      "text/plain": [
       "array([0, 1, 2, 3, 4, 5, 6, 7, 8, 9], dtype=int64)"
      ]
     },
     "execution_count": 310,
     "metadata": {},
     "output_type": "execute_result"
    }
   ],
   "source": [
    "print(a1.dtype)\n",
    "a1.astype(np.int64)"
   ]
  },
  {
   "cell_type": "code",
   "execution_count": 318,
   "id": "33b17628-80e2-40a1-84c8-de95fe1d96b3",
   "metadata": {},
   "outputs": [],
   "source": [
    "a1.dtype\n",
    "f=a1.astype(np.int64)"
   ]
  },
  {
   "cell_type": "code",
   "execution_count": 320,
   "id": "2aca6090-a603-418c-8852-2bdeb2c66e17",
   "metadata": {},
   "outputs": [
    {
     "name": "stdout",
     "output_type": "stream",
     "text": [
      "int64\n",
      "int32\n"
     ]
    }
   ],
   "source": [
    "''' astype does not make changes to original array it returns a new modified array'''\n",
    "print(f.dtype)\n",
    "print(a1.dtype)"
   ]
  },
  {
   "cell_type": "markdown",
   "id": "d7298299-d885-4616-b439-9cbadd53ca0e",
   "metadata": {},
   "source": [
    "<h2>Array Operations</h2>"
   ]
  },
  {
   "cell_type": "code",
   "execution_count": 333,
   "id": "b66e7145-93fd-4d85-ab9a-3a7310df63c4",
   "metadata": {},
   "outputs": [],
   "source": [
    "a1=np.arange(12).reshape(4,3)\n",
    "a2=np.arange(12,24).reshape(4,3)"
   ]
  },
  {
   "cell_type": "code",
   "execution_count": 345,
   "id": "ea6ef66e-1f48-44e7-8ff2-df416b99db47",
   "metadata": {},
   "outputs": [
    {
     "name": "stdout",
     "output_type": "stream",
     "text": [
      "[[ 0  1  2]\n",
      " [ 3  4  5]\n",
      " [ 6  7  8]\n",
      " [ 9 10 11]]\n",
      "    \n",
      "[[12 13 14]\n",
      " [15 16 17]\n",
      " [18 19 20]\n",
      " [21 22 23]]\n"
     ]
    }
   ],
   "source": [
    "print(a1)\n",
    "print(\"    \")\n",
    "print(a2)"
   ]
  },
  {
   "cell_type": "markdown",
   "id": "48439bd6-eaba-4145-9002-2487cc0f49bd",
   "metadata": {},
   "source": [
    "<h3>Scalar Operations</h3>\n",
    "\n",
    "- In scalar operations on a single numpy array we operate through a scalar (a single number)"
   ]
  },
  {
   "cell_type": "markdown",
   "id": "4bed219d-954c-4133-a0d9-01405025eb52",
   "metadata": {},
   "source": [
    "<h4>Arthematic Operations</h4>"
   ]
  },
  {
   "cell_type": "code",
   "execution_count": 351,
   "id": "a1de9d03-5326-4cbd-ad02-1223ab177431",
   "metadata": {},
   "outputs": [
    {
     "name": "stdout",
     "output_type": "stream",
     "text": [
      "[[ 0  1  2]\n",
      " [ 3  4  5]\n",
      " [ 6  7  8]\n",
      " [ 9 10 11]]\n"
     ]
    },
    {
     "data": {
      "text/plain": [
       "array([[ 0,  5, 10],\n",
       "       [15, 20, 25],\n",
       "       [30, 35, 40],\n",
       "       [45, 50, 55]])"
      ]
     },
     "execution_count": 351,
     "metadata": {},
     "output_type": "execute_result"
    }
   ],
   "source": [
    "print(a1)\n",
    "a1*5 # each item is multiplied with  5"
   ]
  },
  {
   "cell_type": "code",
   "execution_count": 353,
   "id": "24588075-59c3-4730-952b-5567dae9d528",
   "metadata": {},
   "outputs": [
    {
     "name": "stdout",
     "output_type": "stream",
     "text": [
      "[[ 0  1  2]\n",
      " [ 3  4  5]\n",
      " [ 6  7  8]\n",
      " [ 9 10 11]]\n"
     ]
    },
    {
     "data": {
      "text/plain": [
       "array([[ 2,  3,  4],\n",
       "       [ 5,  6,  7],\n",
       "       [ 8,  9, 10],\n",
       "       [11, 12, 13]])"
      ]
     },
     "execution_count": 353,
     "metadata": {},
     "output_type": "execute_result"
    }
   ],
   "source": [
    "print(a1)\n",
    "a1+2"
   ]
  },
  {
   "cell_type": "code",
   "execution_count": 371,
   "id": "07cc2284-e855-4dad-bcdd-0776e67efabf",
   "metadata": {},
   "outputs": [
    {
     "name": "stdout",
     "output_type": "stream",
     "text": [
      "[[ 0  1  2]\n",
      " [ 3  4  5]\n",
      " [ 6  7  8]\n",
      " [ 9 10 11]]\n",
      "     \n",
      "[[0.  0.5 1. ]\n",
      " [1.5 2.  2.5]\n",
      " [3.  3.5 4. ]\n",
      " [4.5 5.  5.5]]\n",
      "[[0 0 1]\n",
      " [1 2 2]\n",
      " [3 3 4]\n",
      " [4 5 5]]\n"
     ]
    }
   ],
   "source": [
    "print(a1)\n",
    "print(\"     \")\n",
    "print(a1/2)\n",
    "\n",
    "print(a1//2) "
   ]
  },
  {
   "cell_type": "code",
   "execution_count": 373,
   "id": "7ab3ae64-114d-4c7c-b845-4f53fe817ea3",
   "metadata": {},
   "outputs": [
    {
     "data": {
      "text/plain": [
       "array([[-1,  0,  1],\n",
       "       [ 2,  3,  4],\n",
       "       [ 5,  6,  7],\n",
       "       [ 8,  9, 10]])"
      ]
     },
     "execution_count": 373,
     "metadata": {},
     "output_type": "execute_result"
    }
   ],
   "source": [
    "a1-1"
   ]
  },
  {
   "cell_type": "code",
   "execution_count": 375,
   "id": "f141d9d0-4298-48bf-8bb6-40b314d80ff3",
   "metadata": {},
   "outputs": [
    {
     "data": {
      "text/plain": [
       "array([[0, 1, 0],\n",
       "       [1, 0, 1],\n",
       "       [0, 1, 0],\n",
       "       [1, 0, 1]], dtype=int32)"
      ]
     },
     "execution_count": 375,
     "metadata": {},
     "output_type": "execute_result"
    }
   ],
   "source": [
    "a1%2"
   ]
  },
  {
   "cell_type": "code",
   "execution_count": 382,
   "id": "e27819b1-3886-4dc4-99fc-616e0c8e6854",
   "metadata": {},
   "outputs": [
    {
     "name": "stdout",
     "output_type": "stream",
     "text": [
      "[[ 0  1  2]\n",
      " [ 3  4  5]\n",
      " [ 6  7  8]\n",
      " [ 9 10 11]]\n",
      "[[  0   1   4]\n",
      " [  9  16  25]\n",
      " [ 36  49  64]\n",
      " [ 81 100 121]]\n"
     ]
    }
   ],
   "source": [
    "print(a1)\n",
    "print(a1**2)"
   ]
  },
  {
   "cell_type": "markdown",
   "id": "92f44842-37ae-4fa3-b4ec-4a975224aedf",
   "metadata": {},
   "source": [
    "<h4>Relational Operations</h4>"
   ]
  },
  {
   "cell_type": "code",
   "execution_count": 388,
   "id": "cffda7dc-9146-4e3b-a26d-feba0c851b2e",
   "metadata": {},
   "outputs": [
    {
     "data": {
      "text/plain": [
       "array([[ True,  True,  True],\n",
       "       [ True,  True,  True],\n",
       "       [ True,  True,  True],\n",
       "       [ True,  True,  True]])"
      ]
     },
     "execution_count": 388,
     "metadata": {},
     "output_type": "execute_result"
    }
   ],
   "source": [
    "a2 >5 #it make comparision with each item"
   ]
  },
  {
   "cell_type": "code",
   "execution_count": 392,
   "id": "80fcd932-aa03-497a-890e-a3ea977e6553",
   "metadata": {},
   "outputs": [
    {
     "data": {
      "text/plain": [
       "array([[False, False, False],\n",
       "       [False, False, False],\n",
       "       [False, False, False],\n",
       "       [False, False,  True]])"
      ]
     },
     "execution_count": 392,
     "metadata": {},
     "output_type": "execute_result"
    }
   ],
   "source": [
    "a1>10"
   ]
  },
  {
   "cell_type": "code",
   "execution_count": 394,
   "id": "87890f52-b092-4adc-954c-65c2c3837022",
   "metadata": {},
   "outputs": [
    {
     "data": {
      "text/plain": [
       "array([[False, False, False],\n",
       "       [False, False, False],\n",
       "       [False, False, False],\n",
       "       [False, False, False]])"
      ]
     },
     "execution_count": 394,
     "metadata": {},
     "output_type": "execute_result"
    }
   ],
   "source": [
    "a1==18"
   ]
  },
  {
   "cell_type": "code",
   "execution_count": 402,
   "id": "68ce1a3b-8d6e-4b95-a34e-59c6c65e8258",
   "metadata": {},
   "outputs": [
    {
     "data": {
      "text/plain": [
       "array([[False, False, False],\n",
       "       [False, False, False],\n",
       "       [False, False, False],\n",
       "       [False, False, False]])"
      ]
     },
     "execution_count": 402,
     "metadata": {},
     "output_type": "execute_result"
    }
   ],
   "source": [
    "a1>=20"
   ]
  },
  {
   "cell_type": "markdown",
   "id": "a6a2fd35-a784-43a1-b247-0b8f4660d426",
   "metadata": {},
   "source": [
    "<h3>Vector Operations</h3>\n",
    "\n",
    "- when an operator is applied between two numpy arrays."
   ]
  },
  {
   "cell_type": "markdown",
   "id": "81d06486-d4ac-41b3-b4a3-92464ee9f1c2",
   "metadata": {},
   "source": [
    "<h4>Arthematic Operations</h4>"
   ]
  },
  {
   "cell_type": "code",
   "execution_count": 419,
   "id": "156befda-514b-4c3d-b325-d1c24b0e12f0",
   "metadata": {},
   "outputs": [
    {
     "name": "stdout",
     "output_type": "stream",
     "text": [
      "[[ 0  1  2]\n",
      " [ 3  4  5]\n",
      " [ 6  7  8]\n",
      " [ 9 10 11]]\n",
      "[[12 13 14]\n",
      " [15 16 17]\n",
      " [18 19 20]\n",
      " [21 22 23]]\n"
     ]
    }
   ],
   "source": [
    "print(a1)\n",
    "print(a2)"
   ]
  },
  {
   "cell_type": "code",
   "execution_count": 423,
   "id": "810afb30-5446-478d-8b02-4e8637e74d33",
   "metadata": {},
   "outputs": [
    {
     "data": {
      "text/plain": [
       "array([[12, 14, 16],\n",
       "       [18, 20, 22],\n",
       "       [24, 26, 28],\n",
       "       [30, 32, 34]])"
      ]
     },
     "execution_count": 423,
     "metadata": {},
     "output_type": "execute_result"
    }
   ],
   "source": [
    "a1+a2 # since shape of both are arrays are same , so items of both the arrays are added."
   ]
  },
  {
   "cell_type": "code",
   "execution_count": 425,
   "id": "fbf80f70-d2db-48a3-ba75-75e8198e0395",
   "metadata": {},
   "outputs": [
    {
     "data": {
      "text/plain": [
       "array([[-12, -12, -12],\n",
       "       [-12, -12, -12],\n",
       "       [-12, -12, -12],\n",
       "       [-12, -12, -12]])"
      ]
     },
     "execution_count": 425,
     "metadata": {},
     "output_type": "execute_result"
    }
   ],
   "source": [
    "a1-a2"
   ]
  },
  {
   "cell_type": "code",
   "execution_count": 427,
   "id": "c5a4f0c8-47d4-4c52-bd49-8befa4a084bb",
   "metadata": {},
   "outputs": [
    {
     "data": {
      "text/plain": [
       "array([[0.        , 0.07692308, 0.14285714],\n",
       "       [0.2       , 0.25      , 0.29411765],\n",
       "       [0.33333333, 0.36842105, 0.4       ],\n",
       "       [0.42857143, 0.45454545, 0.47826087]])"
      ]
     },
     "execution_count": 427,
     "metadata": {},
     "output_type": "execute_result"
    }
   ],
   "source": [
    "a1/a2"
   ]
  },
  {
   "cell_type": "code",
   "execution_count": 438,
   "id": "e1933d9a-35a8-4ff0-af03-2781f0f495c1",
   "metadata": {},
   "outputs": [
    {
     "data": {
      "text/plain": [
       "array([[         1,         13,        196],\n",
       "       [      3375,      65536,    1419857],\n",
       "       [  34012224,  893871739, -169803776],\n",
       "       [-288903179, -154967040, 1328067399]])"
      ]
     },
     "execution_count": 438,
     "metadata": {},
     "output_type": "execute_result"
    }
   ],
   "source": [
    "a2**a1"
   ]
  },
  {
   "cell_type": "code",
   "execution_count": 440,
   "id": "e66839d1-0f0d-4dc0-81d3-d0b590787546",
   "metadata": {},
   "outputs": [
    {
     "data": {
      "text/plain": [
       "array([[          0,           1,       16384],\n",
       "       [   14348907,           0, -1564725563],\n",
       "       [ 1159987200,   442181591,           0],\n",
       "       [ 1914644777, -1304428544,  -122979837]])"
      ]
     },
     "execution_count": 440,
     "metadata": {},
     "output_type": "execute_result"
    }
   ],
   "source": [
    "a1**a2"
   ]
  },
  {
   "cell_type": "markdown",
   "id": "1a825268-54be-4843-b30e-1d0aff4945f7",
   "metadata": {},
   "source": [
    "<h4>Relational Operations</h4>"
   ]
  },
  {
   "cell_type": "code",
   "execution_count": 446,
   "id": "bfe83afd-67fd-4b66-af82-e1711ef934d2",
   "metadata": {},
   "outputs": [
    {
     "data": {
      "text/plain": [
       "array([[False, False, False],\n",
       "       [False, False, False],\n",
       "       [False, False, False],\n",
       "       [False, False, False]])"
      ]
     },
     "execution_count": 446,
     "metadata": {},
     "output_type": "execute_result"
    }
   ],
   "source": [
    "a1>a2"
   ]
  },
  {
   "cell_type": "code",
   "execution_count": 448,
   "id": "3e7ae91e-c087-45c4-96b0-21be8bb32ffa",
   "metadata": {},
   "outputs": [
    {
     "data": {
      "text/plain": [
       "array([[False, False, False],\n",
       "       [False, False, False],\n",
       "       [False, False, False],\n",
       "       [False, False, False]])"
      ]
     },
     "execution_count": 448,
     "metadata": {},
     "output_type": "execute_result"
    }
   ],
   "source": [
    "a2>a1"
   ]
  },
  {
   "cell_type": "code",
   "execution_count": 467,
   "id": "9449e754-fd53-48d9-a6f1-a96685fe3c76",
   "metadata": {},
   "outputs": [],
   "source": [
    "a1=np.arange(1,11).reshape(5,2)\n",
    "a2=np.array([[1],[2]])"
   ]
  },
  {
   "cell_type": "code",
   "execution_count": 469,
   "id": "0adcd715-0378-43c8-aff5-7e80807eccba",
   "metadata": {},
   "outputs": [
    {
     "name": "stdout",
     "output_type": "stream",
     "text": [
      "[[ 1  2]\n",
      " [ 3  4]\n",
      " [ 5  6]\n",
      " [ 7  8]\n",
      " [ 9 10]]\n",
      "  \n",
      "[[1]\n",
      " [2]]\n"
     ]
    }
   ],
   "source": [
    "print(a1)\n",
    "print(\"  \")\n",
    "print(a2)"
   ]
  },
  {
   "cell_type": "code",
   "execution_count": 477,
   "id": "2795b1ae-5ff9-46b6-8bf9-e6eceb3ecab5",
   "metadata": {},
   "outputs": [
    {
     "ename": "ValueError",
     "evalue": "operands could not be broadcast together with shapes (5,2) (2,1) ",
     "output_type": "error",
     "traceback": [
      "\u001b[1;31m---------------------------------------------------------------------------\u001b[0m",
      "\u001b[1;31mValueError\u001b[0m                                Traceback (most recent call last)",
      "Cell \u001b[1;32mIn[477], line 1\u001b[0m\n\u001b[1;32m----> 1\u001b[0m a1\u001b[38;5;241m+\u001b[39ma2\n",
      "\u001b[1;31mValueError\u001b[0m: operands could not be broadcast together with shapes (5,2) (2,1) "
     ]
    }
   ],
   "source": [
    "a1+a2 "
   ]
  },
  {
   "cell_type": "markdown",
   "id": "8183e225-3b1d-480e-97d9-31238a07e40c",
   "metadata": {},
   "source": [
    "<h3>Broadcasting Rules</h3>\n",
    "\n",
    "- To add two arrays, their shapes must be compatible for broadcasting. The rules are:\n",
    "  - 1.Align the shapes from the rightmost dimensions.\n",
    "  - 2.A dimension is compatible if:\n",
    "     - It is the same in both arrays, or\n",
    "     - One of the dimensions is 1 (can be stretched).\n"
   ]
  },
  {
   "cell_type": "code",
   "execution_count": 479,
   "id": "514f6b48-0f43-43a4-a85e-f40ff18acff9",
   "metadata": {},
   "outputs": [
    {
     "name": "stdout",
     "output_type": "stream",
     "text": [
      "[1 2 3]\n",
      "[[1]\n",
      " [2]\n",
      " [3]]\n",
      "[[2 3 4]\n",
      " [3 4 5]\n",
      " [4 5 6]]\n"
     ]
    }
   ],
   "source": [
    "a = np.array([1, 2, 3])\n",
    "b = np.array([[1], [2], [3]])\n",
    "print(a)\n",
    "print(b)\n",
    "result = a + b\n",
    "print(result)\n"
   ]
  },
  {
   "cell_type": "code",
   "execution_count": 501,
   "id": "2a31a4bc-9d5a-4803-8d41-f4c578a8b68c",
   "metadata": {},
   "outputs": [
    {
     "data": {
      "text/plain": [
       "array([[0],\n",
       "       [1],\n",
       "       [2],\n",
       "       [3],\n",
       "       [4]])"
      ]
     },
     "execution_count": 501,
     "metadata": {},
     "output_type": "execute_result"
    }
   ],
   "source": [
    "a3=np.arange(6).reshape(2,3)\n",
    "a4=np.arange(5).reshape(5,1)\n",
    "a4"
   ]
  },
  {
   "cell_type": "code",
   "execution_count": 503,
   "id": "85fdb2fd-1dbd-4a8d-81f0-07be0e35a8d2",
   "metadata": {},
   "outputs": [
    {
     "ename": "ValueError",
     "evalue": "operands could not be broadcast together with shapes (2,3) (5,1) ",
     "output_type": "error",
     "traceback": [
      "\u001b[1;31m---------------------------------------------------------------------------\u001b[0m",
      "\u001b[1;31mValueError\u001b[0m                                Traceback (most recent call last)",
      "Cell \u001b[1;32mIn[503], line 1\u001b[0m\n\u001b[1;32m----> 1\u001b[0m a3\u001b[38;5;241m+\u001b[39ma4\n",
      "\u001b[1;31mValueError\u001b[0m: operands could not be broadcast together with shapes (2,3) (5,1) "
     ]
    }
   ],
   "source": [
    "a3+a4"
   ]
  },
  {
   "cell_type": "raw",
   "id": "0bee7cda-c374-4b98-b2fe-4f15fb4b81b9",
   "metadata": {},
   "source": [
    "Let’s compare the shapes of a3 (2, 3) and a4 (5, 1):\n",
    "\n",
    "Rightmost dimensions:\n",
    "\n",
    "a3 has 3 (columns) in the last dimension.\n",
    "a4 has 1 in the last dimension.\n",
    "✅ These are compatible because 1 can be stretched to match 3.\n",
    "\n",
    "Second-to-last dimensions:\n",
    "\n",
    "a3 has 2 (rows) in the second-to-last dimension.\n",
    "a4 has 5 in the second-to-last dimension.\n",
    "❌ These are not compatible because 2 and 5 are different, and neither is 1."
   ]
  },
  {
   "cell_type": "code",
   "execution_count": 507,
   "id": "a5ebf206-815a-4a8f-9b41-3cc96a8e559b",
   "metadata": {},
   "outputs": [
    {
     "data": {
      "text/plain": [
       "array([[0],\n",
       "       [1]])"
      ]
     },
     "execution_count": 507,
     "metadata": {},
     "output_type": "execute_result"
    }
   ],
   "source": [
    "a3=np.arange(6).reshape(2,3)\n",
    "a4=np.arange(2).reshape(2,1)\n",
    "a4"
   ]
  },
  {
   "cell_type": "code",
   "execution_count": 509,
   "id": "cfa84724-6f95-45c3-9ebc-2daf7a8c164b",
   "metadata": {},
   "outputs": [
    {
     "data": {
      "text/plain": [
       "array([[0, 1, 2],\n",
       "       [4, 5, 6]])"
      ]
     },
     "execution_count": 509,
     "metadata": {},
     "output_type": "execute_result"
    }
   ],
   "source": [
    "a4+a3"
   ]
  },
  {
   "cell_type": "markdown",
   "id": "62775af8-d437-4ffd-a85e-03beea5fa743",
   "metadata": {},
   "source": [
    "<h2>Array Functions</h2>\n",
    "\n",
    "- for every mathematical operation we have a function. "
   ]
  },
  {
   "cell_type": "code",
   "execution_count": 531,
   "id": "b4586bc8-5eef-4a31-8f72-8bd801c294af",
   "metadata": {},
   "outputs": [
    {
     "data": {
      "text/plain": [
       "4"
      ]
     },
     "execution_count": 531,
     "metadata": {},
     "output_type": "execute_result"
    }
   ],
   "source": [
    "ar=np.arange(16).reshape(2,2,2,2)\n",
    "ar.ndim # 4 dimension"
   ]
  },
  {
   "cell_type": "code",
   "execution_count": 548,
   "id": "2b436d83-2006-4115-8207-de59c12622d2",
   "metadata": {},
   "outputs": [
    {
     "name": "stdout",
     "output_type": "stream",
     "text": [
      "[[0.79595879 0.07129265 0.10642312]\n",
      " [0.54647487 0.77803831 0.28532293]\n",
      " [0.36095121 0.38065902 0.73650075]]\n"
     ]
    },
    {
     "data": {
      "text/plain": [
       "array([[80.,  7., 11.],\n",
       "       [55., 78., 29.],\n",
       "       [36., 38., 74.]])"
      ]
     },
     "execution_count": 548,
     "metadata": {},
     "output_type": "execute_result"
    }
   ],
   "source": [
    "a1=np.random.random((3,3))\n",
    "print(a1)\n",
    "a1=np.round(a1*100) #rounded off each values by 100\n",
    "a1"
   ]
  },
  {
   "cell_type": "markdown",
   "id": "37dd92ba-cd63-40d5-886f-fb841bcbfffd",
   "metadata": {},
   "source": [
    "<h3>Max/Min/Sum/Product</h3>"
   ]
  },
  {
   "cell_type": "code",
   "execution_count": 553,
   "id": "b599922c-f642-45ae-b04b-a64269fc1a42",
   "metadata": {},
   "outputs": [
    {
     "name": "stdout",
     "output_type": "stream",
     "text": [
      "[[80.  7. 11.]\n",
      " [55. 78. 29.]\n",
      " [36. 38. 74.]]\n"
     ]
    }
   ],
   "source": [
    "print(a1)"
   ]
  },
  {
   "cell_type": "code",
   "execution_count": 557,
   "id": "e4fb7a01-06f1-40b3-95ed-43024220c49b",
   "metadata": {},
   "outputs": [
    {
     "data": {
      "text/plain": [
       "80.0"
      ]
     },
     "execution_count": 557,
     "metadata": {},
     "output_type": "execute_result"
    }
   ],
   "source": [
    "np.max(a1)"
   ]
  },
  {
   "cell_type": "code",
   "execution_count": 559,
   "id": "ad081be1-a111-4ec5-9373-cddec6d061b9",
   "metadata": {},
   "outputs": [
    {
     "data": {
      "text/plain": [
       "7.0"
      ]
     },
     "execution_count": 559,
     "metadata": {},
     "output_type": "execute_result"
    }
   ],
   "source": [
    "np.min(a1)\n"
   ]
  },
  {
   "cell_type": "code",
   "execution_count": 561,
   "id": "02113cb1-6d9c-4d62-8af9-822cf7377da6",
   "metadata": {},
   "outputs": [
    {
     "data": {
      "text/plain": [
       "408.0"
      ]
     },
     "execution_count": 561,
     "metadata": {},
     "output_type": "execute_result"
    }
   ],
   "source": [
    "np.sum(a1)"
   ]
  },
  {
   "cell_type": "code",
   "execution_count": 563,
   "id": "7d05d6f2-2ce8-4ba7-97e2-26975b5eecf3",
   "metadata": {},
   "outputs": [
    {
     "data": {
      "text/plain": [
       "77580722419200.0"
      ]
     },
     "execution_count": 563,
     "metadata": {},
     "output_type": "execute_result"
    }
   ],
   "source": [
    "np.product(a1)"
   ]
  },
  {
   "cell_type": "raw",
   "id": "c6203d62-15f4-4b9a-8de9-60d501448c64",
   "metadata": {},
   "source": [
    "- i want to find the max element pf each row or coloumn\n",
    "axis=0: Refers to the rows (i.e., along the vertical axis), meaning operations are applied column-wise.In this row differ column is same\n",
    "\n",
    "axis=1: Refers to the columns (i.e., along the horizontal axis), meaning operations are applied row-wise.In this column differ row is same"
   ]
  },
  {
   "cell_type": "code",
   "execution_count": 575,
   "id": "bbde7a53-d001-44e0-adc5-cb4e2a42ffbe",
   "metadata": {},
   "outputs": [
    {
     "name": "stdout",
     "output_type": "stream",
     "text": [
      "[[80.  7. 11.]\n",
      " [55. 78. 29.]\n",
      " [36. 38. 74.]]\n"
     ]
    },
    {
     "data": {
      "text/plain": [
       "array([80., 78., 74.])"
      ]
     },
     "execution_count": 575,
     "metadata": {},
     "output_type": "execute_result"
    }
   ],
   "source": [
    "print(a1)\n",
    "np.max(a1,axis=0)"
   ]
  },
  {
   "cell_type": "code",
   "execution_count": 579,
   "id": "6f083b99-a0a4-4aaa-b918-bf503c9301b1",
   "metadata": {},
   "outputs": [
    {
     "name": "stdout",
     "output_type": "stream",
     "text": [
      "[36.  7. 11.]\n",
      "[ 7. 29. 36.]\n"
     ]
    }
   ],
   "source": [
    "print(np.min(a1,axis=0))\n",
    "print(np.min(a1,axis=1))"
   ]
  },
  {
   "cell_type": "code",
   "execution_count": 581,
   "id": "f8a7ec4f-f618-45ac-87d6-9aaaaeb2398f",
   "metadata": {},
   "outputs": [
    {
     "data": {
      "text/plain": [
       "array([158400.,  20748.,  23606.])"
      ]
     },
     "execution_count": 581,
     "metadata": {},
     "output_type": "execute_result"
    }
   ],
   "source": [
    "np.product(a1,axis=0)"
   ]
  },
  {
   "cell_type": "code",
   "execution_count": 583,
   "id": "efb88378-3eea-4d19-a07e-3df67f5c6b99",
   "metadata": {},
   "outputs": [
    {
     "data": {
      "text/plain": [
       "array([  6160., 124410., 101232.])"
      ]
     },
     "execution_count": 583,
     "metadata": {},
     "output_type": "execute_result"
    }
   ],
   "source": [
    "np.product(a1,axis=1)"
   ]
  },
  {
   "cell_type": "markdown",
   "id": "5561fc98-8ce0-45fa-96a1-38de62e96c23",
   "metadata": {},
   "source": [
    "<h3>Statistics</h3>\n",
    "\n",
    "- Mean/Median/Std/Var"
   ]
  },
  {
   "cell_type": "code",
   "execution_count": 604,
   "id": "3d9e72e2-2198-447d-a3c5-662cac0276ba",
   "metadata": {},
   "outputs": [
    {
     "name": "stdout",
     "output_type": "stream",
     "text": [
      "[[80.  7. 11.]\n",
      " [55. 78. 29.]\n",
      " [36. 38. 74.]]\n"
     ]
    },
    {
     "data": {
      "text/plain": [
       "45.333333333333336"
      ]
     },
     "execution_count": 604,
     "metadata": {},
     "output_type": "execute_result"
    }
   ],
   "source": [
    "print(a1)\n",
    "np.mean(a1)"
   ]
  },
  {
   "cell_type": "code",
   "execution_count": 594,
   "id": "d3a771b9-f250-4da0-8681-42fb053f0a89",
   "metadata": {},
   "outputs": [
    {
     "data": {
      "text/plain": [
       "45.333333333333336"
      ]
     },
     "execution_count": 594,
     "metadata": {},
     "output_type": "execute_result"
    }
   ],
   "source": [
    "np.mean(a1)"
   ]
  },
  {
   "cell_type": "code",
   "execution_count": 598,
   "id": "bd3e663d-5aed-47de-9173-1d83aced6c26",
   "metadata": {},
   "outputs": [
    {
     "name": "stdout",
     "output_type": "stream",
     "text": [
      "[57. 41. 38.]\n",
      "[32.66666667 54.         49.33333333]\n"
     ]
    }
   ],
   "source": [
    "print(np.mean(a1,axis=0))\n",
    "print(np.mean(a1,axis=1))"
   ]
  },
  {
   "cell_type": "code",
   "execution_count": 600,
   "id": "762a1af1-5d64-4364-9484-7422eb364de0",
   "metadata": {},
   "outputs": [
    {
     "data": {
      "text/plain": [
       "38.0"
      ]
     },
     "execution_count": 600,
     "metadata": {},
     "output_type": "execute_result"
    }
   ],
   "source": [
    "np.median(a1)"
   ]
  },
  {
   "cell_type": "code",
   "execution_count": 602,
   "id": "90759480-26ad-4128-9fb5-60618d4b9c5c",
   "metadata": {},
   "outputs": [
    {
     "data": {
      "text/plain": [
       "array([55., 38., 29.])"
      ]
     },
     "execution_count": 602,
     "metadata": {},
     "output_type": "execute_result"
    }
   ],
   "source": [
    "np.median(a1,axis=0)"
   ]
  },
  {
   "cell_type": "code",
   "execution_count": 606,
   "id": "2a83847d-af67-4717-9d6b-88fe1eefd48c",
   "metadata": {},
   "outputs": [
    {
     "data": {
      "text/plain": [
       "array([11., 55., 38.])"
      ]
     },
     "execution_count": 606,
     "metadata": {},
     "output_type": "execute_result"
    }
   ],
   "source": [
    "np.median(a1,axis=1)"
   ]
  },
  {
   "cell_type": "code",
   "execution_count": 608,
   "id": "dffa6201-e702-42ef-9174-c4f7217fd9e0",
   "metadata": {},
   "outputs": [
    {
     "data": {
      "text/plain": [
       "693.3333333333333"
      ]
     },
     "execution_count": 608,
     "metadata": {},
     "output_type": "execute_result"
    }
   ],
   "source": [
    "np.var(a1)"
   ]
  },
  {
   "cell_type": "code",
   "execution_count": 610,
   "id": "f54d15ee-fd45-4e16-8fb6-c0bc005929c8",
   "metadata": {},
   "outputs": [
    {
     "data": {
      "text/plain": [
       "26.33122354417533"
      ]
     },
     "execution_count": 610,
     "metadata": {},
     "output_type": "execute_result"
    }
   ],
   "source": [
    "np.std(a1)"
   ]
  },
  {
   "cell_type": "markdown",
   "id": "192b03c3-a8ed-42f6-aab6-ff0f1341e155",
   "metadata": {},
   "source": [
    "<h3>Trignometric Functions</h3>\n",
    "\n",
    "- sin/cos/tan"
   ]
  },
  {
   "cell_type": "code",
   "execution_count": 615,
   "id": "e8b9d0cc-3a57-4292-b3ea-fd642bf8f5ec",
   "metadata": {},
   "outputs": [
    {
     "data": {
      "text/plain": [
       "array([[-0.99388865,  0.6569866 , -0.99999021],\n",
       "       [-0.99975517,  0.51397846, -0.66363388],\n",
       "       [-0.99177885,  0.29636858, -0.98514626]])"
      ]
     },
     "execution_count": 615,
     "metadata": {},
     "output_type": "execute_result"
    }
   ],
   "source": [
    "np.sin(a1)"
   ]
  },
  {
   "cell_type": "code",
   "execution_count": 617,
   "id": "f64c3faf-8f16-40ce-8fda-7050afcb684f",
   "metadata": {},
   "outputs": [
    {
     "ename": "TypeError",
     "evalue": "sin() got an unexpected keyword argument 'axis'",
     "output_type": "error",
     "traceback": [
      "\u001b[1;31m---------------------------------------------------------------------------\u001b[0m",
      "\u001b[1;31mTypeError\u001b[0m                                 Traceback (most recent call last)",
      "Cell \u001b[1;32mIn[617], line 1\u001b[0m\n\u001b[1;32m----> 1\u001b[0m np\u001b[38;5;241m.\u001b[39msin(a1,axis\u001b[38;5;241m=\u001b[39m\u001b[38;5;241m1\u001b[39m)\n",
      "\u001b[1;31mTypeError\u001b[0m: sin() got an unexpected keyword argument 'axis'"
     ]
    }
   ],
   "source": [
    "np.sin(a1,axis=1)"
   ]
  },
  {
   "cell_type": "code",
   "execution_count": 625,
   "id": "7c4791b3-b4db-4ce0-b847-478d3d53b5ea",
   "metadata": {},
   "outputs": [
    {
     "data": {
      "text/plain": [
       "array([[-0.11038724,  0.75390225,  0.0044257 ],\n",
       "       [ 0.02212676, -0.85780309, -0.74805753],\n",
       "       [-0.12796369,  0.95507364,  0.17171734]])"
      ]
     },
     "execution_count": 625,
     "metadata": {},
     "output_type": "execute_result"
    }
   ],
   "source": [
    "np.cos(a1)"
   ]
  },
  {
   "cell_type": "code",
   "execution_count": 627,
   "id": "718416cf-9dfb-4762-92e1-7f4c4c308741",
   "metadata": {},
   "outputs": [
    {
     "data": {
      "text/plain": [
       "array([[   9.00365495,    0.87144798, -225.95084645],\n",
       "       [ -45.18308791,   -0.59918   ,    0.88714284],\n",
       "       [   7.75047091,    0.31030966,   -5.73702254]])"
      ]
     },
     "execution_count": 627,
     "metadata": {},
     "output_type": "execute_result"
    }
   ],
   "source": [
    "np.tan(a1)"
   ]
  },
  {
   "cell_type": "code",
   "execution_count": 623,
   "id": "b6d0acf6-5ff5-4b0d-9673-e6b81cf15a92",
   "metadata": {},
   "outputs": [
    {
     "data": {
      "text/plain": [
       "array([[   9.00365495,    0.87144798, -225.95084645],\n",
       "       [ -45.18308791,   -0.59918   ,    0.88714284],\n",
       "       [   7.75047091,    0.31030966,   -5.73702254]])"
      ]
     },
     "execution_count": 623,
     "metadata": {},
     "output_type": "execute_result"
    }
   ],
   "source": [
    "np.sin(a1)/np.cos(a1)"
   ]
  },
  {
   "cell_type": "markdown",
   "id": "951db8c0-d8d5-4596-b238-a44a96f2a1f6",
   "metadata": {},
   "source": [
    "<h2>Array Dot Product(np.dot())</h2>:\n",
    "\n",
    "- to find the dot product of two matrices.\n",
    "- dot product is only applicable between two arrays a1(r1,c1) and a2(r2,c2) if c1=r2"
   ]
  },
  {
   "cell_type": "code",
   "execution_count": 20,
   "id": "e85594d7-d9c1-4990-9e0f-8e11bf5683d9",
   "metadata": {},
   "outputs": [
    {
     "name": "stdout",
     "output_type": "stream",
     "text": [
      "[[ 0  1  2  3]\n",
      " [ 4  5  6  7]\n",
      " [ 8  9 10 11]]\n",
      "   \n",
      "[[ 0  1  2]\n",
      " [ 3  4  5]\n",
      " [ 6  7  8]\n",
      " [ 9 10 11]]\n"
     ]
    }
   ],
   "source": [
    "import numpy as np\n",
    "a1=np.arange(12).reshape(3,4)\n",
    "a2=np.arange(12).reshape(4,3)\n",
    "print(a1)\n",
    "print(\"   \")\n",
    "print(a2)"
   ]
  },
  {
   "cell_type": "code",
   "execution_count": 22,
   "id": "769f1643-5adf-4cae-8d14-2cddb746fb4b",
   "metadata": {},
   "outputs": [
    {
     "data": {
      "text/plain": [
       "array([[ 42,  48,  54],\n",
       "       [114, 136, 158],\n",
       "       [186, 224, 262]])"
      ]
     },
     "execution_count": 22,
     "metadata": {},
     "output_type": "execute_result"
    }
   ],
   "source": [
    "np.dot(a1,a2)"
   ]
  },
  {
   "cell_type": "code",
   "execution_count": 28,
   "id": "6a5d8823-82cf-4add-865e-4dc419842c07",
   "metadata": {},
   "outputs": [
    {
     "data": {
      "text/plain": [
       "array([[10, 13],\n",
       "       [28, 40]])"
      ]
     },
     "execution_count": 28,
     "metadata": {},
     "output_type": "execute_result"
    }
   ],
   "source": [
    "a3=np.arange(6).reshape(2,3)\n",
    "a4=np.arange(6).reshape(3,2)\n",
    "np.dot(a3,a4)"
   ]
  },
  {
   "cell_type": "code",
   "execution_count": 33,
   "id": "594de141-f461-4ba6-b61a-8d3af6c25c11",
   "metadata": {},
   "outputs": [],
   "source": [
    "ar1=np.array([[1,2,3]]) #(1,3)\n",
    "ar2=np.array([[1],[2],[3]]) #(3,1)\n",
    "#confusion arrises."
   ]
  },
  {
   "cell_type": "code",
   "execution_count": 42,
   "id": "c3c3973b-c61c-4432-8597-1df409d2835c",
   "metadata": {},
   "outputs": [
    {
     "data": {
      "text/plain": [
       "(1, 3)"
      ]
     },
     "execution_count": 42,
     "metadata": {},
     "output_type": "execute_result"
    }
   ],
   "source": [
    "ar1.shape"
   ]
  },
  {
   "cell_type": "code",
   "execution_count": 54,
   "id": "4f73ee5a-7de9-4c8d-8a8f-0f33c528dda1",
   "metadata": {},
   "outputs": [
    {
     "data": {
      "text/plain": [
       "1"
      ]
     },
     "execution_count": 54,
     "metadata": {},
     "output_type": "execute_result"
    }
   ],
   "source": [
    "ar1=[1,2,3]\n",
    "a=np.array(ar1)\n",
    "a.ndim\n",
    "# here only a list is passes that is only row is generated therefor it is 1D array"
   ]
  },
  {
   "cell_type": "code",
   "execution_count": 52,
   "id": "2d0f4008-a55d-4b41-85e4-ac20fe1ddbf6",
   "metadata": {},
   "outputs": [
    {
     "data": {
      "text/plain": [
       "2"
      ]
     },
     "execution_count": 52,
     "metadata": {},
     "output_type": "execute_result"
    }
   ],
   "source": [
    "'''[ar1] is a list that contains one element, which is itself a list. \n",
    "When passed to np.array(), NumPy sees this as a list of lists and constructs \n",
    "a 2-dimensional array (matrix) from it. \n",
    "The outer list becomes the first dimension (rows) and the inner list becomes the \n",
    "second dimension (columns).'''\n",
    "ar1=[1,2,3]\n",
    "a=np.array([ar1])\n",
    "a.ndim"
   ]
  },
  {
   "cell_type": "code",
   "execution_count": 56,
   "id": "0aaf2eb9-c74a-4473-a043-4b049ed5fcb6",
   "metadata": {},
   "outputs": [],
   "source": [
    "ar1=np.array([[1,2,3]]) #(1,3)\n",
    "ar2=np.array([[1],[2],[3]]) #(3,1)"
   ]
  },
  {
   "cell_type": "code",
   "execution_count": 58,
   "id": "e0a3063d-bd42-4959-a66c-0bb487fdcef2",
   "metadata": {},
   "outputs": [
    {
     "data": {
      "text/plain": [
       "array([[14]])"
      ]
     },
     "execution_count": 58,
     "metadata": {},
     "output_type": "execute_result"
    }
   ],
   "source": [
    "np.dot(ar1,ar2)"
   ]
  },
  {
   "cell_type": "code",
   "execution_count": 70,
   "id": "26efcf46-84d0-4270-b659-a7223cd6f942",
   "metadata": {},
   "outputs": [
    {
     "name": "stdout",
     "output_type": "stream",
     "text": [
      "[[1 2 3]\n",
      " [4 5 6]]\n"
     ]
    },
    {
     "data": {
      "text/plain": [
       "array([[0.        , 0.69314718, 1.09861229],\n",
       "       [1.38629436, 1.60943791, 1.79175947]])"
      ]
     },
     "execution_count": 70,
     "metadata": {},
     "output_type": "execute_result"
    }
   ],
   "source": [
    "''' log'''\n",
    "a3=np.arange(1,7).reshape(2,3)\n",
    "print(a3)\n",
    "np.log(a3)"
   ]
  },
  {
   "cell_type": "code",
   "execution_count": 72,
   "id": "9a35c4e2-a204-4d9a-8717-fd46e0ef1d5b",
   "metadata": {},
   "outputs": [
    {
     "data": {
      "text/plain": [
       "array([[  2.71828183,   7.3890561 ,  20.08553692],\n",
       "       [ 54.59815003, 148.4131591 , 403.42879349]])"
      ]
     },
     "execution_count": 72,
     "metadata": {},
     "output_type": "execute_result"
    }
   ],
   "source": [
    "np.exp(a3)"
   ]
  },
  {
   "cell_type": "markdown",
   "id": "0bc577ce-35b6-4dee-b549-222734c16e6f",
   "metadata": {},
   "source": [
    "<h3>Round,Floor,Ceil</h3>"
   ]
  },
  {
   "cell_type": "code",
   "execution_count": 113,
   "id": "076e1c31-7f39-4e71-85a2-93955bd34a2d",
   "metadata": {},
   "outputs": [
    {
     "data": {
      "text/plain": [
       "array([[30.05775711, 97.21065976, 65.22358632],\n",
       "       [67.6043142 , 42.00786191, 14.23059516]])"
      ]
     },
     "execution_count": 113,
     "metadata": {},
     "output_type": "execute_result"
    }
   ],
   "source": [
    "a=np.random.random((2,3))*100\n",
    "a"
   ]
  },
  {
   "cell_type": "code",
   "execution_count": 115,
   "id": "c5122148-1327-460b-b92a-5de1568d8152",
   "metadata": {},
   "outputs": [
    {
     "data": {
      "text/plain": [
       "array([[30., 97., 65.],\n",
       "       [68., 42., 14.]])"
      ]
     },
     "execution_count": 115,
     "metadata": {},
     "output_type": "execute_result"
    }
   ],
   "source": [
    "'''if i want integers'''\n",
    "np.round(a) #it round off at nearest integer."
   ]
  },
  {
   "cell_type": "code",
   "execution_count": 117,
   "id": "00d7f26b-92c3-487c-ae72-efe58c4ad7dd",
   "metadata": {},
   "outputs": [
    {
     "data": {
      "text/plain": [
       "array([[30., 97., 65.],\n",
       "       [67., 42., 14.]])"
      ]
     },
     "execution_count": 117,
     "metadata": {},
     "output_type": "execute_result"
    }
   ],
   "source": [
    "''' floor:It always rounds down to the nearest whole number.'''\n",
    "'''floor function takes a floating-point number and returns the largest integer \n",
    "less than or equal to that number.'''\n",
    "np.floor(a)"
   ]
  },
  {
   "cell_type": "code",
   "execution_count": 121,
   "id": "e12b038d-5e91-43c2-bd27-d9371ac48812",
   "metadata": {},
   "outputs": [
    {
     "data": {
      "text/plain": [
       "array([[31., 98., 66.],\n",
       "       [68., 43., 15.]])"
      ]
     },
     "execution_count": 121,
     "metadata": {},
     "output_type": "execute_result"
    }
   ],
   "source": [
    "'''what does ceil do?\n",
    "The ceil function, short for \"ceiling,\" returns the smallest integer \n",
    "greater than or equal to a given number.'''\n",
    "np.ceil(a)"
   ]
  },
  {
   "cell_type": "code",
   "execution_count": 172,
   "id": "6f4d8cc0-371e-4d4c-b755-9a0b2689d2b1",
   "metadata": {},
   "outputs": [
    {
     "name": "stdout",
     "output_type": "stream",
     "text": [
      "32\n",
      "31\n"
     ]
    }
   ],
   "source": [
    "import math as m\n",
    "print(m.ceil(31.2))\n",
    "print(m.floor(31.2))"
   ]
  },
  {
   "cell_type": "markdown",
   "id": "bf73cb53-3530-44bd-8ad9-e6f0938ee03f",
   "metadata": {},
   "source": [
    "<h2>Indexing and Slicing</h2>\n",
    "\n",
    "- there are two types of indexing +ve and -ve indexing , +ve indexing starts from left to right and -ve indexing start from right to left and starts from -1."
   ]
  },
  {
   "cell_type": "code",
   "execution_count": 145,
   "id": "834bbbbc-9ddd-453c-b75b-b01078962ec1",
   "metadata": {},
   "outputs": [
    {
     "data": {
      "text/plain": [
       "array([0, 1, 2, 3, 4, 5, 6, 7, 8, 9])"
      ]
     },
     "execution_count": 145,
     "metadata": {},
     "output_type": "execute_result"
    }
   ],
   "source": [
    "a1=np.arange(10)\n",
    "a2=np.arange(12).reshape(3,4)\n",
    "a3=np.arange(8).reshape(2,2,2)"
   ]
  },
  {
   "cell_type": "markdown",
   "id": "cdff67f0-e0d8-4cbd-bd6b-35a659b503f5",
   "metadata": {},
   "source": [
    "## "
   ]
  },
  {
   "cell_type": "code",
   "execution_count": 182,
   "id": "aecde808-fee6-44f2-a1a5-90a1d225d925",
   "metadata": {},
   "outputs": [
    {
     "name": "stdout",
     "output_type": "stream",
     "text": [
      "[0 1 2 3 4 5 6 7 8 9]\n",
      "9\n",
      "8\n",
      "[5 6 7 8]\n"
     ]
    }
   ],
   "source": [
    "print(a1)\n",
    "print(a1[-1])\n",
    "print(a1[-2])\n",
    "print(a1[-5:-1])"
   ]
  },
  {
   "cell_type": "code",
   "execution_count": 160,
   "id": "11d36499-94f4-40dd-bc45-3d0b87e0a1bd",
   "metadata": {},
   "outputs": [
    {
     "name": "stdout",
     "output_type": "stream",
     "text": [
      "[[ 0  1  2  3]\n",
      " [ 4  5  6  7]\n",
      " [ 8  9 10 11]]\n"
     ]
    },
    {
     "data": {
      "text/plain": [
       "6"
      ]
     },
     "execution_count": 160,
     "metadata": {},
     "output_type": "execute_result"
    }
   ],
   "source": [
    "'''2D'''\n",
    "print(a2)\n",
    "a2[1][2]"
   ]
  },
  {
   "cell_type": "code",
   "execution_count": 186,
   "id": "bb38f0a9-4911-417b-9a00-651c9a4de6d2",
   "metadata": {},
   "outputs": [
    {
     "data": {
      "text/plain": [
       "11"
      ]
     },
     "execution_count": 186,
     "metadata": {},
     "output_type": "execute_result"
    }
   ],
   "source": [
    "a2[2][3]"
   ]
  },
  {
   "cell_type": "code",
   "execution_count": 188,
   "id": "17415690-336d-49cb-9d84-87d613591090",
   "metadata": {},
   "outputs": [
    {
     "data": {
      "text/plain": [
       "array([[[0, 1],\n",
       "        [2, 3]],\n",
       "\n",
       "       [[4, 5],\n",
       "        [6, 7]]])"
      ]
     },
     "execution_count": 188,
     "metadata": {},
     "output_type": "execute_result"
    }
   ],
   "source": [
    "a3"
   ]
  },
  {
   "cell_type": "code",
   "execution_count": 192,
   "id": "3d72f572-12d9-448f-a16e-122f548a3367",
   "metadata": {},
   "outputs": [
    {
     "data": {
      "text/plain": [
       "5"
      ]
     },
     "execution_count": 192,
     "metadata": {},
     "output_type": "execute_result"
    }
   ],
   "source": [
    "a3[1][0][1] #first: exist in which 2D array\n",
    "#second: exist in 2D arrays which row \n",
    "#third : in which column."
   ]
  },
  {
   "cell_type": "code",
   "execution_count": 194,
   "id": "3c642335-bf2f-43a7-8f5b-a3f06e83128c",
   "metadata": {},
   "outputs": [
    {
     "data": {
      "text/plain": [
       "3"
      ]
     },
     "execution_count": 194,
     "metadata": {},
     "output_type": "execute_result"
    }
   ],
   "source": [
    "a3[0,1,1]"
   ]
  },
  {
   "cell_type": "code",
   "execution_count": 198,
   "id": "695d8985-d9f2-4bac-b4f4-38375ad6aea2",
   "metadata": {},
   "outputs": [
    {
     "data": {
      "text/plain": [
       "0"
      ]
     },
     "execution_count": 198,
     "metadata": {},
     "output_type": "execute_result"
    }
   ],
   "source": [
    "a3[0,0,0] #first element"
   ]
  },
  {
   "cell_type": "code",
   "execution_count": 202,
   "id": "fbb83086-4e11-4b4b-bc10-67c08883a47c",
   "metadata": {},
   "outputs": [
    {
     "data": {
      "text/plain": [
       "array([[[[ 0,  1],\n",
       "         [ 2,  3]],\n",
       "\n",
       "        [[ 4,  5],\n",
       "         [ 6,  7]]],\n",
       "\n",
       "\n",
       "       [[[ 8,  9],\n",
       "         [10, 11]],\n",
       "\n",
       "        [[12, 13],\n",
       "         [14, 15]]]])"
      ]
     },
     "execution_count": 202,
     "metadata": {},
     "output_type": "execute_result"
    }
   ],
   "source": [
    "'''4D array'''\n",
    "a4=np.arange(16).reshape(2,2,2,2)\n",
    "a4"
   ]
  },
  {
   "cell_type": "code",
   "execution_count": 206,
   "id": "4ed0df36-7a15-4460-a81e-d00b2a439599",
   "metadata": {},
   "outputs": [
    {
     "data": {
      "text/plain": [
       "8"
      ]
     },
     "execution_count": 206,
     "metadata": {},
     "output_type": "execute_result"
    }
   ],
   "source": [
    "''' fetch 8''' \n",
    "a4[1,0,0,0] #first: element present in which 3D array\n",
    "#second: element present in which 2D array\n",
    "#third: element pressent in which row\n",
    "# fourth : element present in which column."
   ]
  },
  {
   "cell_type": "code",
   "execution_count": 210,
   "id": "945adfb3-39d8-46b2-b0a3-59038bf13a69",
   "metadata": {},
   "outputs": [
    {
     "data": {
      "text/plain": [
       "14"
      ]
     },
     "execution_count": 210,
     "metadata": {},
     "output_type": "execute_result"
    }
   ],
   "source": [
    "'''fetch 14'''\n",
    "a4[1,1,1,0]"
   ]
  },
  {
   "cell_type": "code",
   "execution_count": 214,
   "id": "356fa9b9-eeb6-455d-8932-5b93e3d9a578",
   "metadata": {},
   "outputs": [],
   "source": [
    "'''slicing helps in fetching multiple items'''\n",
    "a1=np.arange(10)\n",
    "a2=np.arange(12).reshape(3,4)\n",
    "a3=np.arange(8).reshape(2,2,2)"
   ]
  },
  {
   "cell_type": "code",
   "execution_count": 216,
   "id": "5ba543f6-e046-4d73-bebc-a4fc2205e6de",
   "metadata": {},
   "outputs": [
    {
     "data": {
      "text/plain": [
       "array([0, 1, 2, 3, 4])"
      ]
     },
     "execution_count": 216,
     "metadata": {},
     "output_type": "execute_result"
    }
   ],
   "source": [
    "'''fetch 5 itmes from a1'''\n",
    "a1[0:5]"
   ]
  },
  {
   "cell_type": "code",
   "execution_count": 218,
   "id": "39b45e82-31ab-48ed-8d9f-5e598384035e",
   "metadata": {},
   "outputs": [
    {
     "data": {
      "text/plain": [
       "array([0, 2, 4, 6, 8])"
      ]
     },
     "execution_count": 218,
     "metadata": {},
     "output_type": "execute_result"
    }
   ],
   "source": [
    "a1[0::2]"
   ]
  },
  {
   "cell_type": "code",
   "execution_count": 226,
   "id": "c79cf134-7235-43c1-9f43-8555f0cd36ce",
   "metadata": {},
   "outputs": [
    {
     "name": "stdout",
     "output_type": "stream",
     "text": [
      "[[ 0  1  2  3]\n",
      " [ 4  5  6  7]\n",
      " [ 8  9 10 11]]\n"
     ]
    },
    {
     "data": {
      "text/plain": [
       "array([0, 1, 2, 3])"
      ]
     },
     "execution_count": 226,
     "metadata": {},
     "output_type": "execute_result"
    }
   ],
   "source": [
    "'''slicing and striding in 2D and 3D'''\n",
    "print(a2)\n",
    "'''fetch the first entire row'''\n",
    "a2[0,:]\n",
    "#first: the index of row \n",
    "#second:the columns"
   ]
  },
  {
   "cell_type": "code",
   "execution_count": 242,
   "id": "47d1381a-1b89-43d2-b9a5-60fddb823a69",
   "metadata": {},
   "outputs": [
    {
     "name": "stdout",
     "output_type": "stream",
     "text": [
      "[0 1 2]\n",
      "[ 3  7 11]\n"
     ]
    }
   ],
   "source": [
    "print(a2[0,:3])\n",
    "print(a2[:,3#third column"
   ]
  },
  {
   "cell_type": "code",
   "execution_count": 260,
   "id": "572d958b-0d04-4619-bac9-64d7c8d5b81a",
   "metadata": {},
   "outputs": [
    {
     "name": "stdout",
     "output_type": "stream",
     "text": [
      "[[ 0  1  2  3]\n",
      " [ 4  5  6  7]\n",
      " [ 8  9 10 11]]\n"
     ]
    },
    {
     "data": {
      "text/plain": [
       "array([[ 5,  6],\n",
       "       [ 9, 10]])"
      ]
     },
     "execution_count": 260,
     "metadata": {},
     "output_type": "execute_result"
    }
   ],
   "source": [
    "'''fetch 5 and 6 and 9,10'''\n",
    "print(a2)\n",
    "a2[1:,1:3]"
   ]
  },
  {
   "cell_type": "code",
   "execution_count": 252,
   "id": "b245e9b0-c92a-41db-8b83-f8dfb6d7916f",
   "metadata": {},
   "outputs": [
    {
     "data": {
      "text/plain": [
       "array([[ 0,  3],\n",
       "       [ 8, 11]])"
      ]
     },
     "execution_count": 252,
     "metadata": {},
     "output_type": "execute_result"
    }
   ],
   "source": [
    "'''fetch 0,3,8,11'''\n",
    "a2[::2,::3] #[::2] is slicing of rows and [::3] is slicing of columns"
   ]
  },
  {
   "cell_type": "code",
   "execution_count": 270,
   "id": "8de48da8-9ddf-4223-b0ae-210a51ed3eeb",
   "metadata": {},
   "outputs": [
    {
     "name": "stdout",
     "output_type": "stream",
     "text": [
      "[[ 0  1  2  3]\n",
      " [ 4  5  6  7]\n",
      " [ 8  9 10 11]]\n",
      "[[ 1  3]\n",
      " [ 9 11]]\n"
     ]
    }
   ],
   "source": [
    "'''fetch 1,3 and 9,11'''\n",
    "print(a2)\n",
    "print(a2[0::2,1:4:2])"
   ]
  },
  {
   "cell_type": "code",
   "execution_count": 282,
   "id": "2e1abe53-8074-4602-8e0a-d3856e965837",
   "metadata": {},
   "outputs": [
    {
     "name": "stdout",
     "output_type": "stream",
     "text": [
      "[[4 7]]\n"
     ]
    }
   ],
   "source": [
    "print(a2[1::3,0:4:3])"
   ]
  },
  {
   "cell_type": "code",
   "execution_count": 292,
   "id": "ad423f84-8f9d-49a4-99e5-5e113e99c1f2",
   "metadata": {},
   "outputs": [
    {
     "name": "stdout",
     "output_type": "stream",
     "text": [
      "[[1 2 3]\n",
      " [5 6 7]]\n"
     ]
    }
   ],
   "source": [
    "print(a2[0:2:1,1::1])"
   ]
  },
  {
   "cell_type": "code",
   "execution_count": 298,
   "id": "35e2a1ef-887b-4ff0-abf3-f6a3701941c9",
   "metadata": {},
   "outputs": [
    {
     "name": "stdout",
     "output_type": "stream",
     "text": [
      "[[[ 0  1  2]\n",
      "  [ 3  4  5]\n",
      "  [ 6  7  8]]\n",
      "\n",
      " [[ 9 10 11]\n",
      "  [12 13 14]\n",
      "  [15 16 17]]\n",
      "\n",
      " [[18 19 20]\n",
      "  [21 22 23]\n",
      "  [24 25 26]]]\n"
     ]
    }
   ],
   "source": [
    "a3=np.arange(27).reshape(3,3,3)\n",
    "print(a3)"
   ]
  },
  {
   "cell_type": "code",
   "execution_count": 312,
   "id": "b2464ce8-d9a2-4469-a333-17f3cc42d339",
   "metadata": {},
   "outputs": [
    {
     "data": {
      "text/plain": [
       "12"
      ]
     },
     "execution_count": 312,
     "metadata": {},
     "output_type": "execute_result"
    }
   ],
   "source": [
    "'''fetch'''\n",
    "a3[1,1,0]"
   ]
  },
  {
   "cell_type": "code",
   "execution_count": 314,
   "id": "3400303a-1e2d-4d2d-bc09-e6d74453a83e",
   "metadata": {},
   "outputs": [
    {
     "data": {
      "text/plain": [
       "array([[ 9, 10, 11],\n",
       "       [12, 13, 14],\n",
       "       [15, 16, 17]])"
      ]
     },
     "execution_count": 314,
     "metadata": {},
     "output_type": "execute_result"
    }
   ],
   "source": [
    "'''fetch only middle arrray'''\n",
    "a3[1]"
   ]
  },
  {
   "cell_type": "code",
   "execution_count": 322,
   "id": "5270e0db-e0bc-422b-b2b6-c6c02fb4218d",
   "metadata": {},
   "outputs": [
    {
     "data": {
      "text/plain": [
       "array([[[ 0,  1,  2],\n",
       "        [ 3,  4,  5],\n",
       "        [ 6,  7,  8]],\n",
       "\n",
       "       [[18, 19, 20],\n",
       "        [21, 22, 23],\n",
       "        [24, 25, 26]]])"
      ]
     },
     "execution_count": 322,
     "metadata": {},
     "output_type": "execute_result"
    }
   ],
   "source": [
    "'''fetch only 0th and 2nd array'''\n",
    "a3[0::2]"
   ]
  },
  {
   "cell_type": "code",
   "execution_count": 330,
   "id": "6b874218-0fa6-4d94-820a-9dda6e0f37c4",
   "metadata": {},
   "outputs": [
    {
     "data": {
      "text/plain": [
       "array([[3, 4, 5]])"
      ]
     },
     "execution_count": 330,
     "metadata": {},
     "output_type": "execute_result"
    }
   ],
   "source": [
    "a3[0,1::2]"
   ]
  },
  {
   "cell_type": "code",
   "execution_count": 336,
   "id": "78dbfe6c-0e20-4c24-9e85-92e2a15751ec",
   "metadata": {},
   "outputs": [
    {
     "name": "stdout",
     "output_type": "stream",
     "text": [
      "[[[ 0  1  2]\n",
      "  [ 3  4  5]\n",
      "  [ 6  7  8]]\n",
      "\n",
      " [[ 9 10 11]\n",
      "  [12 13 14]\n",
      "  [15 16 17]]\n",
      "\n",
      " [[18 19 20]\n",
      "  [21 22 23]\n",
      "  [24 25 26]]]\n"
     ]
    }
   ],
   "source": [
    "print(a3)"
   ]
  },
  {
   "cell_type": "code",
   "execution_count": 356,
   "id": "ac63e2a2-be13-4222-845d-c52c6870d8a1",
   "metadata": {},
   "outputs": [
    {
     "data": {
      "text/plain": [
       "array([10, 13, 16])"
      ]
     },
     "execution_count": 356,
     "metadata": {},
     "output_type": "execute_result"
    }
   ],
   "source": [
    "a3[1,:,1]"
   ]
  },
  {
   "cell_type": "code",
   "execution_count": 358,
   "id": "af070f05-7f17-4e45-b0ba-f1b77e94b567",
   "metadata": {},
   "outputs": [
    {
     "data": {
      "text/plain": [
       "array([[22, 23],\n",
       "       [25, 26]])"
      ]
     },
     "execution_count": 358,
     "metadata": {},
     "output_type": "execute_result"
    }
   ],
   "source": [
    "a3[2,1::,1::,]"
   ]
  },
  {
   "cell_type": "code",
   "execution_count": 360,
   "id": "281ec508-1e62-49f9-99fa-fff727db474b",
   "metadata": {},
   "outputs": [
    {
     "data": {
      "text/plain": [
       "array([[[ 0,  1,  2],\n",
       "        [ 3,  4,  5],\n",
       "        [ 6,  7,  8]],\n",
       "\n",
       "       [[ 9, 10, 11],\n",
       "        [12, 13, 14],\n",
       "        [15, 16, 17]],\n",
       "\n",
       "       [[18, 19, 20],\n",
       "        [21, 22, 23],\n",
       "        [24, 25, 26]]])"
      ]
     },
     "execution_count": 360,
     "metadata": {},
     "output_type": "execute_result"
    }
   ],
   "source": [
    "a3"
   ]
  },
  {
   "cell_type": "code",
   "execution_count": 380,
   "id": "7c6b3a44-fc57-4079-9e72-50b3c3ef077d",
   "metadata": {},
   "outputs": [
    {
     "name": "stdout",
     "output_type": "stream",
     "text": [
      "[[[ 0  2]]\n",
      "\n",
      " [[18 20]]]\n",
      "    \n",
      "[[ 0  2]\n",
      " [18 20]]\n"
     ]
    }
   ],
   "source": [
    "'''0,2 and 18,20'''\n",
    "print(a3[0:4:2,0:1,0::2,]) #first: which 2D array\n",
    "#second: which rows to be printed\n",
    "#third:which columns to be printed\n",
    "print(\"    \")\n",
    "print(a3[0:4:2,0,::2,])"
   ]
  },
  {
   "cell_type": "markdown",
   "id": "6b9c8ce6-f438-49ee-8c96-d3658a762d77",
   "metadata": {},
   "source": [
    "<h2>Iterating</h2>"
   ]
  },
  {
   "cell_type": "code",
   "execution_count": 387,
   "id": "f0cca0ee-f7e0-4f7d-9884-56dcc346de2b",
   "metadata": {},
   "outputs": [
    {
     "name": "stdout",
     "output_type": "stream",
     "text": [
      "[0 1 2 3 4 5 6 7 8 9]\n",
      "[[ 0  1  2  3]\n",
      " [ 4  5  6  7]\n",
      " [ 8  9 10 11]]\n",
      " \n",
      "[[[ 0  1  2]\n",
      "  [ 3  4  5]\n",
      "  [ 6  7  8]]\n",
      "\n",
      " [[ 9 10 11]\n",
      "  [12 13 14]\n",
      "  [15 16 17]]\n",
      "\n",
      " [[18 19 20]\n",
      "  [21 22 23]\n",
      "  [24 25 26]]]\n"
     ]
    }
   ],
   "source": [
    "print(a1)\n",
    "print(a2)\n",
    "print(\" \")\n",
    "print(a3)"
   ]
  },
  {
   "cell_type": "code",
   "execution_count": 391,
   "id": "54f7b935-6944-49f0-867a-2bc8509429d8",
   "metadata": {},
   "outputs": [
    {
     "name": "stdout",
     "output_type": "stream",
     "text": [
      "0\n",
      "1\n",
      "2\n",
      "3\n",
      "4\n",
      "5\n",
      "6\n",
      "7\n",
      "8\n",
      "9\n"
     ]
    }
   ],
   "source": [
    "a1\n",
    "for i in a1:\n",
    "    print(i)"
   ]
  },
  {
   "cell_type": "code",
   "execution_count": 399,
   "id": "f377e82e-4304-4b6d-86e4-0364104ca589",
   "metadata": {},
   "outputs": [
    {
     "name": "stdout",
     "output_type": "stream",
     "text": [
      "[[ 0  1  2  3]\n",
      " [ 4  5  6  7]\n",
      " [ 8  9 10 11]]      \n",
      "[0 1 2 3]\n",
      "[4 5 6 7]\n",
      "[ 8  9 10 11]\n"
     ]
    }
   ],
   "source": [
    "print(a2,\"     \")\n",
    "for i in a2:\n",
    "    print(i) # here it prints each row at time"
   ]
  },
  {
   "cell_type": "code",
   "execution_count": 401,
   "id": "ef22bd38-5c27-45ab-87b5-cb0afafa1e77",
   "metadata": {},
   "outputs": [
    {
     "name": "stdout",
     "output_type": "stream",
     "text": [
      "[[[ 0  1  2]\n",
      "  [ 3  4  5]\n",
      "  [ 6  7  8]]\n",
      "\n",
      " [[ 9 10 11]\n",
      "  [12 13 14]\n",
      "  [15 16 17]]\n",
      "\n",
      " [[18 19 20]\n",
      "  [21 22 23]\n",
      "  [24 25 26]]]\n"
     ]
    }
   ],
   "source": [
    "print(a3)"
   ]
  },
  {
   "cell_type": "code",
   "execution_count": 403,
   "id": "6512d902-fc41-48cc-9b83-e295f25e3796",
   "metadata": {},
   "outputs": [
    {
     "name": "stdout",
     "output_type": "stream",
     "text": [
      "[[0 1 2]\n",
      " [3 4 5]\n",
      " [6 7 8]]\n",
      "[[ 9 10 11]\n",
      " [12 13 14]\n",
      " [15 16 17]]\n",
      "[[18 19 20]\n",
      " [21 22 23]\n",
      " [24 25 26]]\n"
     ]
    }
   ],
   "source": [
    "for i in a3:\n",
    "    print(i)"
   ]
  },
  {
   "cell_type": "code",
   "execution_count": 407,
   "id": "bad01a0f-d13d-4f22-bf37-09ea933d45d9",
   "metadata": {},
   "outputs": [
    {
     "name": "stdout",
     "output_type": "stream",
     "text": [
      "0\n",
      "1\n",
      "2\n",
      "3\n",
      "4\n",
      "5\n",
      "6\n",
      "7\n",
      "8\n",
      "9\n",
      "10\n",
      "11\n"
     ]
    }
   ],
   "source": [
    "'''to print all the elements of 2D or 3D array we can use iter(), it first\n",
    "converts the multidimensional array into 1D then print the elements'''\n",
    "for i in np.nditer(a2):\n",
    "    print(i)"
   ]
  },
  {
   "cell_type": "code",
   "execution_count": 411,
   "id": "a18503a3-0cf2-4c04-9c86-f7b2f4cd38ce",
   "metadata": {},
   "outputs": [
    {
     "name": "stdout",
     "output_type": "stream",
     "text": [
      "0\n",
      "1\n",
      "2\n",
      "3\n",
      "4\n",
      "5\n",
      "6\n",
      "7\n",
      "8\n",
      "9\n",
      "10\n",
      "11\n",
      "12\n",
      "13\n",
      "14\n",
      "15\n",
      "16\n",
      "17\n",
      "18\n",
      "19\n",
      "20\n",
      "21\n",
      "22\n",
      "23\n",
      "24\n",
      "25\n",
      "26\n"
     ]
    }
   ],
   "source": [
    "for i in np.nditer(a3):\n",
    "    print(i)"
   ]
  },
  {
   "cell_type": "markdown",
   "id": "8a0e8662-41ea-4e0c-8aa0-7af24a901ad6",
   "metadata": {},
   "source": [
    "<h2>Reshaping</h2>\n",
    "\n",
    "- There are 3 methods in reshaping 1. reshape , 2. transpose, 3.ravel"
   ]
  },
  {
   "cell_type": "code",
   "execution_count": 422,
   "id": "300c5434-2c54-4da3-84c3-778999f7c5f6",
   "metadata": {},
   "outputs": [
    {
     "data": {
      "text/plain": [
       "array([[ 0,  1,  2,  3],\n",
       "       [ 4,  5,  6,  7],\n",
       "       [ 8,  9, 10, 11]])"
      ]
     },
     "execution_count": 422,
     "metadata": {},
     "output_type": "execute_result"
    }
   ],
   "source": [
    "a2 #(4,3)"
   ]
  },
  {
   "cell_type": "code",
   "execution_count": 428,
   "id": "5b8c3c0f-5c2c-4fc6-bcf7-4cfa21e365ad",
   "metadata": {},
   "outputs": [
    {
     "name": "stdout",
     "output_type": "stream",
     "text": [
      "[[ 0  4  8]\n",
      " [ 1  5  9]\n",
      " [ 2  6 10]\n",
      " [ 3  7 11]]\n"
     ]
    },
    {
     "data": {
      "text/plain": [
       "array([[ 0,  4,  8],\n",
       "       [ 1,  5,  9],\n",
       "       [ 2,  6, 10],\n",
       "       [ 3,  7, 11]])"
      ]
     },
     "execution_count": 428,
     "metadata": {},
     "output_type": "execute_result"
    }
   ],
   "source": [
    "'''Transpose : converts row to column and column to row'''\n",
    "print(np.transpose(a2) )#(3,4)\n",
    "a2.T #another method to transpose"
   ]
  },
  {
   "cell_type": "code",
   "execution_count": 438,
   "id": "ce70e1b8-339b-4ea5-a718-48bd63798eec",
   "metadata": {},
   "outputs": [
    {
     "name": "stdout",
     "output_type": "stream",
     "text": [
      "[[ 0  1  2  3]\n",
      " [ 4  5  6  7]\n",
      " [ 8  9 10 11]]\n"
     ]
    },
    {
     "data": {
      "text/plain": [
       "array([ 0,  1,  2,  3,  4,  5,  6,  7,  8,  9, 10, 11])"
      ]
     },
     "execution_count": 438,
     "metadata": {},
     "output_type": "execute_result"
    }
   ],
   "source": [
    "'''raval: it converts any dimension array into 1D'''\n",
    "print(a2)\n",
    "a2.ravel()"
   ]
  },
  {
   "cell_type": "code",
   "execution_count": 440,
   "id": "95a472fa-3b5d-4b65-8ac3-76181e1d7fd5",
   "metadata": {},
   "outputs": [
    {
     "data": {
      "text/plain": [
       "array([ 0,  1,  2,  3,  4,  5,  6,  7,  8,  9, 10, 11, 12, 13, 14, 15, 16,\n",
       "       17, 18, 19, 20, 21, 22, 23, 24, 25, 26])"
      ]
     },
     "execution_count": 440,
     "metadata": {},
     "output_type": "execute_result"
    }
   ],
   "source": [
    "a3.ravel()"
   ]
  },
  {
   "cell_type": "code",
   "execution_count": 442,
   "id": "ac614b16-a68d-4f7a-978b-8e8aa2ea8938",
   "metadata": {},
   "outputs": [
    {
     "data": {
      "text/plain": [
       "' whenever the result are visible the changes are tempory otherwise it is\\npermanent'"
      ]
     },
     "execution_count": 442,
     "metadata": {},
     "output_type": "execute_result"
    }
   ],
   "source": [
    "''' whenever the result are visible the changes are tempory otherwise it is\n",
    "permanent'''"
   ]
  },
  {
   "cell_type": "markdown",
   "id": "04b96c68-f8d4-4d47-ae74-0896225a595a",
   "metadata": {},
   "source": [
    "<h3>Stacking</h3>\n",
    "\n",
    "- we can stack up two or more numpy arrays horizontaly or vertically.\n",
    "- if we have 2 numpy arrays (2,2) then if we stack it horizontally then,\n",
    "  number of columns inc and rows remain same.\n",
    "- if we have stack vertically then,number of rows inc and column remain same.\n",
    "- sizes of the arrays should be same\n",
    "- <font color='red'>Sometimes we can multiple sources of data eg: database,api, web scrapping, so since the data is similar we need to perform\n",
    "analyses using all 3 so using stacking we can combine the data</font>"
   ]
  },
  {
   "cell_type": "code",
   "execution_count": 448,
   "id": "1bb81f9f-8e55-40df-8371-6711d24c96a2",
   "metadata": {},
   "outputs": [],
   "source": [
    "# horizontal stacking\n",
    "a2=np.arange(12).reshape(3,4)\n",
    "a3=np.arange(12,24).reshape(3,4)\n"
   ]
  },
  {
   "cell_type": "code",
   "execution_count": 454,
   "id": "4f3d95a1-da5f-4571-9001-7e5823597d06",
   "metadata": {},
   "outputs": [
    {
     "data": {
      "text/plain": [
       "array([[ 0,  1,  2,  3, 12, 13, 14, 15],\n",
       "       [ 4,  5,  6,  7, 16, 17, 18, 19],\n",
       "       [ 8,  9, 10, 11, 20, 21, 22, 23]])"
      ]
     },
     "execution_count": 454,
     "metadata": {},
     "output_type": "execute_result"
    }
   ],
   "source": [
    "'''horizontal stacking'''\n",
    "np.hstack((a2,a3))"
   ]
  },
  {
   "cell_type": "code",
   "execution_count": 458,
   "id": "cca003e1-a142-4333-8264-b1ab68e131b5",
   "metadata": {},
   "outputs": [
    {
     "data": {
      "text/plain": [
       "array([[ 0,  1,  2,  3, 12, 13, 14, 15, 12, 13, 14, 15],\n",
       "       [ 4,  5,  6,  7, 16, 17, 18, 19, 16, 17, 18, 19],\n",
       "       [ 8,  9, 10, 11, 20, 21, 22, 23, 20, 21, 22, 23]])"
      ]
     },
     "execution_count": 458,
     "metadata": {},
     "output_type": "execute_result"
    }
   ],
   "source": [
    "np.hstack((a2,a3,a3))"
   ]
  },
  {
   "cell_type": "code",
   "execution_count": 462,
   "id": "50b3e469-f371-48a1-945f-d7dff5b97feb",
   "metadata": {},
   "outputs": [
    {
     "data": {
      "text/plain": [
       "array([[ 0,  1,  2,  3],\n",
       "       [ 4,  5,  6,  7],\n",
       "       [ 8,  9, 10, 11],\n",
       "       [12, 13, 14, 15],\n",
       "       [16, 17, 18, 19],\n",
       "       [20, 21, 22, 23]])"
      ]
     },
     "execution_count": 462,
     "metadata": {},
     "output_type": "execute_result"
    }
   ],
   "source": [
    "'''vertical stacking'''\n",
    "np.vstack((a2,a3))"
   ]
  },
  {
   "cell_type": "markdown",
   "id": "e485c3a5-5499-416b-960d-30470a9231c4",
   "metadata": {},
   "source": [
    "<h3>Spliting</h3>\n",
    "\n",
    "- it is the opposite of stacking\n",
    "- we can split an array into two parts.\n",
    "- we have two types of spliting:\n",
    "   - 1.horizontal: spliting [ | ]\n",
    "   - 2.vertical:spliting[---]\n",
    "- the important thing is that the array should be divisible by the number of sections you want to split it into."
   ]
  },
  {
   "cell_type": "code",
   "execution_count": 484,
   "id": "afa9e738-e7f6-4213-a387-9b5826742f5f",
   "metadata": {},
   "outputs": [],
   "source": [
    "a2=np.arange(15).reshape(3,5)\n",
    "a3=np.arange(15).reshape(3,5)"
   ]
  },
  {
   "cell_type": "code",
   "execution_count": 486,
   "id": "26d422e0-db76-4313-b605-ed3ae3ca3bb1",
   "metadata": {},
   "outputs": [
    {
     "data": {
      "text/plain": [
       "array([[ 0,  1,  2,  3,  4,  0,  1,  2,  3,  4],\n",
       "       [ 5,  6,  7,  8,  9,  5,  6,  7,  8,  9],\n",
       "       [10, 11, 12, 13, 14, 10, 11, 12, 13, 14]])"
      ]
     },
     "execution_count": 486,
     "metadata": {},
     "output_type": "execute_result"
    }
   ],
   "source": [
    "np.hstack((a2,a3))"
   ]
  },
  {
   "cell_type": "code",
   "execution_count": 505,
   "id": "bafc02f4-2652-4485-8f8c-ba2a2fe6d2ee",
   "metadata": {},
   "outputs": [
    {
     "data": {
      "text/plain": [
       "[array([[ 0,  1,  2,  3,  4],\n",
       "        [ 5,  6,  7,  8,  9],\n",
       "        [10, 11, 12, 13, 14]])]"
      ]
     },
     "execution_count": 505,
     "metadata": {},
     "output_type": "execute_result"
    }
   ],
   "source": [
    "np.hsplit(a2,1)"
   ]
  },
  {
   "cell_type": "code",
   "execution_count": 509,
   "id": "e51e9b3e-ca19-44bc-b4b0-bcdb779bf360",
   "metadata": {},
   "outputs": [
    {
     "data": {
      "text/plain": [
       "[array([[ 0],\n",
       "        [ 5],\n",
       "        [10]]),\n",
       " array([[ 1],\n",
       "        [ 6],\n",
       "        [11]]),\n",
       " array([[ 2],\n",
       "        [ 7],\n",
       "        [12]]),\n",
       " array([[ 3],\n",
       "        [ 8],\n",
       "        [13]]),\n",
       " array([[ 4],\n",
       "        [ 9],\n",
       "        [14]])]"
      ]
     },
     "execution_count": 509,
     "metadata": {},
     "output_type": "execute_result"
    }
   ],
   "source": [
    "np.hsplit(a2,5) #the array is spited into 5 different arrays"
   ]
  },
  {
   "cell_type": "code",
   "execution_count": 494,
   "id": "96825da4-42fe-4bd2-b347-5abd0fecc22a",
   "metadata": {},
   "outputs": [],
   "source": [
    "ar=np.arange(12).reshape(3,4)"
   ]
  },
  {
   "cell_type": "code",
   "execution_count": 496,
   "id": "72c8c100-3bfa-4f4b-a615-3f07d3537f48",
   "metadata": {},
   "outputs": [
    {
     "data": {
      "text/plain": [
       "[array([[0, 1],\n",
       "        [4, 5],\n",
       "        [8, 9]]),\n",
       " array([[ 2,  3],\n",
       "        [ 6,  7],\n",
       "        [10, 11]])]"
      ]
     },
     "execution_count": 496,
     "metadata": {},
     "output_type": "execute_result"
    }
   ],
   "source": [
    "np.hsplit(ar,2)"
   ]
  },
  {
   "cell_type": "code",
   "execution_count": 513,
   "id": "22cb0190-d26f-4513-975a-8c2b64131899",
   "metadata": {},
   "outputs": [],
   "source": [
    "a3=np.arange(16).reshape(4,4)"
   ]
  },
  {
   "cell_type": "code",
   "execution_count": 515,
   "id": "e92d8a7c-160d-43eb-aed2-68e8903544e2",
   "metadata": {},
   "outputs": [
    {
     "data": {
      "text/plain": [
       "[array([[0, 1, 2, 3],\n",
       "        [4, 5, 6, 7]]),\n",
       " array([[ 8,  9, 10, 11],\n",
       "        [12, 13, 14, 15]])]"
      ]
     },
     "execution_count": 515,
     "metadata": {},
     "output_type": "execute_result"
    }
   ],
   "source": [
    "np.vsplit(a3,2) "
   ]
  },
  {
   "cell_type": "markdown",
   "id": "dadfae6d-de87-4f02-a83a-f69ea9066256",
   "metadata": {},
   "source": [
    "<h1><font color='red'>Advance NumPy</h1></font>"
   ]
  },
  {
   "cell_type": "markdown",
   "id": "21674433-1ebc-4696-b9c5-1fb29959cd27",
   "metadata": {},
   "source": [
    "<h3>Numpy array vs Python list</h3>\n",
    "\n",
    "- Numpy is much better option then list because:\n",
    "   - 1.Memory Efficient\n",
    "   - 2.Fast\n",
    "   - 3.Convinient to use"
   ]
  },
  {
   "cell_type": "code",
   "execution_count": 524,
   "id": "cd74ef88-1a79-441a-90a9-38abbe208a0a",
   "metadata": {},
   "outputs": [
    {
     "name": "stdout",
     "output_type": "stream",
     "text": [
      "1.956639289855957\n"
     ]
    }
   ],
   "source": [
    "#speed in list\n",
    "a=[i for i in range(10000000)]\n",
    "b=[i for i in range(10000000,20000000)]\n",
    "\n",
    "c=[]\n",
    "for i in range(len(a)):\n",
    "    c.append(a[i]+b[i])\n",
    "import time\n",
    "start=time.time()\n",
    "for i in range(len(a)):\n",
    "    c.append(a[i]+b[i])\n",
    "print(time.time()-start)"
   ]
  },
  {
   "cell_type": "code",
   "execution_count": 528,
   "id": "fcb859c2-d3c6-4253-99f9-24471a0beebc",
   "metadata": {},
   "outputs": [
    {
     "name": "stdout",
     "output_type": "stream",
     "text": [
      "0.014953136444091797\n"
     ]
    }
   ],
   "source": [
    "#speed in numpy\n",
    "import numpy as np\n",
    "a=np.arange(10000000)\n",
    "b=np.arange(10000000,20000000)\n",
    "start=time.time()\n",
    "c=a+b\n",
    "print(time.time()-start)"
   ]
  },
  {
   "cell_type": "markdown",
   "id": "33933d02-6340-4d4e-bc42-9dea22996642",
   "metadata": {},
   "source": [
    "<h2>Why list is slow?</h2>\n",
    "list is slow because : 1. it is dynamic , 2.it is a referential array."
   ]
  },
  {
   "cell_type": "code",
   "execution_count": 542,
   "id": "72c23633-da08-41d9-a0b1-acf19a26efe9",
   "metadata": {},
   "outputs": [
    {
     "data": {
      "text/plain": [
       "89095160"
      ]
     },
     "execution_count": 542,
     "metadata": {},
     "output_type": "execute_result"
    }
   ],
   "source": [
    "# memory\n",
    "a=[i for i in range(10000000)]\n",
    "import sys\n",
    "sys.getsizeof(a) #in bytes"
   ]
  },
  {
   "cell_type": "code",
   "execution_count": 557,
   "id": "4bd30b8d-361a-4cb1-ab0d-5f7372f91f90",
   "metadata": {},
   "outputs": [
    {
     "name": "stdout",
     "output_type": "stream",
     "text": [
      "40000112\n"
     ]
    },
    {
     "data": {
      "text/plain": [
       "dtype('int32')"
      ]
     },
     "execution_count": 557,
     "metadata": {},
     "output_type": "execute_result"
    }
   ],
   "source": [
    "a=np.arange(10000000)\n",
    "print(sys.getsizeof(a))\n",
    "a.dtype"
   ]
  },
  {
   "cell_type": "code",
   "execution_count": 561,
   "id": "0f5e9d15-75d7-4b5a-9ab4-3ea10912cf69",
   "metadata": {},
   "outputs": [
    {
     "name": "stdout",
     "output_type": "stream",
     "text": [
      "20000112\n"
     ]
    }
   ],
   "source": [
    "a=np.arange(10000000,dtype=np.int16)\n",
    "print(sys.getsizeof(a))"
   ]
  },
  {
   "cell_type": "code",
   "execution_count": 569,
   "id": "a9f62f91-8d6e-4474-9b2d-624a6997a0fc",
   "metadata": {},
   "outputs": [
    {
     "name": "stdout",
     "output_type": "stream",
     "text": [
      "10000112\n"
     ]
    }
   ],
   "source": [
    "a=np.arange(10000000,dtype=np.int8)\n",
    "print(sys.getsizeof(a))"
   ]
  },
  {
   "cell_type": "raw",
   "id": "a42bb28b-2692-42ca-809e-5a5341a8b94a",
   "metadata": {},
   "source": [
    "in list we cannot change the amount of space occupied by list but numpy gives us this \n",
    "flexibility that we can change according to us if possible."
   ]
  },
  {
   "cell_type": "markdown",
   "id": "0314daee-71f1-428e-8f85-8fe4bc5b1da6",
   "metadata": {},
   "source": [
    "<h2>Advance Indexing</h2>\n",
    "\n",
    "- 1.Fancy Indexing\n",
    "- 2.Boolean Indexing"
   ]
  },
  {
   "cell_type": "code",
   "execution_count": 576,
   "id": "9b22aa7d-82ae-49d5-89a3-47faad8b600a",
   "metadata": {},
   "outputs": [
    {
     "data": {
      "text/plain": [
       "array([[ 0,  1,  2,  3],\n",
       "       [ 4,  5,  6,  7],\n",
       "       [ 8,  9, 10, 11]])"
      ]
     },
     "execution_count": 576,
     "metadata": {},
     "output_type": "execute_result"
    }
   ],
   "source": [
    "#normal indexing and slicing\n",
    "a=np.arange(12).reshape(3,4)\n",
    "a"
   ]
  },
  {
   "cell_type": "code",
   "execution_count": 578,
   "id": "fa70fd0a-076d-46fa-b8e5-95da8b0dc020",
   "metadata": {},
   "outputs": [
    {
     "data": {
      "text/plain": [
       "6"
      ]
     },
     "execution_count": 578,
     "metadata": {},
     "output_type": "execute_result"
    }
   ],
   "source": [
    "a[1,2]"
   ]
  },
  {
   "cell_type": "code",
   "execution_count": 580,
   "id": "fd42df13-2b69-4c47-a0aa-76cdddfb9b82",
   "metadata": {},
   "outputs": [
    {
     "data": {
      "text/plain": [
       "array([[ 5,  6],\n",
       "       [ 9, 10]])"
      ]
     },
     "execution_count": 580,
     "metadata": {},
     "output_type": "execute_result"
    }
   ],
   "source": [
    "a[1:3,1:3]"
   ]
  },
  {
   "cell_type": "markdown",
   "id": "b5ad29be-1a14-495b-a443-a2ba15da99cc",
   "metadata": {},
   "source": [
    "<h3>Fancy Indexing</h3>\n",
    "\n",
    "- In this we give a list with index of the elements needed inside sq bracket"
   ]
  },
  {
   "cell_type": "code",
   "execution_count": 588,
   "id": "3a4f7a0b-4188-4d68-bc28-41df3a8535e7",
   "metadata": {},
   "outputs": [
    {
     "data": {
      "text/plain": [
       "array([[ 0,  1,  2,  3],\n",
       "       [ 4,  5,  6,  7],\n",
       "       [ 8,  9, 10, 11],\n",
       "       [12, 13, 14, 15],\n",
       "       [16, 17, 18, 19],\n",
       "       [20, 21, 22, 23]])"
      ]
     },
     "execution_count": 588,
     "metadata": {},
     "output_type": "execute_result"
    }
   ],
   "source": [
    "a=np.arange(24).reshape(6,4)\n",
    "a"
   ]
  },
  {
   "cell_type": "code",
   "execution_count": 590,
   "id": "1eb48711-23f2-4433-a67e-3681cbbb2cfd",
   "metadata": {},
   "outputs": [
    {
     "data": {
      "text/plain": [
       "array([[ 0,  1,  2,  3],\n",
       "       [ 8,  9, 10, 11],\n",
       "       [12, 13, 14, 15]])"
      ]
     },
     "execution_count": 590,
     "metadata": {},
     "output_type": "execute_result"
    }
   ],
   "source": [
    "'''for fetching specific rows(0,2,30)'''\n",
    "a[[0,2,3]]"
   ]
  },
  {
   "cell_type": "code",
   "execution_count": 594,
   "id": "19e9463b-e13c-4133-8dab-4ee5c66b9d5f",
   "metadata": {},
   "outputs": [
    {
     "data": {
      "text/plain": [
       "array([[ 0,  1,  2,  3],\n",
       "       [20, 21, 22, 23]])"
      ]
     },
     "execution_count": 594,
     "metadata": {},
     "output_type": "execute_result"
    }
   ],
   "source": [
    "'''fetch first and last row'''\n",
    "a[[0,5]]"
   ]
  },
  {
   "cell_type": "code",
   "execution_count": 602,
   "id": "b5bfb0d5-193f-41b0-8bcb-b2d893ab9efe",
   "metadata": {},
   "outputs": [
    {
     "name": "stdout",
     "output_type": "stream",
     "text": [
      "[[ 0  1  2  3]\n",
      " [ 4  5  6  7]\n",
      " [ 8  9 10 11]\n",
      " [12 13 14 15]\n",
      " [16 17 18 19]\n",
      " [20 21 22 23]]\n"
     ]
    },
    {
     "data": {
      "text/plain": [
       "array([[ 0,  1,  3],\n",
       "       [ 4,  5,  7],\n",
       "       [ 8,  9, 11],\n",
       "       [12, 13, 15],\n",
       "       [16, 17, 19],\n",
       "       [20, 21, 23]])"
      ]
     },
     "execution_count": 602,
     "metadata": {},
     "output_type": "execute_result"
    }
   ],
   "source": [
    "'''fetch specific columns(0,1,3)'''\n",
    "print(a)\n",
    "     #col indices\n",
    "a[:,[0,1,3]]"
   ]
  },
  {
   "cell_type": "code",
   "execution_count": 630,
   "id": "d25e45e2-8cfe-4ffa-9fb9-070b5e95f16c",
   "metadata": {},
   "outputs": [
    {
     "data": {
      "text/plain": [
       "array([[0, 1, 2, 3],\n",
       "       [4, 5, 6, 7]])"
      ]
     },
     "execution_count": 630,
     "metadata": {},
     "output_type": "execute_result"
    }
   ],
   "source": [
    "'''fetch entire first and second row''' #0 and 1 are indices of rows\n",
    "a[[0,1],::]"
   ]
  },
  {
   "cell_type": "markdown",
   "id": "1df2fc12-f1fe-4be9-bc07-961598acf868",
   "metadata": {},
   "source": [
    "<h3>Boolean Indexing</h3>\n",
    "\n",
    "- We use boolean indexing when we want to filter or select specific elements from an array based on certain conditions or criteria. It's a quick and efficient way to work with data where you want to apply logical conditions and extract meaningful subsets."
   ]
  },
  {
   "cell_type": "code",
   "execution_count": 644,
   "id": "a47d32a6-f61d-42cf-a089-c0caec4db664",
   "metadata": {},
   "outputs": [
    {
     "data": {
      "text/plain": [
       "array([[46, 67,  9, 62],\n",
       "       [98, 97, 96, 26],\n",
       "       [28,  9, 33, 86],\n",
       "       [97, 48, 15, 10],\n",
       "       [75, 16, 55, 73],\n",
       "       [23, 12, 40, 64]])"
      ]
     },
     "execution_count": 644,
     "metadata": {},
     "output_type": "execute_result"
    }
   ],
   "source": [
    "a=np.random.randint(1,100,24).reshape(6,4)\n",
    "a"
   ]
  },
  {
   "cell_type": "code",
   "execution_count": 646,
   "id": "01407574-1eb9-40e2-bb2a-cb95f895779d",
   "metadata": {},
   "outputs": [
    {
     "data": {
      "text/plain": [
       "array([[False,  True, False,  True],\n",
       "       [ True,  True,  True, False],\n",
       "       [False, False, False,  True],\n",
       "       [ True, False, False, False],\n",
       "       [ True, False,  True,  True],\n",
       "       [False, False, False,  True]])"
      ]
     },
     "execution_count": 646,
     "metadata": {},
     "output_type": "execute_result"
    }
   ],
   "source": [
    "#now apply condition and filterout elements\n",
    "'''find all numbers greater than 50'''\n",
    "a>50 #the output is boolean array"
   ]
  },
  {
   "cell_type": "raw",
   "id": "1785dcdb-970e-414c-95e0-1d38d25c798a",
   "metadata": {},
   "source": [
    "now we can use this boolean array as a mask , and through this we can do filtering\n",
    "we will pick this array and match it with our original array and wherever the values are true\n",
    "that particular value will remain in the original array and the rest will be erased"
   ]
  },
  {
   "cell_type": "code",
   "execution_count": 650,
   "id": "beadb4ad-a07c-4a6c-af2e-eb5387780ccb",
   "metadata": {},
   "outputs": [
    {
     "data": {
      "text/plain": [
       "array([67, 62, 98, 97, 96, 86, 97, 75, 55, 73, 64])"
      ]
     },
     "execution_count": 650,
     "metadata": {},
     "output_type": "execute_result"
    }
   ],
   "source": [
    "a[a>50] #condition inside a[] ''' only true values are returned'''"
   ]
  },
  {
   "cell_type": "code",
   "execution_count": 652,
   "id": "d91bc98e-2f0d-4634-9fbd-571205802399",
   "metadata": {},
   "outputs": [
    {
     "data": {
      "text/plain": [
       "array([46, 62, 98, 96, 26, 28, 86, 48, 10, 16, 12, 40, 64])"
      ]
     },
     "execution_count": 652,
     "metadata": {},
     "output_type": "execute_result"
    }
   ],
   "source": [
    "'''find even numbers'''\n",
    "a[a%2==0]"
   ]
  },
  {
   "cell_type": "code",
   "execution_count": 654,
   "id": "8aea688f-698a-4e01-ae52-97bfa41fd2da",
   "metadata": {},
   "outputs": [
    {
     "ename": "ValueError",
     "evalue": "The truth value of an array with more than one element is ambiguous. Use a.any() or a.all()",
     "output_type": "error",
     "traceback": [
      "\u001b[1;31m---------------------------------------------------------------------------\u001b[0m",
      "\u001b[1;31mValueError\u001b[0m                                Traceback (most recent call last)",
      "Cell \u001b[1;32mIn[654], line 2\u001b[0m\n\u001b[0;32m      1\u001b[0m \u001b[38;5;124;03m'''find all numbers>50 and are even'''\u001b[39;00m\n\u001b[1;32m----> 2\u001b[0m a[a\u001b[38;5;241m>\u001b[39m\u001b[38;5;241m50\u001b[39m \u001b[38;5;129;01mand\u001b[39;00m a\u001b[38;5;241m%\u001b[39m\u001b[38;5;241m2\u001b[39m\u001b[38;5;241m==\u001b[39m\u001b[38;5;241m0\u001b[39m]\n",
      "\u001b[1;31mValueError\u001b[0m: The truth value of an array with more than one element is ambiguous. Use a.any() or a.all()"
     ]
    }
   ],
   "source": [
    "'''find all numbers>50 and are even'''\n",
    "a[a>50 and a%2==0]"
   ]
  },
  {
   "cell_type": "code",
   "execution_count": 658,
   "id": "160f8e8d-f4ed-4397-9c77-920ed4c4a36d",
   "metadata": {},
   "outputs": [
    {
     "data": {
      "text/plain": [
       "array([62, 98, 96, 86, 64])"
      ]
     },
     "execution_count": 658,
     "metadata": {},
     "output_type": "execute_result"
    }
   ],
   "source": [
    "'''find all numbers>50 and are even'''\n",
    "a[(a>50)&(a%2==0)] #here we use bitwise and(&) becuase we ae working with boolean values."
   ]
  },
  {
   "cell_type": "code",
   "execution_count": 663,
   "id": "78746af7-77ee-44f2-b4bb-26c13b2b3872",
   "metadata": {},
   "outputs": [
    {
     "data": {
      "text/plain": [
       "array([46, 67,  9, 62, 97, 96, 26,  9, 33, 86, 97, 48, 15, 10, 75, 16, 55,\n",
       "       73, 23, 12, 40, 64])"
      ]
     },
     "execution_count": 663,
     "metadata": {},
     "output_type": "execute_result"
    }
   ],
   "source": [
    "'''find all numbers not divisible by 7'''\n",
    "a[a%7!=0]"
   ]
  },
  {
   "cell_type": "code",
   "execution_count": 665,
   "id": "60c01679-345f-4d40-939a-b089bf7de7bd",
   "metadata": {},
   "outputs": [
    {
     "data": {
      "text/plain": [
       "array([46, 67,  9, 62, 97, 96, 26,  9, 33, 86, 97, 48, 15, 10, 75, 16, 55,\n",
       "       73, 23, 12, 40, 64])"
      ]
     },
     "execution_count": 665,
     "metadata": {},
     "output_type": "execute_result"
    }
   ],
   "source": [
    "'''find all numbers not divisible by 7'''\n",
    "a[~(a%7==0)] #(~)not bitwise operator"
   ]
  },
  {
   "cell_type": "markdown",
   "id": "cdf10905-adeb-4f0a-8599-6b6581eaa4d6",
   "metadata": {},
   "source": [
    "<h2>Broadcasting</h2>\n",
    "\n",
    "- The term broadcasting describes how NumPy treats arrays with different shapes during\n",
    "  arithmetic operations. if some set of rules are followed.\n",
    "- The smaller array is \"broadcast\"across the larger array so that they have compatible shapes.\n",
    "- Broadcasting is used in a technique called vectorization.\n",
    "- NumPy automatically try and apply broadcasting."
   ]
  },
  {
   "cell_type": "code",
   "execution_count": 673,
   "id": "48f780f5-e149-4f95-93a4-4c861a10c75e",
   "metadata": {},
   "outputs": [
    {
     "data": {
      "text/plain": [
       "'1 is expanded to reach the size of larger array if the size is met then operation can \\nbe perforemd'"
      ]
     },
     "execution_count": 673,
     "metadata": {},
     "output_type": "execute_result"
    }
   ],
   "source": [
    "'''1 is expanded to reach the size of larger array if the size is met then operation can \n",
    "be perforemd'''"
   ]
  },
  {
   "cell_type": "code",
   "execution_count": 688,
   "id": "147d80cd-f08f-474f-8a96-b07053724223",
   "metadata": {},
   "outputs": [
    {
     "name": "stdout",
     "output_type": "stream",
     "text": [
      "[[0 1 2]\n",
      " [3 4 5]]\n",
      "[[0 1 2]\n",
      " [3 4 5]]\n"
     ]
    },
    {
     "data": {
      "text/plain": [
       "array([[ 0,  2,  4],\n",
       "       [ 6,  8, 10]])"
      ]
     },
     "execution_count": 688,
     "metadata": {},
     "output_type": "execute_result"
    }
   ],
   "source": [
    "''' same shape (by shape me mean no. of row and column '''\n",
    "a=np.arange(6).reshape(2,3)\n",
    "b=np.arange(6).reshape(2,3)\n",
    "print(a)\n",
    "print(b)\n",
    "a+b #arrays with same shape can easily be added (item wise additon)"
   ]
  },
  {
   "cell_type": "code",
   "execution_count": 730,
   "id": "de8d800c-6b74-4584-8063-0b06b87ce0df",
   "metadata": {},
   "outputs": [
    {
     "name": "stdout",
     "output_type": "stream",
     "text": [
      "[[0 1 2]\n",
      " [3 4 5]]\n",
      "   \n",
      "[[0 1 2]]\n"
     ]
    },
    {
     "data": {
      "text/plain": [
       "array([[0, 2, 4],\n",
       "       [3, 5, 7]])"
      ]
     },
     "execution_count": 730,
     "metadata": {},
     "output_type": "execute_result"
    }
   ],
   "source": [
    "''' with different shape'''\n",
    "a=np.arange(6).reshape(2,3)\n",
    "b=np.arange(3).reshape(1,3)\n",
    "print(a)\n",
    "print(\"   \")\n",
    "print(b)\n",
    "a+b #but how? - broadcasting"
   ]
  },
  {
   "cell_type": "markdown",
   "id": "3d8a72d7-dc63-4aa0-8adf-b6b2bce71278",
   "metadata": {},
   "source": [
    "<h3>Rules of Broadcasting</h3>\n",
    "\n",
    "- These rules need to be met if we want smaller array to be broadcasted.\n"
   ]
  },
  {
   "cell_type": "markdown",
   "id": "b8812093-0147-4d10-bdda-ce995f6dbde7",
   "metadata": {},
   "source": [
    "<h5>1.Make the two arrays of same dimensions.</h5>\n",
    "\n",
    "- If the numbers of dimensinos of the two arrays are different then, add new dimensions with size 1 to the head of the array with the smaller dimension.(in order to make the dimension of both the arrays equal add 1 to the head of smaller array.)\n",
    "eg: a1(3,3) and a2(3) so add 1 to the head of a2 and make it (1,3) now a1 and a2 are of same dimensions.\n",
    "\n",
    "''' this is automatically done by numpy'''"
   ]
  },
  {
   "cell_type": "markdown",
   "id": "b41700f3-f59c-4f1c-89bb-f93edc045676",
   "metadata": {},
   "source": [
    "<h5>2.Make each dimension of the two arrays of the same size(shape)</h5>\n",
    "\n",
    "- If the size(Shape) of the two arrays do not match , dimensions with size 1 are strechted to the size of the other array.\n",
    "- If there is a dimension whose size is not 1 in either of the arrays , it cannot be broadcasted and an error is raised.\n",
    "(in short after making the dimension equal now numpy try to make the shape of both arrays equal by streching 1 in smaller array and if 1 is not present then broadcasting cannot be performed with different shapes of array)"
   ]
  },
  {
   "attachments": {
    "81c714a5-92a1-4ca1-82ba-e17ac75d4d47.png": {
     "image/png": "[encoded data removed]"
    }
   },
   "cell_type": "markdown",
   "id": "ed918a0c-a212-4c2c-8614-7dc89c0d5bb3",
   "metadata": {},
   "source": [
    "![image.png](attachment:81c714a5-92a1-4ca1-82ba-e17ac75d4d47.png)"
   ]
  },
  {
   "cell_type": "code",
   "execution_count": 19,
   "id": "030f978c-c063-4a60-91de-8b25b0392ab2",
   "metadata": {},
   "outputs": [
    {
     "name": "stdout",
     "output_type": "stream",
     "text": [
      "[[0 1 2]\n",
      " [3 4 5]]\n",
      "[0 1 2]\n",
      "   \n",
      "sum is: [[0 2 4]\n",
      " [3 5 7]]\n"
     ]
    }
   ],
   "source": [
    "#examples\n",
    "import numpy as np\n",
    "a1=np.arange(6).reshape(2,3)\n",
    "a2=np.arange(3).reshape(3)\n",
    "print(a1)\n",
    "print(a2)\n",
    "print(\"   \")\n",
    "print(a1+a2)"
   ]
  },
  {
   "cell_type": "raw",
   "id": "a51e3acf-4140-432b-810c-e2f0067a258a",
   "metadata": {},
   "source": [
    "Let's look at how this is done:\n",
    "The sum is possible because of broadcasting.\n",
    "First the dimension of smaller array is made same.(3) is converted to (1,3) \n",
    "Now since the dimensions are same, numpy will try converting it into similar shape of \n",
    "larger array by streching 1 if present. \n",
    "Since in smaller array shape is (1,3) it can be streched and converted to (2,3)\n",
    "All these steps are automatically done by numpy"
   ]
  },
  {
   "cell_type": "code",
   "execution_count": 39,
   "id": "a8dbb7dd-5442-4d6b-94b2-cedd1b7c46e6",
   "metadata": {},
   "outputs": [
    {
     "name": "stdout",
     "output_type": "stream",
     "text": [
      "[[ 0  1  2  3]\n",
      " [ 4  5  6  7]\n",
      " [ 8  9 10 11]]\n",
      "   \n",
      "[0 1 2]\n"
     ]
    }
   ],
   "source": [
    "#example 2\n",
    "a3=np.arange(12).reshape(3,4)\n",
    "a4=np.arange(3).reshape(3)\n",
    "print(a3)\n",
    "print(\"   \")\n",
    "print(a4)"
   ]
  },
  {
   "cell_type": "code",
   "execution_count": 35,
   "id": "23e49aaf-b36e-4c1e-b43e-67805f5a7386",
   "metadata": {},
   "outputs": [
    {
     "ename": "ValueError",
     "evalue": "operands could not be broadcast together with shapes (3,4) (3,) ",
     "output_type": "error",
     "traceback": [
      "\u001b[1;31m---------------------------------------------------------------------------\u001b[0m",
      "\u001b[1;31mValueError\u001b[0m                                Traceback (most recent call last)",
      "Cell \u001b[1;32mIn[35], line 1\u001b[0m\n\u001b[1;32m----> 1\u001b[0m a3\u001b[38;5;241m+\u001b[39ma4\n",
      "\u001b[1;31mValueError\u001b[0m: operands could not be broadcast together with shapes (3,4) (3,) "
     ]
    }
   ],
   "source": [
    "a3+a4"
   ]
  },
  {
   "cell_type": "raw",
   "id": "b1c6dac6-d1cd-45d5-8af8-46f349ae49ab",
   "metadata": {},
   "source": [
    "Explaination:\n",
    "Here the reason why smaller array could not be broadcasted is :\n",
    "First the dimension of smaller array (3) is transformed to (1,3).\n",
    "Now since the dimension are same , numpy tries to make the size same by streching the 1\n",
    "in smaller array if possible .\n",
    "Here 1 can be streched to 3 and the shape will be:(3,1) which is not equal to the size of larger array.\n",
    "Therefore no broadcasting ."
   ]
  },
  {
   "cell_type": "code",
   "execution_count": 47,
   "id": "2116e382-2f12-4148-873c-9dda9f042a92",
   "metadata": {},
   "outputs": [
    {
     "data": {
      "text/plain": [
       "array([[0, 1, 2],\n",
       "       [1, 2, 3],\n",
       "       [2, 3, 4]])"
      ]
     },
     "execution_count": 47,
     "metadata": {},
     "output_type": "execute_result"
    }
   ],
   "source": [
    "#example 3\n",
    "a=np.arange(3).reshape(1,3)\n",
    "b=np.arange(3).reshape(3,1)\n",
    "a+b"
   ]
  },
  {
   "cell_type": "code",
   "execution_count": 51,
   "id": "0db85244-553d-439b-9d2a-e1864933d694",
   "metadata": {},
   "outputs": [
    {
     "data": {
      "text/plain": [
       "array([[0, 1, 2],\n",
       "       [1, 2, 3],\n",
       "       [2, 3, 4],\n",
       "       [3, 4, 5]])"
      ]
     },
     "execution_count": 51,
     "metadata": {},
     "output_type": "execute_result"
    }
   ],
   "source": [
    "a=np.arange(3).reshape(1,3)\n",
    "b=np.arange(4).reshape(4,1)\n",
    "a+b"
   ]
  },
  {
   "cell_type": "code",
   "execution_count": 57,
   "id": "f8d689be-f883-4855-90f8-3e45e178dee4",
   "metadata": {},
   "outputs": [
    {
     "data": {
      "text/plain": [
       "array([[0, 1],\n",
       "       [2, 3]])"
      ]
     },
     "execution_count": 57,
     "metadata": {},
     "output_type": "execute_result"
    }
   ],
   "source": [
    "a=np.arange(4).reshape(2,2)\n",
    "b=np.arange(1).reshape(1)\n",
    "a+b"
   ]
  },
  {
   "cell_type": "code",
   "execution_count": 63,
   "id": "242547f0-ff42-400d-b3f3-1276bdce7d32",
   "metadata": {},
   "outputs": [
    {
     "ename": "ValueError",
     "evalue": "operands could not be broadcast together with shapes (3,4) (4,3) ",
     "output_type": "error",
     "traceback": [
      "\u001b[1;31m---------------------------------------------------------------------------\u001b[0m",
      "\u001b[1;31mValueError\u001b[0m                                Traceback (most recent call last)",
      "Cell \u001b[1;32mIn[63], line 3\u001b[0m\n\u001b[0;32m      1\u001b[0m a\u001b[38;5;241m=\u001b[39mnp\u001b[38;5;241m.\u001b[39marange(\u001b[38;5;241m12\u001b[39m)\u001b[38;5;241m.\u001b[39mreshape(\u001b[38;5;241m3\u001b[39m,\u001b[38;5;241m4\u001b[39m)\n\u001b[0;32m      2\u001b[0m b\u001b[38;5;241m=\u001b[39mnp\u001b[38;5;241m.\u001b[39marange(\u001b[38;5;241m12\u001b[39m)\u001b[38;5;241m.\u001b[39mreshape(\u001b[38;5;241m4\u001b[39m,\u001b[38;5;241m3\u001b[39m)\n\u001b[1;32m----> 3\u001b[0m a\u001b[38;5;241m+\u001b[39mb\n",
      "\u001b[1;31mValueError\u001b[0m: operands could not be broadcast together with shapes (3,4) (4,3) "
     ]
    }
   ],
   "source": [
    "a=np.arange(12).reshape(3,4)\n",
    "b=np.arange(12).reshape(4,3)\n",
    "a+b\n",
    "# no streching can take place as there is no 1"
   ]
  },
  {
   "cell_type": "code",
   "execution_count": 69,
   "id": "e62a64f1-acb1-4bd1-a46f-a10da1c22efa",
   "metadata": {},
   "outputs": [
    {
     "ename": "ValueError",
     "evalue": "operands could not be broadcast together with shapes (4,4) (2,2) ",
     "output_type": "error",
     "traceback": [
      "\u001b[1;31m---------------------------------------------------------------------------\u001b[0m",
      "\u001b[1;31mValueError\u001b[0m                                Traceback (most recent call last)",
      "Cell \u001b[1;32mIn[69], line 3\u001b[0m\n\u001b[0;32m      1\u001b[0m a\u001b[38;5;241m=\u001b[39mnp\u001b[38;5;241m.\u001b[39marange(\u001b[38;5;241m16\u001b[39m)\u001b[38;5;241m.\u001b[39mreshape(\u001b[38;5;241m4\u001b[39m,\u001b[38;5;241m4\u001b[39m)\n\u001b[0;32m      2\u001b[0m b\u001b[38;5;241m=\u001b[39mnp\u001b[38;5;241m.\u001b[39marange(\u001b[38;5;241m4\u001b[39m)\u001b[38;5;241m.\u001b[39mreshape(\u001b[38;5;241m2\u001b[39m,\u001b[38;5;241m2\u001b[39m)\n\u001b[1;32m----> 3\u001b[0m a\u001b[38;5;241m+\u001b[39mb\n",
      "\u001b[1;31mValueError\u001b[0m: operands could not be broadcast together with shapes (4,4) (2,2) "
     ]
    }
   ],
   "source": [
    "a=np.arange(16).reshape(4,4)\n",
    "b=np.arange(4).reshape(2,2)\n",
    "a+b\n",
    "# no streching for shape can take place as no 1 is present"
   ]
  },
  {
   "cell_type": "code",
   "execution_count": 73,
   "id": "49829932-4e57-4b07-b260-c0f251693945",
   "metadata": {},
   "outputs": [
    {
     "data": {
      "text/plain": [
       "array([[0],\n",
       "       [1]])"
      ]
     },
     "execution_count": 73,
     "metadata": {},
     "output_type": "execute_result"
    }
   ],
   "source": [
    "b=np.arange(2).reshape(2,1)\n",
    "a=np.arange(1).reshape(1)\n",
    "a+b"
   ]
  },
  {
   "cell_type": "markdown",
   "id": "4d564674-3699-4402-9e73-1fa12ad25b53",
   "metadata": {},
   "source": [
    "- Broadcasting is used in a technique called vectorisation (numpy internally avoid loops)\n",
    "One of the reasons of numpy being fast is vectorisation."
   ]
  },
  {
   "cell_type": "markdown",
   "id": "d77614b9-71d3-4913-908b-f78ee393f9cc",
   "metadata": {},
   "source": [
    "<h2>Working With Mathematical Formulas</h2>"
   ]
  },
  {
   "cell_type": "code",
   "execution_count": 95,
   "id": "ffb39c53-6fc2-4f03-8f40-2885f47f821a",
   "metadata": {},
   "outputs": [
    {
     "data": {
      "text/plain": [
       "45"
      ]
     },
     "execution_count": 95,
     "metadata": {},
     "output_type": "execute_result"
    }
   ],
   "source": [
    "a=np.arange(10)\n",
    "np.sum(a)"
   ]
  },
  {
   "cell_type": "code",
   "execution_count": 85,
   "id": "a0f4dacd-1fbd-4e52-8c1d-9c1dfedd76ad",
   "metadata": {},
   "outputs": [
    {
     "data": {
      "text/plain": [
       "array([ 0.        ,  0.84147098,  0.90929743,  0.14112001, -0.7568025 ,\n",
       "       -0.95892427, -0.2794155 ,  0.6569866 ,  0.98935825,  0.41211849])"
      ]
     },
     "execution_count": 85,
     "metadata": {},
     "output_type": "execute_result"
    }
   ],
   "source": [
    "np.sin(a)"
   ]
  },
  {
   "cell_type": "code",
   "execution_count": 103,
   "id": "322f2731-8bbe-45dd-b2c1-1b2e6c88c39f",
   "metadata": {},
   "outputs": [
    {
     "data": {
      "text/plain": [
       "array([ 1,  5,  9, 13, 17])"
      ]
     },
     "execution_count": 103,
     "metadata": {},
     "output_type": "execute_result"
    }
   ],
   "source": [
    "a=np.arange(10).reshape(5,2)\n",
    "np.sum(a,axis=1)"
   ]
  },
  {
   "cell_type": "markdown",
   "id": "6f397e2f-6636-43a5-afad-5566c7836ab6",
   "metadata": {},
   "source": [
    "<h3>Sigmoid</h3>"
   ]
  },
  {
   "cell_type": "raw",
   "id": "9be1ada7-af09-4d82-8d59-cb12f8665acb",
   "metadata": {},
   "source": [
    "1.sigmoid function is a function with S curve.\n",
    "2.It takes any number in inupt and squish it or return it into a range between 0 and 1\n",
    "3.Logistic regression uses sigmoid to predict probabilities.\n",
    "eg:If the output of the sigmoid is close to 0.9, the model might say, \"I'm 90% sure this is a dog.\"69"
   ]
  },
  {
   "cell_type": "code",
   "execution_count": 126,
   "id": "3e5cbd02-a46e-444f-9ba3-f496cd523ca8",
   "metadata": {},
   "outputs": [
    {
     "data": {
      "text/plain": [
       "array([0.5       , 0.73105858, 0.88079708, 0.95257413, 0.98201379,\n",
       "       0.99330715, 0.99752738, 0.99908895, 0.99966465, 0.99987661,\n",
       "       0.9999546 , 0.9999833 , 0.99999386, 0.99999774, 0.99999917,\n",
       "       0.99999969, 0.99999989, 0.99999996, 0.99999998, 0.99999999,\n",
       "       1.        , 1.        , 1.        , 1.        , 1.        ,\n",
       "       1.        , 1.        , 1.        , 1.        , 1.        ,\n",
       "       1.        , 1.        , 1.        , 1.        , 1.        ,\n",
       "       1.        , 1.        , 1.        , 1.        , 1.        ,\n",
       "       1.        , 1.        , 1.        , 1.        , 1.        ,\n",
       "       1.        , 1.        , 1.        , 1.        , 1.        ,\n",
       "       1.        , 1.        , 1.        , 1.        , 1.        ,\n",
       "       1.        , 1.        , 1.        , 1.        , 1.        ,\n",
       "       1.        , 1.        , 1.        , 1.        , 1.        ,\n",
       "       1.        , 1.        , 1.        , 1.        , 1.        ,\n",
       "       1.        , 1.        , 1.        , 1.        , 1.        ,\n",
       "       1.        , 1.        , 1.        , 1.        , 1.        ,\n",
       "       1.        , 1.        , 1.        , 1.        , 1.        ,\n",
       "       1.        , 1.        , 1.        , 1.        , 1.        ,\n",
       "       1.        , 1.        , 1.        , 1.        , 1.        ,\n",
       "       1.        , 1.        , 1.        , 1.        , 1.        ])"
      ]
     },
     "execution_count": 126,
     "metadata": {},
     "output_type": "execute_result"
    }
   ],
   "source": [
    "''''s(x)=1/1+e^x'''\n",
    "def sigmoid(array):\n",
    "    return 1/(1+(np.exp(-(array))))\n",
    "\n",
    "a=np.arange(100)\n",
    "sigmoid(a)"
   ]
  },
  {
   "cell_type": "markdown",
   "id": "4f84b5be-729f-48e1-a3b1-9cf857ef768d",
   "metadata": {},
   "source": [
    "<h3>Mean Square Error</h3>\n",
    "\n",
    "- It is a loss function(it tells the algo by inc or dec which feature the error can be reduced)of linear regression."
   ]
  },
  {
   "cell_type": "code",
   "execution_count": 134,
   "id": "c6d7e456-5e2e-48f4-a366-69798e9306a1",
   "metadata": {},
   "outputs": [],
   "source": [
    "actual=np.random.randint(1,50,25)\n",
    "predicted=np.random.randint(1,50,25)"
   ]
  },
  {
   "cell_type": "code",
   "execution_count": 138,
   "id": "d4eec887-b998-431b-b90d-f2e2f5d46840",
   "metadata": {},
   "outputs": [
    {
     "data": {
      "text/plain": [
       "array([34, 22, 19, 28,  8, 32,  7,  6, 19,  6, 34, 15, 44, 25, 12, 12,  3,\n",
       "        3, 12,  9, 42, 30, 32, 17, 44])"
      ]
     },
     "execution_count": 138,
     "metadata": {},
     "output_type": "execute_result"
    }
   ],
   "source": [
    "predicted"
   ]
  },
  {
   "cell_type": "code",
   "execution_count": 140,
   "id": "729c3b46-6f23-40e8-b82d-749ce9a87685",
   "metadata": {},
   "outputs": [
    {
     "data": {
      "text/plain": [
       "array([42, 13, 38, 18, 45, 49,  2,  6, 12,  9,  4, 21, 13, 31, 48, 16, 35,\n",
       "       29, 33,  3, 28,  4, 11,  4,  8])"
      ]
     },
     "execution_count": 140,
     "metadata": {},
     "output_type": "execute_result"
    }
   ],
   "source": [
    "actual"
   ]
  },
  {
   "cell_type": "code",
   "execution_count": 148,
   "id": "b983c1c5-6146-4d15-a62d-7f8587dd9864",
   "metadata": {},
   "outputs": [
    {
     "data": {
      "text/plain": [
       "421.88"
      ]
     },
     "execution_count": 148,
     "metadata": {},
     "output_type": "execute_result"
    }
   ],
   "source": [
    "def mse(actual,predicted):\n",
    "    return np.mean((actual-predicted)**2)\n",
    "mse(actual,predicted)"
   ]
  },
  {
   "cell_type": "markdown",
   "id": "bf16ec6b-7c1d-455e-98da-8884ffb81f92",
   "metadata": {},
   "source": [
    "<h2>Working with Missing values</h2>"
   ]
  },
  {
   "cell_type": "code",
   "execution_count": 10,
   "id": "0aadac4f-9e49-4ec0-a0be-3a4f93abbca4",
   "metadata": {},
   "outputs": [
    {
     "data": {
      "text/plain": [
       "array([ 1.,  2.,  3.,  4., nan,  6.])"
      ]
     },
     "execution_count": 10,
     "metadata": {},
     "output_type": "execute_result"
    }
   ],
   "source": [
    "'''np.nan'''\n",
    "import numpy as np\n",
    "a=np.array([1,2,3,4,np.nan,6])\n",
    "a"
   ]
  },
  {
   "cell_type": "code",
   "execution_count": 18,
   "id": "3d512169-563c-4e9c-aa6d-3a60885f6d0b",
   "metadata": {},
   "outputs": [
    {
     "data": {
      "text/plain": [
       "array([False, False, False, False,  True, False])"
      ]
     },
     "execution_count": 18,
     "metadata": {},
     "output_type": "execute_result"
    }
   ],
   "source": [
    "''' isnan():this func asks each element of array that is this a null value or not'''\n",
    "np.isnan(a)"
   ]
  },
  {
   "cell_type": "code",
   "execution_count": 26,
   "id": "fc262965-a657-428a-bd0a-e79c4da2788f",
   "metadata": {},
   "outputs": [
    {
     "data": {
      "text/plain": [
       "array([1., 2., 3., 4., 6.])"
      ]
     },
     "execution_count": 26,
     "metadata": {},
     "output_type": "execute_result"
    }
   ],
   "source": [
    "a[~np.isnan(a)]"
   ]
  },
  {
   "cell_type": "markdown",
   "id": "ad25e4cc-5025-498f-94f9-3cfe6b12255b",
   "metadata": {},
   "source": [
    "<h2>Plotting Graphs</h2>"
   ]
  },
  {
   "cell_type": "code",
   "execution_count": 44,
   "id": "070ea07e-fd4d-437e-aede-2f1584d010c4",
   "metadata": {},
   "outputs": [
    {
     "data": {
      "text/plain": [
       "[<matplotlib.lines.Line2D at 0x2b76a747fb0>]"
      ]
     },
     "execution_count": 44,
     "metadata": {},
     "output_type": "execute_result"
    },
    {
     "data": {
      "image/png": "[encoded data removed]",
      "text/plain": [
       "<Figure size 640x480 with 1 Axes>"
      ]
     },
     "metadata": {},
     "output_type": "display_data"
    }
   ],
   "source": [
    "''' plot a graph of x=y'''\n",
    "import matplotlib.pyplot as plt\n",
    "x=np.linspace(-10,10,100)\n",
    "y=x\n",
    "plt.plot(x,y)"
   ]
  },
  {
   "cell_type": "code",
   "execution_count": 52,
   "id": "3a5210ba-beab-45a1-ab35-34e2cbec33d0",
   "metadata": {},
   "outputs": [
    {
     "name": "stdout",
     "output_type": "stream",
     "text": [
      "[-10.          -9.59183673  -9.18367347  -8.7755102   -8.36734694\n",
      "  -7.95918367  -7.55102041  -7.14285714  -6.73469388  -6.32653061\n",
      "  -5.91836735  -5.51020408  -5.10204082  -4.69387755  -4.28571429\n",
      "  -3.87755102  -3.46938776  -3.06122449  -2.65306122  -2.24489796\n",
      "  -1.83673469  -1.42857143  -1.02040816  -0.6122449   -0.20408163\n",
      "   0.20408163   0.6122449    1.02040816   1.42857143   1.83673469\n",
      "   2.24489796   2.65306122   3.06122449   3.46938776   3.87755102\n",
      "   4.28571429   4.69387755   5.10204082   5.51020408   5.91836735\n",
      "   6.32653061   6.73469388   7.14285714   7.55102041   7.95918367\n",
      "   8.36734694   8.7755102    9.18367347   9.59183673  10.        ]\n"
     ]
    },
    {
     "data": {
      "text/plain": [
       "array([1.00000000e+02, 9.20033319e+01, 8.43398584e+01, 7.70095793e+01,\n",
       "       7.00124948e+01, 6.33486047e+01, 5.70179092e+01, 5.10204082e+01,\n",
       "       4.53561016e+01, 4.00249896e+01, 3.50270721e+01, 3.03623490e+01,\n",
       "       2.60308205e+01, 2.20324865e+01, 1.83673469e+01, 1.50354019e+01,\n",
       "       1.20366514e+01, 9.37109538e+00, 7.03873386e+00, 5.03956685e+00,\n",
       "       3.37359434e+00, 2.04081633e+00, 1.04123282e+00, 3.74843815e-01,\n",
       "       4.16493128e-02, 4.16493128e-02, 3.74843815e-01, 1.04123282e+00,\n",
       "       2.04081633e+00, 3.37359434e+00, 5.03956685e+00, 7.03873386e+00,\n",
       "       9.37109538e+00, 1.20366514e+01, 1.50354019e+01, 1.83673469e+01,\n",
       "       2.20324865e+01, 2.60308205e+01, 3.03623490e+01, 3.50270721e+01,\n",
       "       4.00249896e+01, 4.53561016e+01, 5.10204082e+01, 5.70179092e+01,\n",
       "       6.33486047e+01, 7.00124948e+01, 7.70095793e+01, 8.43398584e+01,\n",
       "       9.20033319e+01, 1.00000000e+02])"
      ]
     },
     "execution_count": 52,
     "metadata": {},
     "output_type": "execute_result"
    }
   ],
   "source": [
    "'''y=x^2 (parabola)'''\n",
    "x=np.linspace(-10,10,50)\n",
    "print(x)\n",
    "y=x**2\n",
    "y"
   ]
  },
  {
   "cell_type": "code",
   "execution_count": 56,
   "id": "0286db53-d5f0-431e-a288-70f31534e307",
   "metadata": {},
   "outputs": [
    {
     "data": {
      "text/plain": [
       "[<matplotlib.lines.Line2D at 0x2b76a780f20>]"
      ]
     },
     "execution_count": 56,
     "metadata": {},
     "output_type": "execute_result"
    },
    {
     "data": {
      "image/png": "[encoded data removed]",
      "text/plain": [
       "<Figure size 640x480 with 1 Axes>"
      ]
     },
     "metadata": {},
     "output_type": "display_data"
    }
   ],
   "source": [
    "plt.plot(x,y)"
   ]
  },
  {
   "cell_type": "code",
   "execution_count": 60,
   "id": "66d16240-ec01-4512-ac87-68a0a327dab4",
   "metadata": {},
   "outputs": [
    {
     "data": {
      "text/plain": [
       "[<matplotlib.lines.Line2D at 0x2b76a895ac0>]"
      ]
     },
     "execution_count": 60,
     "metadata": {},
     "output_type": "execute_result"
    },
    {
     "data": {
      "image/png": "[encoded data removed]",
      "text/plain": [
       "<Figure size 640x480 with 1 Axes>"
      ]
     },
     "metadata": {},
     "output_type": "display_data"
    }
   ],
   "source": [
    "'''y=sinx'''\n",
    "x=np.linspace(-10,10,20)\n",
    "y=np.sin(x)\n",
    "plt.plot(x,y)"
   ]
  },
  {
   "cell_type": "code",
   "execution_count": 78,
   "id": "36feca43-aeb0-4af2-8db8-aee8ae91e069",
   "metadata": {},
   "outputs": [
    {
     "data": {
      "text/plain": [
       "[<matplotlib.lines.Line2D at 0x2b768ee4320>]"
      ]
     },
     "execution_count": 78,
     "metadata": {},
     "output_type": "execute_result"
    },
    {
     "data": {
      "image/png": "[encoded data removed]",
      "text/plain": [
       "<Figure size 640x480 with 1 Axes>"
      ]
     },
     "metadata": {},
     "output_type": "display_data"
    }
   ],
   "source": [
    "''' y=xlog(x)'''\n",
    "x=np.linspace(0.1,10,100)\n",
    "y=x * np.log(x)\n",
    "plt.plot(x,y)"
   ]
  },
  {
   "cell_type": "code",
   "execution_count": 90,
   "id": "b66db78d-67b4-419f-b130-f41b205d1b72",
   "metadata": {},
   "outputs": [
    {
     "data": {
      "text/plain": [
       "[<matplotlib.lines.Line2D at 0x2b76b08cbc0>]"
      ]
     },
     "execution_count": 90,
     "metadata": {},
     "output_type": "execute_result"
    },
    {
     "data": {
      "image/png": "[encoded data removed]",
      "text/plain": [
       "<Figure size 640x480 with 1 Axes>"
      ]
     },
     "metadata": {},
     "output_type": "display_data"
    }
   ],
   "source": [
    "'''sigmoid'''\n",
    "x=np.linspace(-10,10,100)\n",
    "y=1/(1+np.exp(-x))\n",
    "plt.plot(x,y)"
   ]
  },
  {
   "cell_type": "markdown",
   "id": "c5c3a670-47c8-4ba7-9961-f9ed86d153e2",
   "metadata": {},
   "source": [
    "<h2>NumPy Functions</h2>"
   ]
  },
  {
   "cell_type": "markdown",
   "id": "2ef93c9a-6630-4b15-9050-addc67479520",
   "metadata": {},
   "source": [
    "<h2>np.sort</h2>\n",
    "returns a sorted copy of an array"
   ]
  },
  {
   "cell_type": "code",
   "execution_count": 112,
   "id": "a39cff07-a058-4838-8d02-eba1004f66f6",
   "metadata": {},
   "outputs": [
    {
     "data": {
      "text/plain": [
       "array([66, 70,  2, 38, 78, 38, 80, 89,  2, 16, 72, 29, 20,  5, 86])"
      ]
     },
     "execution_count": 112,
     "metadata": {},
     "output_type": "execute_result"
    }
   ],
   "source": [
    "import numpy as np\n",
    "a=np.random.randint(1,100,15)\n",
    "a"
   ]
  },
  {
   "cell_type": "code",
   "execution_count": 118,
   "id": "7f3cbf8e-137b-45fd-b347-80b051680113",
   "metadata": {},
   "outputs": [
    {
     "data": {
      "text/plain": [
       "array([[78, 80, 79, 47],\n",
       "       [41, 49, 24,  1],\n",
       "       [99, 79, 90, 56],\n",
       "       [54, 37,  7, 86],\n",
       "       [49, 66, 80, 82],\n",
       "       [57, 58, 11, 16]])"
      ]
     },
     "execution_count": 118,
     "metadata": {},
     "output_type": "execute_result"
    }
   ],
   "source": [
    "b=np.random.randint(1,100,24).reshape(6,4)\n",
    "b"
   ]
  },
  {
   "cell_type": "code",
   "execution_count": 122,
   "id": "1709556b-3eda-49b0-b0a6-f1dd3a76cf2a",
   "metadata": {},
   "outputs": [
    {
     "name": "stdout",
     "output_type": "stream",
     "text": [
      "[66 70  2 38 78 38 80 89  2 16 72 29 20  5 86]\n"
     ]
    },
    {
     "data": {
      "text/plain": [
       "array([ 2,  2,  5, 16, 20, 29, 38, 38, 66, 70, 72, 78, 80, 86, 89])"
      ]
     },
     "execution_count": 122,
     "metadata": {},
     "output_type": "execute_result"
    }
   ],
   "source": [
    "print(a)\n",
    "np.sort(a)"
   ]
  },
  {
   "cell_type": "code",
   "execution_count": 126,
   "id": "ecf20662-e813-4b4e-900d-c2fd9d122ac8",
   "metadata": {},
   "outputs": [
    {
     "name": "stdout",
     "output_type": "stream",
     "text": [
      "[[78 80 79 47]\n",
      " [41 49 24  1]\n",
      " [99 79 90 56]\n",
      " [54 37  7 86]\n",
      " [49 66 80 82]\n",
      " [57 58 11 16]]\n"
     ]
    },
    {
     "data": {
      "text/plain": [
       "array([[47, 78, 79, 80],\n",
       "       [ 1, 24, 41, 49],\n",
       "       [56, 79, 90, 99],\n",
       "       [ 7, 37, 54, 86],\n",
       "       [49, 66, 80, 82],\n",
       "       [11, 16, 57, 58]])"
      ]
     },
     "execution_count": 126,
     "metadata": {},
     "output_type": "execute_result"
    }
   ],
   "source": [
    "print(b)\n",
    "np.sort(b)"
   ]
  },
  {
   "cell_type": "code",
   "execution_count": 132,
   "id": "f55ef718-858e-4b3c-9492-ca2cfc7001de",
   "metadata": {},
   "outputs": [
    {
     "data": {
      "text/plain": [
       "array([[41, 37,  7,  1],\n",
       "       [49, 49, 11, 16],\n",
       "       [54, 58, 24, 47],\n",
       "       [57, 66, 79, 56],\n",
       "       [78, 79, 80, 82],\n",
       "       [99, 80, 90, 86]])"
      ]
     },
     "execution_count": 132,
     "metadata": {},
     "output_type": "execute_result"
    }
   ],
   "source": [
    "np.sort(b,axis=0) #column wise sorting"
   ]
  },
  {
   "cell_type": "code",
   "execution_count": 134,
   "id": "ff21237c-ceaa-42bd-83a4-5b8b8ddfe2ae",
   "metadata": {},
   "outputs": [
    {
     "data": {
      "text/plain": [
       "array([[11, 16, 57, 58],\n",
       "       [49, 66, 80, 82],\n",
       "       [ 7, 37, 54, 86],\n",
       "       [56, 79, 90, 99],\n",
       "       [ 1, 24, 41, 49],\n",
       "       [47, 78, 79, 80]])"
      ]
     },
     "execution_count": 134,
     "metadata": {},
     "output_type": "execute_result"
    }
   ],
   "source": [
    "np.sort(b)[::-1]"
   ]
  },
  {
   "cell_type": "markdown",
   "id": "4ac710a5-a6fe-48fe-8c3d-1ecd6201feee",
   "metadata": {},
   "source": [
    "<h2>np.append</h2>\n",
    "append values along the mentioned axis at the end of array"
   ]
  },
  {
   "cell_type": "code",
   "execution_count": 144,
   "id": "3d6b92c1-4018-4ce8-9564-0a8ba1eea864",
   "metadata": {},
   "outputs": [],
   "source": [
    "b=np.random.randint(1,100,24).reshape(6,4)"
   ]
  },
  {
   "cell_type": "code",
   "execution_count": 141,
   "id": "9f04209b-f1b9-4e3c-bc10-64de63312027",
   "metadata": {},
   "outputs": [
    {
     "name": "stdout",
     "output_type": "stream",
     "text": [
      "[41 83 12 80 91 82 58 59 23  2 25 71 44 56 79 99  2 70 32  8]\n"
     ]
    },
    {
     "data": {
      "text/plain": [
       "array([ 41,  83,  12,  80,  91,  82,  58,  59,  23,   2,  25,  71,  44,\n",
       "        56,  79,  99,   2,  70,  32,   8, 200])"
      ]
     },
     "execution_count": 141,
     "metadata": {},
     "output_type": "execute_result"
    }
   ],
   "source": [
    "a=np.random.randint(1,100,20)\n",
    "print(a)\n",
    "np.append(a,200)"
   ]
  },
  {
   "cell_type": "code",
   "execution_count": 170,
   "id": "afd9ea83-1d7a-4b0c-a875-62adca9e0cac",
   "metadata": {},
   "outputs": [
    {
     "name": "stdout",
     "output_type": "stream",
     "text": [
      "[[11 76 49 60]\n",
      " [35  5 46 96]\n",
      " [77 14 54 58]\n",
      " [50 37 66 99]\n",
      " [19 11 51 23]\n",
      " [79 90 24 18]]\n"
     ]
    },
    {
     "data": {
      "text/plain": [
       "array([[11., 76., 49., 60.,  1.],\n",
       "       [35.,  5., 46., 96.,  1.],\n",
       "       [77., 14., 54., 58.,  1.],\n",
       "       [50., 37., 66., 99.,  1.],\n",
       "       [19., 11., 51., 23.,  1.],\n",
       "       [79., 90., 24., 18.,  1.]])"
      ]
     },
     "execution_count": 170,
     "metadata": {},
     "output_type": "execute_result"
    }
   ],
   "source": [
    "print(b)\n",
    "np.append(b,np.ones((b.shape[0],1)),axis=1)"
   ]
  },
  {
   "cell_type": "markdown",
   "id": "0a2d3222-2d49-425b-9401-2bb9560a5312",
   "metadata": {},
   "source": [
    "<h2>np.concatenate</h2>\n",
    "it concatenate a sequence of arrays along an existing axis"
   ]
  },
  {
   "cell_type": "code",
   "execution_count": 188,
   "id": "fe1fcf12-481e-40aa-9107-505a53f72af8",
   "metadata": {},
   "outputs": [],
   "source": [
    "a=np.random.randint(100,200,24).reshape(6,4)\n",
    "b=np.random.randint(1,100,24).reshape(6,4)"
   ]
  },
  {
   "cell_type": "code",
   "execution_count": 206,
   "id": "4e0f125d-75c0-46e2-abd3-f15f3c3f5db1",
   "metadata": {},
   "outputs": [
    {
     "data": {
      "text/plain": [
       "array([[179, 164, 161, 152],\n",
       "       [170, 148, 196, 120],\n",
       "       [113, 196, 108, 105],\n",
       "       [100, 175, 185, 180],\n",
       "       [120, 134, 115, 179],\n",
       "       [160, 158, 135, 125],\n",
       "       [ 73,  50,  93,  43],\n",
       "       [ 43,  75,  37,  25],\n",
       "       [ 60,  44,  74,  44],\n",
       "       [ 70,  57,  25,  57],\n",
       "       [ 92,  60,  78,  89],\n",
       "       [  1,  77,  11,  94]])"
      ]
     },
     "execution_count": 206,
     "metadata": {},
     "output_type": "execute_result"
    }
   ],
   "source": [
    "np.concatenate((a,b))"
   ]
  },
  {
   "cell_type": "code",
   "execution_count": 212,
   "id": "10c69d31-a693-4307-947f-d09c9da8d59a",
   "metadata": {},
   "outputs": [
    {
     "data": {
      "text/plain": [
       "array([[179, 164, 161, 152,  73,  50,  93,  43],\n",
       "       [170, 148, 196, 120,  43,  75,  37,  25],\n",
       "       [113, 196, 108, 105,  60,  44,  74,  44],\n",
       "       [100, 175, 185, 180,  70,  57,  25,  57],\n",
       "       [120, 134, 115, 179,  92,  60,  78,  89],\n",
       "       [160, 158, 135, 125,   1,  77,  11,  94]])"
      ]
     },
     "execution_count": 212,
     "metadata": {},
     "output_type": "execute_result"
    }
   ],
   "source": [
    "np.concatenate((a,b),axis=1)"
   ]
  },
  {
   "cell_type": "markdown",
   "id": "bc9af154-d4ec-4d05-aa22-2d6889cca91c",
   "metadata": {},
   "source": [
    "<h2>np.unique</h2>\n",
    "with the help of np.unique() method , we can get the unique values from an array given \n",
    "as parameter in np.unique() method."
   ]
  },
  {
   "cell_type": "code",
   "execution_count": 220,
   "id": "86b462b2-ab80-41cc-ad46-ac5940e0740b",
   "metadata": {},
   "outputs": [
    {
     "name": "stdout",
     "output_type": "stream",
     "text": [
      "[1 2 3 2 1 4 5 6 2 1 4 6 8 9]\n"
     ]
    },
    {
     "data": {
      "text/plain": [
       "array([1, 2, 3, 4, 5, 6, 8, 9])"
      ]
     },
     "execution_count": 220,
     "metadata": {},
     "output_type": "execute_result"
    }
   ],
   "source": [
    "a=np.array([1,2,3,2,1,4,5,6,2,1,4,6,8,9])\n",
    "print(a)\n",
    "np.unique(a)"
   ]
  },
  {
   "cell_type": "markdown",
   "id": "eb287c47-aafa-4a0a-9b3a-6748c8a473a2",
   "metadata": {},
   "source": [
    "<h2>np.expand_dims</h2>\n",
    "\n",
    "With the help of Numpy.expand_dims() method , we can get the expanded dimension."
   ]
  },
  {
   "cell_type": "code",
   "execution_count": 232,
   "id": "d07b07e2-8dac-4c35-89ae-84d7a23b9dfc",
   "metadata": {},
   "outputs": [
    {
     "data": {
      "text/plain": [
       "(5,)"
      ]
     },
     "execution_count": 232,
     "metadata": {},
     "output_type": "execute_result"
    }
   ],
   "source": [
    "a=np.array([1,2,3,4,5])\n",
    "a.shape #1d\n"
   ]
  },
  {
   "cell_type": "code",
   "execution_count": 236,
   "id": "ab14f731-ec50-47a7-8a98-11f5437c07c5",
   "metadata": {},
   "outputs": [
    {
     "data": {
      "text/plain": [
       "(1, 5)"
      ]
     },
     "execution_count": 236,
     "metadata": {},
     "output_type": "execute_result"
    }
   ],
   "source": [
    "np.expand_dims(a,axis=0).shape"
   ]
  },
  {
   "cell_type": "code",
   "execution_count": 240,
   "id": "67041e6f-a0f3-4eaa-bf67-e897dc30fee1",
   "metadata": {},
   "outputs": [
    {
     "data": {
      "text/plain": [
       "array([[1],\n",
       "       [2],\n",
       "       [3],\n",
       "       [4],\n",
       "       [5]])"
      ]
     },
     "execution_count": 240,
     "metadata": {},
     "output_type": "execute_result"
    }
   ],
   "source": [
    "np.expand_dims(a,axis=1)"
   ]
  },
  {
   "cell_type": "markdown",
   "id": "a57f0dd3-f4f9-4e41-8105-99465ba9e574",
   "metadata": {},
   "source": [
    "<h2>np.where</h2>\n",
    "\n",
    "- np.where(conditon,true,false)\n",
    "- returns the indices of elements in an input array where given condition is satisfied."
   ]
  },
  {
   "cell_type": "code",
   "execution_count": 249,
   "id": "c9fac5e4-3d68-440e-9261-013b9795fb5e",
   "metadata": {},
   "outputs": [
    {
     "data": {
      "text/plain": [
       "array([75, 31, 62, 59, 40, 46, 23, 90, 93, 26, 15, 50, 45, 27, 26, 75, 38,\n",
       "       56, 82, 35,  6, 49, 84,  5, 13, 94, 66, 68, 52, 57, 93, 19, 62, 49,\n",
       "       92, 45, 32, 38, 97, 26, 82, 78, 97, 43, 35, 74, 32, 54, 12, 48])"
      ]
     },
     "execution_count": 249,
     "metadata": {},
     "output_type": "execute_result"
    }
   ],
   "source": [
    "a=np.random.randint(1,100,50)\n",
    "a"
   ]
  },
  {
   "cell_type": "code",
   "execution_count": 255,
   "id": "b740b798-8bca-41ce-a7ad-eda42dac306a",
   "metadata": {},
   "outputs": [
    {
     "data": {
      "text/plain": [
       "(array([ 0,  2,  3,  7,  8, 15, 17, 18, 22, 25, 26, 27, 28, 29, 30, 32, 34,\n",
       "        38, 40, 41, 42, 45, 47], dtype=int64),)"
      ]
     },
     "execution_count": 255,
     "metadata": {},
     "output_type": "execute_result"
    }
   ],
   "source": [
    "np.where(a>50) #it return the indices."
   ]
  },
  {
   "cell_type": "code",
   "execution_count": 263,
   "id": "c9bd30d9-4ab4-4a51-8cc4-f27b3dd94575",
   "metadata": {},
   "outputs": [
    {
     "data": {
      "text/plain": [
       "array([ 1, 31,  1,  1, 40, 46, 23,  1,  1, 26, 15, 50, 45, 27, 26,  1, 38,\n",
       "        1,  1, 35,  6, 49,  1,  5, 13,  1,  1,  1,  1,  1,  1, 19,  1, 49,\n",
       "        1, 45, 32, 38,  1, 26,  1,  1,  1, 43, 35,  1, 32,  1, 12, 48])"
      ]
     },
     "execution_count": 263,
     "metadata": {},
     "output_type": "execute_result"
    }
   ],
   "source": [
    "np.where(a>50,1,a)"
   ]
  },
  {
   "cell_type": "code",
   "execution_count": 269,
   "id": "1ff10bc8-a4e9-4f37-b1e5-2c72ceb5b196",
   "metadata": {},
   "outputs": [
    {
     "data": {
      "text/plain": [
       "array([75, 31,  0, 59,  0,  0, 23,  0, 93,  0, 15,  0, 45, 27,  0, 75,  0,\n",
       "        0,  0, 35,  0, 49,  0,  5, 13,  0,  0,  0,  0, 57, 93, 19,  0, 49,\n",
       "        0, 45,  0,  0, 97,  0,  0,  0, 97, 43, 35,  0,  0,  0,  0,  0])"
      ]
     },
     "execution_count": 269,
     "metadata": {},
     "output_type": "execute_result"
    }
   ],
   "source": [
    "np.where(a%2==0,0,a)"
   ]
  },
  {
   "cell_type": "markdown",
   "id": "e4745079-612f-45d8-a7be-1c8ed6fa1c58",
   "metadata": {},
   "source": [
    "<h2>np.argmax</h2>\n",
    "\n",
    "return the indices of max element of an array in a particular axis"
   ]
  },
  {
   "cell_type": "code",
   "execution_count": 287,
   "id": "1f486851-76dd-45f8-8265-4783f8e14f71",
   "metadata": {},
   "outputs": [
    {
     "data": {
      "text/plain": [
       "array([20, 59, 62, 51, 46, 45, 79,  8, 31, 12, 31, 92, 22, 22, 12,  3, 74,\n",
       "       47, 56, 43])"
      ]
     },
     "execution_count": 287,
     "metadata": {},
     "output_type": "execute_result"
    }
   ],
   "source": [
    "a=np.random.randint(1,100,20)\n",
    "a"
   ]
  },
  {
   "cell_type": "code",
   "execution_count": 289,
   "id": "e1ec237c-b94f-4ae3-a77d-8559bea06292",
   "metadata": {},
   "outputs": [
    {
     "data": {
      "text/plain": [
       "11"
      ]
     },
     "execution_count": 289,
     "metadata": {},
     "output_type": "execute_result"
    }
   ],
   "source": [
    "np.argmax(a,axis=0)"
   ]
  },
  {
   "cell_type": "code",
   "execution_count": 308,
   "id": "4596c769-87ba-4ea6-8f3e-28d5756e7e21",
   "metadata": {},
   "outputs": [
    {
     "data": {
      "text/plain": [
       "array([[ 9],\n",
       "       [13],\n",
       "       [ 1],\n",
       "       [12],\n",
       "       [ 1]])"
      ]
     },
     "execution_count": 308,
     "metadata": {},
     "output_type": "execute_result"
    }
   ],
   "source": [
    "b=np.random.randint(1,20,5).reshape(5,1)\n",
    "b"
   ]
  },
  {
   "cell_type": "code",
   "execution_count": 310,
   "id": "beecd0d2-8a69-4f2b-87e1-8545861a7f38",
   "metadata": {},
   "outputs": [
    {
     "data": {
      "text/plain": [
       "array([1], dtype=int64)"
      ]
     },
     "execution_count": 310,
     "metadata": {},
     "output_type": "execute_result"
    }
   ],
   "source": [
    "np.argmax(b,axis=0)"
   ]
  },
  {
   "cell_type": "code",
   "execution_count": 316,
   "id": "694172d4-7432-4fba-90d4-bca42606aacc",
   "metadata": {},
   "outputs": [
    {
     "data": {
      "text/plain": [
       "array([[ 0,  1,  2,  3],\n",
       "       [ 4,  5,  6,  7],\n",
       "       [ 8,  9, 10, 11]])"
      ]
     },
     "execution_count": 316,
     "metadata": {},
     "output_type": "execute_result"
    }
   ],
   "source": [
    "c=np.arange(12).reshape(3,4)\n",
    "c"
   ]
  },
  {
   "cell_type": "code",
   "execution_count": 336,
   "id": "b3261204-887c-45e1-b0ee-efd2081a8dbf",
   "metadata": {},
   "outputs": [
    {
     "data": {
      "text/plain": [
       "array([2, 2, 2, 2], dtype=int64)"
      ]
     },
     "execution_count": 336,
     "metadata": {},
     "output_type": "execute_result"
    }
   ],
   "source": [
    "'''this is generally used with 1D array'''\n",
    "np.argmax(c,axis=0) #column wise "
   ]
  },
  {
   "cell_type": "code",
   "execution_count": 340,
   "id": "63fd976a-ea1c-4f57-8af1-5e7f9815b0bd",
   "metadata": {},
   "outputs": [
    {
     "data": {
      "text/plain": [
       "0"
      ]
     },
     "execution_count": 340,
     "metadata": {},
     "output_type": "execute_result"
    }
   ],
   "source": [
    "np.argmin(c)"
   ]
  },
  {
   "cell_type": "code",
   "execution_count": 342,
   "id": "bd87a9d1-a533-4e5e-bcb5-7b652f9fcacc",
   "metadata": {},
   "outputs": [
    {
     "data": {
      "text/plain": [
       "array([0, 0, 0, 0], dtype=int64)"
      ]
     },
     "execution_count": 342,
     "metadata": {},
     "output_type": "execute_result"
    }
   ],
   "source": [
    "np.argmin(c,axis=0)"
   ]
  },
  {
   "cell_type": "markdown",
   "id": "a6c168b8-1c8e-40c6-96b1-d0b47a3b26f8",
   "metadata": {},
   "source": [
    "<h2>np.cumsum</h2>\n",
    "\n",
    "it is used when we want to compute the cumulative sum of array elements overa given axis"
   ]
  },
  {
   "cell_type": "code",
   "execution_count": 348,
   "id": "954b51b4-d75a-41e9-8575-8664e5beb584",
   "metadata": {},
   "outputs": [
    {
     "data": {
      "text/plain": [
       "array([ 1, 63, 13, 42, 39,  9, 86, 44, 98, 11, 16, 87, 71, 79, 69, 79,  8,\n",
       "       73, 84, 12])"
      ]
     },
     "execution_count": 348,
     "metadata": {},
     "output_type": "execute_result"
    }
   ],
   "source": [
    "a=np.random.randint(1,100,20)\n",
    "a"
   ]
  },
  {
   "cell_type": "code",
   "execution_count": 350,
   "id": "f32128cc-2979-4bbe-b62a-4c5c9137462f",
   "metadata": {},
   "outputs": [
    {
     "data": {
      "text/plain": [
       "array([  1,  64,  77, 119, 158, 167, 253, 297, 395, 406, 422, 509, 580,\n",
       "       659, 728, 807, 815, 888, 972, 984])"
      ]
     },
     "execution_count": 350,
     "metadata": {},
     "output_type": "execute_result"
    }
   ],
   "source": [
    "np.cumsum(a)"
   ]
  },
  {
   "cell_type": "code",
   "execution_count": 354,
   "id": "434131d1-a05a-48da-91db-257895822c0d",
   "metadata": {},
   "outputs": [
    {
     "data": {
      "text/plain": [
       "array([[45, 94, 82, 45, 13],\n",
       "       [ 2, 20, 66, 59, 50],\n",
       "       [ 3,  2, 62, 95, 68],\n",
       "       [87, 60, 72, 46, 89]])"
      ]
     },
     "execution_count": 354,
     "metadata": {},
     "output_type": "execute_result"
    }
   ],
   "source": [
    "a=np.random.randint(1,100,20).reshape(4,5)\n",
    "a"
   ]
  },
  {
   "cell_type": "code",
   "execution_count": 356,
   "id": "98ebc1ec-1d1b-47a7-8efd-4d8e2f05f58c",
   "metadata": {},
   "outputs": [
    {
     "data": {
      "text/plain": [
       "array([  45,  139,  221,  266,  279,  281,  301,  367,  426,  476,  479,\n",
       "        481,  543,  638,  706,  793,  853,  925,  971, 1060])"
      ]
     },
     "execution_count": 356,
     "metadata": {},
     "output_type": "execute_result"
    }
   ],
   "source": [
    "np.cumsum(a)"
   ]
  },
  {
   "cell_type": "code",
   "execution_count": 360,
   "id": "4e2c635a-2886-434d-82a9-eeb2bcdc54b5",
   "metadata": {},
   "outputs": [
    {
     "data": {
      "text/plain": [
       "array([[ 45,  94,  82,  45,  13],\n",
       "       [ 47, 114, 148, 104,  63],\n",
       "       [ 50, 116, 210, 199, 131],\n",
       "       [137, 176, 282, 245, 220]])"
      ]
     },
     "execution_count": 360,
     "metadata": {},
     "output_type": "execute_result"
    }
   ],
   "source": [
    "np.cumsum(a,axis=0) #column wise"
   ]
  },
  {
   "cell_type": "markdown",
   "id": "f22ba04b-8e8a-4f4f-9ba0-511ff54df4ec",
   "metadata": {},
   "source": [
    "<h2>np.cumprod</h2>"
   ]
  },
  {
   "cell_type": "code",
   "execution_count": 363,
   "id": "16ba87ab-8c48-42be-8495-a10bd97cbaa6",
   "metadata": {},
   "outputs": [
    {
     "data": {
      "text/plain": [
       "array([         45,        4230,      346860,    15608700,   202913100,\n",
       "         405826200,  -473410592, -1180328000,  -919875264,  1250877056,\n",
       "        -542336128, -1084672256,  1469796864, -2103218688, -1284950016,\n",
       "        -121501696,  1299832832,  -901316608,  1489108992,  -613285888])"
      ]
     },
     "execution_count": 363,
     "metadata": {},
     "output_type": "execute_result"
    }
   ],
   "source": [
    "np.cumprod(a)"
   ]
  },
  {
   "cell_type": "markdown",
   "id": "45239ee3-e016-4756-8011-ade3d2495493",
   "metadata": {},
   "source": [
    "<h2>np.percentile</h2>\n",
    "used to compute the nth percentile of the given data(array elements)along specific axis."
   ]
  },
  {
   "cell_type": "code",
   "execution_count": 366,
   "id": "3419b215-741a-496a-8484-302b4d05d9fb",
   "metadata": {},
   "outputs": [
    {
     "data": {
      "text/plain": [
       "array([[45, 94, 82, 45, 13],\n",
       "       [ 2, 20, 66, 59, 50],\n",
       "       [ 3,  2, 62, 95, 68],\n",
       "       [87, 60, 72, 46, 89]])"
      ]
     },
     "execution_count": 366,
     "metadata": {},
     "output_type": "execute_result"
    }
   ],
   "source": [
    "a"
   ]
  },
  {
   "cell_type": "code",
   "execution_count": 374,
   "id": "81bebd52-85da-45d6-9601-9b16e2edce90",
   "metadata": {},
   "outputs": [
    {
     "data": {
      "text/plain": [
       "95.0"
      ]
     },
     "execution_count": 374,
     "metadata": {},
     "output_type": "execute_result"
    }
   ],
   "source": [
    "np.percentile(a,100) #100 percentile is always the maximum number"
   ]
  },
  {
   "cell_type": "code",
   "execution_count": 376,
   "id": "7e355cb2-258f-4fbd-bb88-9be03771ff63",
   "metadata": {},
   "outputs": [
    {
     "data": {
      "text/plain": [
       "2.0"
      ]
     },
     "execution_count": 376,
     "metadata": {},
     "output_type": "execute_result"
    }
   ],
   "source": [
    "np.percentile(a,0)#minimum number"
   ]
  },
  {
   "cell_type": "code",
   "execution_count": 378,
   "id": "86270eec-30b4-4cf1-a0f4-7628275ae3c2",
   "metadata": {},
   "outputs": [
    {
     "data": {
      "text/plain": [
       "59.5"
      ]
     },
     "execution_count": 378,
     "metadata": {},
     "output_type": "execute_result"
    }
   ],
   "source": [
    "np.percentile(a,50)"
   ]
  },
  {
   "cell_type": "code",
   "execution_count": 380,
   "id": "98f0b877-d80b-455f-b331-362872eea98a",
   "metadata": {},
   "outputs": [
    {
     "data": {
      "text/plain": [
       "59.5"
      ]
     },
     "execution_count": 380,
     "metadata": {},
     "output_type": "execute_result"
    }
   ],
   "source": [
    "np.median(a)"
   ]
  },
  {
   "cell_type": "markdown",
   "id": "1cd0d600-fb1f-41bd-8429-b27b1c597ed7",
   "metadata": {},
   "source": [
    "<h2>np.histogram</h2>\n",
    "represent the frequency of data distribution in the graphical form."
   ]
  },
  {
   "cell_type": "code",
   "execution_count": 383,
   "id": "355fcd28-ec4e-4be7-8874-136b02e990e1",
   "metadata": {},
   "outputs": [
    {
     "data": {
      "text/plain": [
       "array([[45, 94, 82, 45, 13],\n",
       "       [ 2, 20, 66, 59, 50],\n",
       "       [ 3,  2, 62, 95, 68],\n",
       "       [87, 60, 72, 46, 89]])"
      ]
     },
     "execution_count": 383,
     "metadata": {},
     "output_type": "execute_result"
    }
   ],
   "source": [
    "a"
   ]
  },
  {
   "cell_type": "code",
   "execution_count": 393,
   "id": "76c2a66f-618d-453a-b597-60d075eb06d1",
   "metadata": {},
   "outputs": [
    {
     "data": {
      "text/plain": [
       "(array([3, 1, 1, 0, 3, 2, 4, 1, 3, 2], dtype=int64),\n",
       " array([  0,  10,  20,  30,  40,  50,  60,  70,  80,  90, 100]))"
      ]
     },
     "execution_count": 393,
     "metadata": {},
     "output_type": "execute_result"
    }
   ],
   "source": [
    "np.histogram(a,bins=[0,10,20,30,40,50,60,70,80,90,100])"
   ]
  },
  {
   "cell_type": "code",
   "execution_count": 397,
   "id": "753dc761-3305-46e1-a903-4d2220bffbe9",
   "metadata": {},
   "outputs": [
    {
     "data": {
      "text/plain": [
       "(array([ 8, 12], dtype=int64), array([  0,  50, 100]))"
      ]
     },
     "execution_count": 397,
     "metadata": {},
     "output_type": "execute_result"
    }
   ],
   "source": [
    "np.histogram(a,bins=[0,50,100])"
   ]
  },
  {
   "cell_type": "markdown",
   "id": "378fd029-ab44-4784-b5f2-cf2080c7a79e",
   "metadata": {},
   "source": [
    "<h2>np.correcoef</h2>\n",
    "\n",
    "return pearson product-moment correlation coefficient."
   ]
  },
  {
   "cell_type": "code",
   "execution_count": 409,
   "id": "f59cfa10-3dba-4f70-b4bc-f601267cec44",
   "metadata": {},
   "outputs": [
    {
     "data": {
      "text/plain": [
       "array([[1.        , 0.04224095],\n",
       "       [0.04224095, 1.        ]])"
      ]
     },
     "execution_count": 409,
     "metadata": {},
     "output_type": "execute_result"
    }
   ],
   "source": [
    "salary=np.array([20000,40000,25000,35000,60000])\n",
    "experience=np.array([1,2,3,4,2])\n",
    "\n",
    "np.corrcoef(salary,experience)"
   ]
  },
  {
   "cell_type": "markdown",
   "id": "b0533c8e-6f31-49f7-8111-33f344da70b1",
   "metadata": {},
   "source": [
    "<h2>np.isin</h2>\n",
    "is used to search multiple items in an array"
   ]
  },
  {
   "cell_type": "code",
   "execution_count": 414,
   "id": "b96bbe1a-d92b-47af-b1bf-d5d06f114188",
   "metadata": {},
   "outputs": [
    {
     "data": {
      "text/plain": [
       "array([[45, 94, 82, 45, 13],\n",
       "       [ 2, 20, 66, 59, 50],\n",
       "       [ 3,  2, 62, 95, 68],\n",
       "       [87, 60, 72, 46, 89]])"
      ]
     },
     "execution_count": 414,
     "metadata": {},
     "output_type": "execute_result"
    }
   ],
   "source": [
    "a"
   ]
  },
  {
   "cell_type": "code",
   "execution_count": 420,
   "id": "1440dc0b-c44c-4567-8951-c530b87ba2da",
   "metadata": {},
   "outputs": [
    {
     "data": {
      "text/plain": [
       "array([ 2,  2, 89])"
      ]
     },
     "execution_count": 420,
     "metadata": {},
     "output_type": "execute_result"
    }
   ],
   "source": [
    "items=[1,2,4,67,89]\n",
    "a[np.isin(a,items)]"
   ]
  },
  {
   "cell_type": "markdown",
   "id": "25634e9b-af4f-4593-9c49-746671ffb488",
   "metadata": {},
   "source": [
    "<h2>np.flip</h2>\n",
    "\n",
    "it reverse the order of array elements along the specified axis,preserving the shape of the array."
   ]
  },
  {
   "cell_type": "code",
   "execution_count": 424,
   "id": "f38413c7-dc1d-4dbd-8a11-948147f080a9",
   "metadata": {},
   "outputs": [
    {
     "data": {
      "text/plain": [
       "array([[45, 94, 82, 45, 13],\n",
       "       [ 2, 20, 66, 59, 50],\n",
       "       [ 3,  2, 62, 95, 68],\n",
       "       [87, 60, 72, 46, 89]])"
      ]
     },
     "execution_count": 424,
     "metadata": {},
     "output_type": "execute_result"
    }
   ],
   "source": [
    "a"
   ]
  },
  {
   "cell_type": "code",
   "execution_count": 426,
   "id": "39dd58db-1a85-420e-90c1-a694f9bc6ced",
   "metadata": {},
   "outputs": [
    {
     "data": {
      "text/plain": [
       "array([[89, 46, 72, 60, 87],\n",
       "       [68, 95, 62,  2,  3],\n",
       "       [50, 59, 66, 20,  2],\n",
       "       [13, 45, 82, 94, 45]])"
      ]
     },
     "execution_count": 426,
     "metadata": {},
     "output_type": "execute_result"
    }
   ],
   "source": [
    "np.flip(a)\n"
   ]
  },
  {
   "cell_type": "code",
   "execution_count": 428,
   "id": "e634a19c-05d1-4bbb-acff-485c6fb198ca",
   "metadata": {},
   "outputs": [
    {
     "data": {
      "text/plain": [
       "array([[87, 60, 72, 46, 89],\n",
       "       [ 3,  2, 62, 95, 68],\n",
       "       [ 2, 20, 66, 59, 50],\n",
       "       [45, 94, 82, 45, 13]])"
      ]
     },
     "execution_count": 428,
     "metadata": {},
     "output_type": "execute_result"
    }
   ],
   "source": [
    "np.flip(a,axis=0)"
   ]
  },
  {
   "cell_type": "markdown",
   "id": "e3972cf4-600c-4bf1-84ec-49bfb7125c52",
   "metadata": {},
   "source": [
    "<h2>np.put</h2>\n",
    "\n",
    "- it used to replace specific elements of an array with given values.\n",
    "- the changes made are permanent."
   ]
  },
  {
   "cell_type": "code",
   "execution_count": 432,
   "id": "8ee52787-c251-4119-bd34-8a9de9d78bc6",
   "metadata": {},
   "outputs": [
    {
     "data": {
      "text/plain": [
       "array([[45, 94, 82, 45, 13],\n",
       "       [ 2, 20, 66, 59, 50],\n",
       "       [ 3,  2, 62, 95, 68],\n",
       "       [87, 60, 72, 46, 89]])"
      ]
     },
     "execution_count": 432,
     "metadata": {},
     "output_type": "execute_result"
    }
   ],
   "source": [
    "a"
   ]
  },
  {
   "cell_type": "code",
   "execution_count": 434,
   "id": "24d3b75c-094e-4c89-9e64-c2ae73246207",
   "metadata": {},
   "outputs": [],
   "source": [
    "np.put(a,[0,1],[10,20])"
   ]
  },
  {
   "cell_type": "code",
   "execution_count": 437,
   "id": "3f8d08bb-933a-4db9-9c82-14fc6fadef0c",
   "metadata": {},
   "outputs": [
    {
     "data": {
      "text/plain": [
       "array([[10, 20, 82, 45, 13],\n",
       "       [ 2, 20, 66, 59, 50],\n",
       "       [ 3,  2, 62, 95, 68],\n",
       "       [87, 60, 72, 46, 89]])"
      ]
     },
     "execution_count": 437,
     "metadata": {},
     "output_type": "execute_result"
    }
   ],
   "source": [
    "a"
   ]
  },
  {
   "cell_type": "markdown",
   "id": "e65ad1ea-e86a-4d6e-ae97-1a6e9364d577",
   "metadata": {},
   "source": [
    "<h2>np.delete</h2>\n",
    "\n",
    "returns a new array with the deletion of sub -arrays alone axis."
   ]
  },
  {
   "cell_type": "code",
   "execution_count": 441,
   "id": "989166d5-a15b-4c39-8361-00cb2c7b5938",
   "metadata": {},
   "outputs": [
    {
     "data": {
      "text/plain": [
       "array([[10, 20, 82, 45, 13],\n",
       "       [ 2, 20, 66, 59, 50],\n",
       "       [ 3,  2, 62, 95, 68],\n",
       "       [87, 60, 72, 46, 89]])"
      ]
     },
     "execution_count": 441,
     "metadata": {},
     "output_type": "execute_result"
    }
   ],
   "source": [
    "a"
   ]
  },
  {
   "cell_type": "code",
   "execution_count": 447,
   "id": "69d3ec3d-461c-465b-8a23-108b7d2f1104",
   "metadata": {},
   "outputs": [
    {
     "data": {
      "text/plain": [
       "array([20, 45, 13,  2, 20, 66, 59, 50,  3,  2, 62, 95, 68, 87, 60, 72, 46,\n",
       "       89])"
      ]
     },
     "execution_count": 447,
     "metadata": {},
     "output_type": "execute_result"
    }
   ],
   "source": [
    "np.delete(a,[0,2])"
   ]
  },
  {
   "cell_type": "markdown",
   "id": "aef997df-ef5b-4ff1-85de-b35910c2e66f",
   "metadata": {},
   "source": [
    "<h2>set functions</h2>\n",
    "\n",
    "- 1.np.union1d\n",
    "- 2.np.intersect1d\n",
    "- 3.np.setdiff1d\n",
    "- 4.np.setxor1d\n",
    "- 5.np.in1d"
   ]
  },
  {
   "cell_type": "code",
   "execution_count": 9,
   "id": "2b5dae6e-cebd-4288-92a7-9aec6636ff7b",
   "metadata": {},
   "outputs": [],
   "source": [
    "import numpy as np\n",
    "arr=np.arange(20).reshape(5,4)"
   ]
  },
  {
   "cell_type": "code",
   "execution_count": 11,
   "id": "d7e45552-7ba1-430e-a809-221efc790ffc",
   "metadata": {},
   "outputs": [
    {
     "data": {
      "text/plain": [
       "array([[ 0,  1,  2,  3],\n",
       "       [ 4,  5,  6,  7],\n",
       "       [ 8,  9, 10, 11],\n",
       "       [12, 13, 14, 15],\n",
       "       [16, 17, 18, 19]])"
      ]
     },
     "execution_count": 11,
     "metadata": {},
     "output_type": "execute_result"
    }
   ],
   "source": [
    "arr"
   ]
  },
  {
   "cell_type": "code",
   "execution_count": 15,
   "id": "2b1d74ac-9423-4f4b-a941-53b829fbd4b9",
   "metadata": {},
   "outputs": [
    {
     "data": {
      "text/plain": [
       "array([[False, False, False, False],\n",
       "       [False, False,  True,  True],\n",
       "       [ True,  True,  True,  True],\n",
       "       [ True,  True,  True,  True],\n",
       "       [ True,  True,  True,  True]])"
      ]
     },
     "execution_count": 15,
     "metadata": {},
     "output_type": "execute_result"
    }
   ],
   "source": [
    "arr>5"
   ]
  },
  {
   "cell_type": "code",
   "execution_count": 21,
   "id": "926025cb-87da-436d-b88c-9b87fe72aebc",
   "metadata": {},
   "outputs": [
    {
     "ename": "AttributeError",
     "evalue": "'numpy.ndarray' object has no attribute 'axis'",
     "output_type": "error",
     "traceback": [
      "\u001b[1;31m---------------------------------------------------------------------------\u001b[0m",
      "\u001b[1;31mAttributeError\u001b[0m                            Traceback (most recent call last)",
      "Cell \u001b[1;32mIn[21], line 1\u001b[0m\n\u001b[1;32m----> 1\u001b[0m arr[arr\u001b[38;5;241m>\u001b[39m\u001b[38;5;241m5\u001b[39m]\u001b[38;5;241m.\u001b[39maxis\u001b[38;5;241m=\u001b[39m\u001b[38;5;241m0\u001b[39m\n",
      "\u001b[1;31mAttributeError\u001b[0m: 'numpy.ndarray' object has no attribute 'axis'"
     ]
    }
   ],
   "source": [
    "arr[arr>5]"
   ]
  },
  {
   "cell_type": "code",
   "execution_count": 7,
   "id": "ebed6122-1611-45cb-a9e8-3eb1980f899d",
   "metadata": {},
   "outputs": [
    {
     "ename": "TypeError",
     "evalue": "Field elements must be 2- or 3-tuples, got '2'",
     "output_type": "error",
     "traceback": [
      "\u001b[1;31m---------------------------------------------------------------------------\u001b[0m",
      "\u001b[1;31mTypeError\u001b[0m                                 Traceback (most recent call last)",
      "Cell \u001b[1;32mIn[7], line 2\u001b[0m\n\u001b[0;32m      1\u001b[0m \u001b[38;5;28;01mimport\u001b[39;00m \u001b[38;5;21;01mnumpy\u001b[39;00m \u001b[38;5;28;01mas\u001b[39;00m \u001b[38;5;21;01mnp\u001b[39;00m\n\u001b[1;32m----> 2\u001b[0m arr\u001b[38;5;241m=\u001b[39mnp\u001b[38;5;241m.\u001b[39marray(([\u001b[38;5;241m1\u001b[39m,\u001b[38;5;241m2\u001b[39m,\u001b[38;5;241m3\u001b[39m,np\u001b[38;5;241m.\u001b[39mnan]),\n\u001b[0;32m      3\u001b[0m             ( [\u001b[38;5;241m2\u001b[39m,\u001b[38;5;241m3\u001b[39m,np\u001b[38;5;241m.\u001b[39mnan,\u001b[38;5;241m5\u001b[39m]))\n",
      "\u001b[1;31mTypeError\u001b[0m: Field elements must be 2- or 3-tuples, got '2'"
     ]
    }
   ],
   "source": [
    "import numpy as np\n",
    "arr=np.array(([1,2,3,np.nan]),\n",
    "            ( [2,3,np.nan,5]))"
   ]
  },
  {
   "cell_type": "code",
   "execution_count": null,
   "id": "fcaa591e-4712-462d-a01c-0e6ca291424d",
   "metadata": {},
   "outputs": [],
   "source": []
  }
 ],
 "metadata": {
  "kernelspec": {
   "display_name": "Python 3 (ipykernel)",
   "language": "python",
   "name": "python3"
  },
  "language_info": {
   "codemirror_mode": {
    "name": "ipython",
    "version": 3
   },
   "file_extension": ".py",
   "mimetype": "text/x-python",
   "name": "python",
   "nbconvert_exporter": "python",
   "pygments_lexer": "ipython3",
   "version": "3.12.4"
  }
 },
 "nbformat": 4,
 "nbformat_minor": 5
}
